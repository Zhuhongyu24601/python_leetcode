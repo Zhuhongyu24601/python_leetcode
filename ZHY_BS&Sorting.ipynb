{
 "cells": [
  {
   "cell_type": "markdown",
   "metadata": {},
   "source": [
    "# Binary Search\n",
    "1.有限区间【每一次确定start,mid,end】\n",
    "\n",
    "2.有序区间\n",
    "\n",
    "3.判断下一步 是左边，还是右边区间【减治】"
   ]
  },
  {
   "cell_type": "code",
   "execution_count": 66,
   "metadata": {},
   "outputs": [
    {
     "data": {
      "text/plain": [
       "[2, 4, 7, 15, 21, 32, 33, 65, 80]"
      ]
     },
     "execution_count": 66,
     "metadata": {},
     "output_type": "execute_result"
    }
   ],
   "source": [
    "s =[4,15,65,7,2,32,33,80,21]\n",
    "t =2\n",
    "s.sort()\n",
    "s"
   ]
  },
  {
   "cell_type": "markdown",
   "metadata": {},
   "source": [
    "### 递归"
   ]
  },
  {
   "cell_type": "code",
   "execution_count": 48,
   "metadata": {},
   "outputs": [],
   "source": [
    "def BiS(arr,target):\n",
    "    if len(arr)==0:\n",
    "        return -1\n",
    "    mid= len(arr)//2\n",
    "    if arr[mid]==target:\n",
    "        return mid\n",
    "    elif arr[mid]>target:\n",
    "        return  Bis(arr[:mid],target)\n",
    "    else:\n",
    "        return Bis(arr[mid+1:],target)"
   ]
  },
  {
   "cell_type": "code",
   "execution_count": 49,
   "metadata": {},
   "outputs": [
    {
     "name": "stdout",
     "output_type": "stream",
     "text": [
      "2\n",
      "-1\n"
     ]
    }
   ],
   "source": [
    "s =[1,2,3,4,6,55,100,123]\n",
    "t =3\n",
    "print(BiS(s,t))\n",
    "print(BiS(s,5))"
   ]
  },
  {
   "cell_type": "markdown",
   "metadata": {},
   "source": [
    "### 迭代"
   ]
  },
  {
   "cell_type": "code",
   "execution_count": 45,
   "metadata": {},
   "outputs": [],
   "source": [
    "def BS(arr,target):\n",
    "    start =0\n",
    "    end =len(arr)-1\n",
    "    \n",
    "    while start<=end:\n",
    "#   start,end 在loop 里面更新，所以mid也要放在里面\n",
    "        mid =start+(end-start)//2\n",
    "        \n",
    "        if arr[mid]==target:\n",
    "            return mid\n",
    "        \n",
    "        elif arr[mid]<target:\n",
    "            start=mid+1\n",
    "        \n",
    "        else:\n",
    "            end =mid-1        \n",
    "    \n",
    "    if start>end:\n",
    "        return -1"
   ]
  },
  {
   "cell_type": "code",
   "execution_count": 46,
   "metadata": {},
   "outputs": [
    {
     "name": "stdout",
     "output_type": "stream",
     "text": [
      "7\n"
     ]
    }
   ],
   "source": [
    "print(BS([1,2,4,5,7,8,9,11,25,62,74],11))"
   ]
  },
  {
   "cell_type": "code",
   "execution_count": 47,
   "metadata": {},
   "outputs": [
    {
     "name": "stdout",
     "output_type": "stream",
     "text": [
      "-1\n"
     ]
    }
   ],
   "source": [
    "print(BS([1,2,4,5,7,8,9,11,25,62,74],99))"
   ]
  },
  {
   "cell_type": "markdown",
   "metadata": {},
   "source": [
    "### 找最大值的index"
   ]
  },
  {
   "cell_type": "code",
   "execution_count": 10,
   "metadata": {},
   "outputs": [],
   "source": [
    "\n",
    "# find the largest element index\n",
    "def BS(arr):\n",
    "    start =0\n",
    "    end =len(arr)-1\n",
    "    if start>end:\n",
    "        return -1\n",
    "    \n",
    "    while start<=end:\n",
    "        \n",
    "        mid =start+(end-start)//2\n",
    "       \n",
    "        if arr[mid-1]<arr[mid] and arr[mid+1]<arr[mid]:\n",
    "#             如果 比 前边大，也比后边大，就是目标下标\n",
    "            return mid\n",
    "        \n",
    "        \n",
    "        \n",
    "        elif arr[mid-1]<arr[mid] and arr[mid]<arr[mid+1]:\n",
    "#             如果是递增，就到 右边找\n",
    "            start =mid+1\n",
    "          \n",
    "        else:\n",
    "            #  如果是递减，就到 左边找\n",
    "            end =mid-1\n",
    "       "
   ]
  },
  {
   "cell_type": "code",
   "execution_count": 12,
   "metadata": {},
   "outputs": [
    {
     "data": {
      "text/plain": [
       "5"
      ]
     },
     "execution_count": 12,
     "metadata": {},
     "output_type": "execute_result"
    }
   ],
   "source": [
    "BS([1,2,9,10,13,33,21,15,5,3,0])"
   ]
  },
  {
   "cell_type": "markdown",
   "metadata": {},
   "source": [
    "### pow(x,n)"
   ]
  },
  {
   "cell_type": "code",
   "execution_count": 89,
   "metadata": {},
   "outputs": [],
   "source": [
    "def myPow(x,n):\n",
    "    if n < 0:\n",
    "        x = 1/x\n",
    "        n = -n\n",
    "\n",
    "    if n == 0:\n",
    "        return 1\n",
    "    if n == 1:\n",
    "        return x\n",
    "\n",
    "    if n % 2 == 0:\n",
    "        return myPow(x, n/2)**2\n",
    "    else:\n",
    "        return myPow(x, n-1) * x"
   ]
  },
  {
   "cell_type": "code",
   "execution_count": 90,
   "metadata": {},
   "outputs": [
    {
     "name": "stdout",
     "output_type": "stream",
     "text": [
      "1\n",
      "32\n",
      "1024\n",
      "27\n"
     ]
    }
   ],
   "source": [
    "print(myPow(1,5))\n",
    "print(myPow(2,5))\n",
    "print(myPow(2,10))\n",
    "print(myPow(3,3))"
   ]
  },
  {
   "cell_type": "markdown",
   "metadata": {},
   "source": [
    "### sqrt(x)"
   ]
  },
  {
   "cell_type": "code",
   "execution_count": 76,
   "metadata": {},
   "outputs": [],
   "source": [
    "def sqrt(a,b):\n",
    "    l =0\n",
    "    h =a\n",
    "    if a>1:\n",
    "        res=(l+h)/2\n",
    "    elif a<1:\n",
    "        res =(l+h)*2\n",
    "    else:\n",
    "        res =1\n",
    "        \n",
    "    while abs(res**b-a)>0.01 and a>1:\n",
    "        if res**b<a:\n",
    "            l =res\n",
    "        else:\n",
    "            h =res\n",
    "        res =(l+h)/2\n",
    "\n",
    "    while abs(res**b-a)<0.01 and a<1:\n",
    "        if res**b>a:\n",
    "            h =res\n",
    "        else:\n",
    "            l =res\n",
    "        res =(l+h)*2\n",
    "        \n",
    "    return res "
   ]
  },
  {
   "cell_type": "code",
   "execution_count": 88,
   "metadata": {},
   "outputs": [
    {
     "name": "stdout",
     "output_type": "stream",
     "text": [
      "1\n",
      "2.0\n",
      "5.000010132789612\n",
      "0.32\n"
     ]
    }
   ],
   "source": [
    "print(sqrt(1,4))\n",
    "print(sqrt(16,4))\n",
    "print(sqrt(625,4))\n",
    "print(sqrt(0.16,4))"
   ]
  },
  {
   "cell_type": "markdown",
   "metadata": {},
   "source": [
    "### 搜索插入位置"
   ]
  },
  {
   "cell_type": "code",
   "execution_count": null,
   "metadata": {},
   "outputs": [],
   "source": [
    "class Solution:\n",
    "    def searchInsert(self, nums: List[int], target: int):\n",
    "            # two pointers\n",
    "        start =0\n",
    "        end =len(nums)-1\n",
    "\n",
    "        while start<=end:\n",
    "            midd=start+(end-start)//2\n",
    "            if nums[midd]==target:\n",
    "        #             print('1')\n",
    "                return midd\n",
    "\n",
    "            elif nums[midd]>target:          \n",
    "                if midd==0 or nums[midd-1]<target:\n",
    "        #                 print('2')\n",
    "                    return midd\n",
    "                end=midd-1\n",
    "                \n",
    "            elif nums[midd]<target:             \n",
    "                if  midd==len(nums)-1 or nums[midd+1]>target:\n",
    "        #                 print('3')\n",
    "                    return midd+1\n",
    "                start=midd+1"
   ]
  },
  {
   "cell_type": "code",
   "execution_count": null,
   "metadata": {},
   "outputs": [],
   "source": []
  },
  {
   "cell_type": "markdown",
   "metadata": {},
   "source": [
    "### 搜索旋转排序数组"
   ]
  },
  {
   "cell_type": "code",
   "execution_count": null,
   "metadata": {},
   "outputs": [],
   "source": [
    "def f1(nums,target):\n",
    "    if len(nums)==0:\n",
    "            return -1\n",
    "    if len(nums)==1:\n",
    "        if nums[0]==target:\n",
    "            return 0\n",
    "        else:\n",
    "            return -1\n",
    "    start =0\n",
    "    end =len(nums)-1\n",
    "    while start<=end:\n",
    "    \n",
    "        mid =start+(end-start)//2\n",
    "        if nums[mid]==target:\n",
    "            return mid  \n",
    "       \n",
    "        if start>=end:      \n",
    "            return -1 \n",
    "\n",
    "        if nums[start]<nums[mid]:\n",
    "            if nums[mid-1]>=target>=nums[start]:  \n",
    "                end =mid-1\n",
    "            else:\n",
    "                start =mid+1\n",
    "           \n",
    "\n",
    "        else:\n",
    "            if nums[mid+1]<=target<=nums[end]:\n",
    "                start =mid+1          \n",
    "            else:\n",
    "                end =mid-1\n",
    "        \n",
    "    return -1"
   ]
  },
  {
   "cell_type": "code",
   "execution_count": null,
   "metadata": {},
   "outputs": [],
   "source": []
  },
  {
   "cell_type": "markdown",
   "metadata": {},
   "source": [
    "### 寻找重复数"
   ]
  },
  {
   "cell_type": "code",
   "execution_count": null,
   "metadata": {},
   "outputs": [],
   "source": [
    "class Solution:\n",
    "    def findDuplicate(self, nums: List[int]) -> int:\n",
    "# 方法一【如果空间换时间，则用hash】\n",
    "        d ={}\n",
    "        for i in nums:\n",
    "            d[i]=d.get(i,0)+1\n",
    "            if d[i]>1:\n",
    "                return i"
   ]
  },
  {
   "cell_type": "code",
   "execution_count": null,
   "metadata": {},
   "outputs": [],
   "source": [
    "class Solution:\n",
    "    def findDuplicate(self, nums: List[int]) -> int:\n",
    "# 方法一【如果空间换时间，则用hash】\n",
    "        # d ={}\n",
    "        # for i in nums:\n",
    "        #     d[i]=d.get(i,0)+1\n",
    "        #     if d[i]>1:\n",
    "        #         return i\n",
    "# 方法二【可以改变原来数组，则用 桶排序】\n",
    "# 方法三【时间O(NlogN)换空间O(1)，则用二分法】\n",
    "        start =0\n",
    "        end =len(nums)-1\n",
    "        while start<end:\n",
    "            mid =start+(end-start)//2\n",
    "            c =0\n",
    "            for i in nums:\n",
    "                if i<=mid:\n",
    "                    c+=1\n",
    "            if c>mid:\n",
    "                end =mid\n",
    "            else:\n",
    "                start =mid+1\n",
    "        return end"
   ]
  },
  {
   "cell_type": "markdown",
   "metadata": {},
   "source": [
    "### 最长上升子序列"
   ]
  },
  {
   "cell_type": "code",
   "execution_count": null,
   "metadata": {},
   "outputs": [],
   "source": [
    "class Solution:\n",
    "    def lengthOfLIS(self, nums: List[int]):\n",
    "        n=len(nums)\n",
    "        dp =[1]*n\n",
    "        maxdp=1\n",
    "        if n==0 or n==1:\n",
    "            return n\n",
    "        else:\n",
    "            for i in range(1,n):\n",
    "                for j in range(i):\n",
    "                    if nums[j]<nums[i] and dp[i]<=dp[j]:\n",
    "                        # 以 i 作为终点的 上升长度，如果前面没有比它小的，就是1\n",
    "                        dp[i]=dp[j]+1\n",
    "            \n",
    "            return max(dp)"
   ]
  },
  {
   "cell_type": "markdown",
   "metadata": {},
   "source": [
    "### 最长重复子数组"
   ]
  },
  {
   "cell_type": "code",
   "execution_count": null,
   "metadata": {},
   "outputs": [],
   "source": [
    "class Solution:\n",
    "    def findLength(self, A: List[int], B: List[int]) -> int:\n",
    "# 最长子数组，一定要连续\n",
    "        m =len(A)+1\n",
    "        n =len(B)+1\n",
    "        dp =[[0]*n for m in range(m)]\n",
    "        maxlen=0\n",
    "# 第一列str2表示为空dp[i][0]=0\n",
    "# 第一行str1表示为空dp[0][j]=0\n",
    "        for i in range(1,m): \n",
    "            for j in range(1,n):\n",
    "                if A[i-1]==B[j-1]:\n",
    "                    dp[i][j]=dp[i-1][j-1]+1\n",
    "                    maxlen=max(maxlen,dp[i][j]) #找到最长连续的\n",
    "                # else: #这个不行，要连续；这个适用于不连续\n",
    "                #     dp[i][j]=max(dp[i][j-1],dp[i-1][j])\n",
    "        return maxlen"
   ]
  },
  {
   "cell_type": "code",
   "execution_count": null,
   "metadata": {},
   "outputs": [],
   "source": []
  },
  {
   "cell_type": "code",
   "execution_count": null,
   "metadata": {},
   "outputs": [],
   "source": []
  },
  {
   "cell_type": "code",
   "execution_count": null,
   "metadata": {},
   "outputs": [],
   "source": []
  },
  {
   "cell_type": "code",
   "execution_count": null,
   "metadata": {},
   "outputs": [],
   "source": []
  },
  {
   "cell_type": "markdown",
   "metadata": {},
   "source": [
    "# Sorting"
   ]
  },
  {
   "cell_type": "code",
   "execution_count": 4,
   "metadata": {},
   "outputs": [
    {
     "data": {
      "text/plain": [
       "[10, 9, 8, 7, 6, 5, 4, 3, 2, 1, 0]"
      ]
     },
     "execution_count": 4,
     "metadata": {},
     "output_type": "execute_result"
    }
   ],
   "source": [
    "[i for i in range(10,-1,-1)]"
   ]
  },
  {
   "cell_type": "markdown",
   "metadata": {},
   "source": [
    "##   Bubble"
   ]
  },
  {
   "cell_type": "code",
   "execution_count": 52,
   "metadata": {},
   "outputs": [
    {
     "data": {
      "text/plain": [
       "15"
      ]
     },
     "execution_count": 52,
     "metadata": {},
     "output_type": "execute_result"
    }
   ],
   "source": [
    "s =[4,15,1,7,99,22,3,63,14,50,51,52,53,60,70,77]\n",
    "len(s)-1"
   ]
  },
  {
   "cell_type": "code",
   "execution_count": 61,
   "metadata": {},
   "outputs": [
    {
     "data": {
      "text/plain": [
       "[1, 3, 4, 7, 14, 15, 22, 50, 51, 52, 53, 60, 63, 70, 77, 99]"
      ]
     },
     "execution_count": 61,
     "metadata": {},
     "output_type": "execute_result"
    }
   ],
   "source": [
    "s =[4,15,1,7,99,22,3,63,14,50,51,52,53,60,70,77]\n",
    "def bubble(arr):\n",
    "    for i in range(len(arr)-1,-1,-1):\n",
    "#         print(i)\n",
    "        for j in range(i):\n",
    "            if arr[j]>arr[j+1]:\n",
    "                tmp=arr[j]\n",
    "                arr[j]=arr[j+1]\n",
    "                arr[j+1]=tmp\n",
    "bubble(s)  \n",
    "s"
   ]
  },
  {
   "cell_type": "code",
   "execution_count": 132,
   "metadata": {},
   "outputs": [
    {
     "data": {
      "text/plain": [
       "[1, 3, 4, 7, 14, 15, 22, 50, 51, 52, 53, 60, 63, 70, 77, 99]"
      ]
     },
     "execution_count": 132,
     "metadata": {},
     "output_type": "execute_result"
    }
   ],
   "source": [
    "s =[4,15,1,7,99,22,3,63,14,50,51,52,53,60,70,77]\n",
    "def bubble_Opt(arr):\n",
    "    ifBubble=True\n",
    "    \n",
    "    for i in range(len(arr)-1,0,-1):\n",
    "#       每一轮都是把最大值送到末尾\n",
    "#       第一次是1st的值,第二次是2nd的值,第三次是3rd的值,第四次是4th的值\n",
    "        ifbubble=True\n",
    "#         print(i)\n",
    "        \n",
    "        for j in range(i):\n",
    "#           往后冒泡\n",
    "            if arr[j]>arr[j+1]:\n",
    "                tmp=arr[j]\n",
    "                arr[j]=arr[j+1]\n",
    "                arr[j+1]=tmp\n",
    "                \n",
    "#                 如果交换了，证明还没排好\n",
    "                ifbubble=False\n",
    "#         没有交换，break loop        \n",
    "        if ifbubble:\n",
    "            break\n",
    "bubble_Opt(s)\n",
    "s"
   ]
  },
  {
   "cell_type": "markdown",
   "metadata": {},
   "source": [
    "##   Quick"
   ]
  },
  {
   "cell_type": "code",
   "execution_count": 133,
   "metadata": {},
   "outputs": [
    {
     "data": {
      "text/plain": [
       "[1, 2, 4, 5, 6, 7, 8, 26, 34, 43, 55, 61, 90]"
      ]
     },
     "execution_count": 133,
     "metadata": {},
     "output_type": "execute_result"
    }
   ],
   "source": [
    "s =[4,5,61,7,2,43,34,6,8,90,1,26,55]\n",
    "def quick(arr,start,end):\n",
    "#  ============ base case ============ \n",
    "    if start>=end:\n",
    "        return  arr\n",
    "    \n",
    "# 1.用partition找到pivot_index   \n",
    "    Pivot=partition(arr,start,end)\n",
    "#  ============ recursive case ============ \n",
    "# 2.左、右 分别快速排序\n",
    "    quick(arr,start,Pivot)\n",
    "    quick(arr,Pivot+1,end)\n",
    "    return arr\n",
    "\n",
    "def partition(arr,start,end):\n",
    "    pivot =arr[start]\n",
    "    \n",
    "    mark=start\n",
    "    l=start+1\n",
    "    r =end\n",
    "    while l<=r:\n",
    "        if arr[l]<pivot:\n",
    "            mark+=1\n",
    "            if mark!=l:\n",
    "                tmp =arr[l]\n",
    "                arr[l]=arr[mark]\n",
    "                arr[mark]=tmp\n",
    "            \n",
    "        l +=1\n",
    "        \n",
    "    tmp =arr[mark]    \n",
    "    arr[mark]=arr[start]\n",
    "    arr[start]=tmp  \n",
    "    \n",
    "    return mark\n",
    " \n",
    "quick(s,0,len(s)-1)"
   ]
  },
  {
   "cell_type": "code",
   "execution_count": null,
   "metadata": {},
   "outputs": [],
   "source": []
  },
  {
   "cell_type": "markdown",
   "metadata": {},
   "source": [
    "##   Merge"
   ]
  },
  {
   "cell_type": "code",
   "execution_count": 134,
   "metadata": {},
   "outputs": [
    {
     "name": "stdout",
     "output_type": "stream",
     "text": [
      "[1, 2, 4, 5, 6, 7, 8, 26, 34, 43, 55, 61, 90]\n"
     ]
    }
   ],
   "source": [
    "s =[4,5,61,7,2,43,34,6,8,90,1,26,55]\n",
    "def merge(arr):\n",
    "#  ============ base case ============ \n",
    "    if len(arr)<=1:\n",
    "        return arr \n",
    "    \n",
    "# 1.找到中点    \n",
    "    mid=len(arr)//2   \n",
    "#  ============ recursive case ============\n",
    "# 2.用 merge 切割到最小单元\n",
    "    left =merge(arr[:mid])\n",
    "    right =merge(arr[mid:])   \n",
    "# 3.再用 partition 合并 \n",
    "#     return partition(left,right)\n",
    "\n",
    "    \n",
    "# def partition(left,right):\n",
    "    i =0\n",
    "    j =0\n",
    "    res=[]\n",
    "    while i<len(left) and j<len(right):\n",
    "        if left[i]<right[j]:          \n",
    "            res.append(left[i])\n",
    "            i+=1\n",
    "        else:            \n",
    "            res.append(right[j])\n",
    "            j+=1\n",
    "        \n",
    "    res+=left[i:] if left[i:] else right[j:]\n",
    "    return res    \n",
    "\n",
    "print(merge(s))"
   ]
  },
  {
   "cell_type": "code",
   "execution_count": null,
   "metadata": {},
   "outputs": [],
   "source": []
  },
  {
   "cell_type": "markdown",
   "metadata": {},
   "source": [
    "##   Heap"
   ]
  },
  {
   "cell_type": "code",
   "execution_count": null,
   "metadata": {},
   "outputs": [],
   "source": [
    "s =[4,5,61,7,2,43,34,6,8,90,1,26,55]"
   ]
  },
  {
   "cell_type": "code",
   "execution_count": null,
   "metadata": {},
   "outputs": [],
   "source": []
  },
  {
   "cell_type": "markdown",
   "metadata": {},
   "source": [
    "##   Insert"
   ]
  },
  {
   "cell_type": "code",
   "execution_count": 135,
   "metadata": {},
   "outputs": [],
   "source": [
    "s =[4,5,61,7,2,43,34,6,8,90,1,26,55]\n",
    "def Insert(arr):\n",
    "    \n",
    "    # For every index in array\n",
    "    for i in range(1,len(arr)):\n",
    "        \n",
    "        # Set current values and position\n",
    "        currentvalue = arr[i]\n",
    "        position = i\n",
    "        \n",
    "        # Sorted Sublist\n",
    "        while position>0 and arr[position-1]>currentvalue:\n",
    "            \n",
    "            arr[position]=arr[position-1]\n",
    "            position = position-1\n",
    "\n",
    "        arr[position]=currentvalue"
   ]
  },
  {
   "cell_type": "code",
   "execution_count": null,
   "metadata": {},
   "outputs": [],
   "source": []
  },
  {
   "cell_type": "markdown",
   "metadata": {},
   "source": [
    "## Shell\n",
    "\n",
    "The shell sort improves on the insertion sort by breaking the original list into a number of smaller sublists, each of which is sorted using an insertion sort. The unique way that these sublists are chosen is the key to the shell sort. Instead of breaking the list into sublists of contiguous items, the shell sort uses an increment i, sometimes called the gap, to create a sublist by choosing all items that are i items apart."
   ]
  },
  {
   "cell_type": "code",
   "execution_count": null,
   "metadata": {},
   "outputs": [],
   "source": [
    "def shell_sort(arr):\n",
    "    sublistcount = len(arr)/2\n",
    "    \n",
    "    # While we still have sub lists\n",
    "    while sublistcount > 0:\n",
    "        for start in range(sublistcount):\n",
    "            # Use a gap insertion\n",
    "            gap_insertion_sort(arr,start,sublistcount)\n",
    "\n",
    "      \n",
    "\n",
    "        sublistcount = sublistcount / 2\n",
    "\n",
    "def gap_insertion_sort(arr,start,gap):\n",
    "    for i in range(start+gap,len(arr),gap):\n",
    "\n",
    "        currentvalue = arr[i]\n",
    "        position = i\n",
    "\n",
    "        # Using the Gap\n",
    "        while position>=gap and arr[position-gap]>currentvalue:\n",
    "            arr[position]=arr[position-gap]\n",
    "            position = position-gap\n",
    "        \n",
    "        # Set current value\n",
    "        arr[position]=currentvalue"
   ]
  },
  {
   "cell_type": "code",
   "execution_count": null,
   "metadata": {},
   "outputs": [],
   "source": []
  },
  {
   "cell_type": "markdown",
   "metadata": {},
   "source": [
    "## Bucket"
   ]
  },
  {
   "cell_type": "markdown",
   "metadata": {},
   "source": [
    "## Select\n",
    "The selection sort improves on the bubble sort by making only one exchange for every pass through the list. In order to do this, a selection sort looks for the largest value as it makes a pass and, after completing the pass, places it in the proper location. As with a bubble sort, after the first pass, the largest item is in the correct place. After the second pass, the next largest is in place. This process continues and requires n−1 passes to sort n items, since the final item must be in place after the (n−1) st pass."
   ]
  },
  {
   "cell_type": "code",
   "execution_count": null,
   "metadata": {},
   "outputs": [],
   "source": [
    "def selection_sort(arr):\n",
    "    \n",
    "    # For every slot in array\n",
    "    for fillslot in range(len(arr)-1,0,-1):\n",
    "        positionOfMax=0\n",
    "        \n",
    "        # For every set of 0 to fillslot+1\n",
    "        for location in range(1,fillslot+1):\n",
    "            # Set maximum's location\n",
    "            if arr[location]>arr[positionOfMax]:\n",
    "                positionOfMax = location\n",
    "\n",
    "        temp = arr[fillslot]\n",
    "        arr[fillslot] = arr[positionOfMax]\n",
    "        arr[positionOfMax] = temp"
   ]
  },
  {
   "cell_type": "code",
   "execution_count": null,
   "metadata": {},
   "outputs": [],
   "source": [
    "def selection_sort(arr):\n",
    "    \n",
    "    # For every slot in array\n",
    "    for fillslot in range(len(arr)-1,0,-1):\n",
    "        positionOfMax=5\n",
    "        \n",
    "        # For every set of 0 to fillslot+1\n",
    "        print(fillslot)\n",
    "        print('============================')\n",
    "        for location in range(1,fillslot+1):\n",
    "            # Set maximum's location\n",
    "            if arr[location]>arr[positionOfMax]:\n",
    "                print('arr[location]=',arr[location])\n",
    "                print('arr[positionOfMax]=',arr[positionOfMax])\n",
    "                positionOfMax = location\n",
    "\n",
    "        temp = arr[fillslot]# \n",
    "        arr[fillslot] = arr[positionOfMax]\n",
    "        arr[positionOfMax] = temp\n",
    "        print('------------NEW ARRAY---------',arr)"
   ]
  },
  {
   "cell_type": "code",
   "execution_count": null,
   "metadata": {},
   "outputs": [],
   "source": []
  },
  {
   "cell_type": "code",
   "execution_count": null,
   "metadata": {},
   "outputs": [],
   "source": []
  }
 ],
 "metadata": {
  "kernelspec": {
   "display_name": "Python 3",
   "language": "python",
   "name": "python3"
  },
  "language_info": {
   "codemirror_mode": {
    "name": "ipython",
    "version": 3
   },
   "file_extension": ".py",
   "mimetype": "text/x-python",
   "name": "python",
   "nbconvert_exporter": "python",
   "pygments_lexer": "ipython3",
   "version": "3.7.4"
  },
  "toc": {
   "base_numbering": 1,
   "nav_menu": {},
   "number_sections": true,
   "sideBar": true,
   "skip_h1_title": false,
   "title_cell": "Table of Contents",
   "title_sidebar": "Contents",
   "toc_cell": false,
   "toc_position": {},
   "toc_section_display": true,
   "toc_window_display": false
  }
 },
 "nbformat": 4,
 "nbformat_minor": 2
}
