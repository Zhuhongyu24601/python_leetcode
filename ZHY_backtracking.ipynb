{
 "cells": [
  {
   "cell_type": "markdown",
   "metadata": {},
   "source": [
    "# 前奏"
   ]
  },
  {
   "cell_type": "code",
   "execution_count": 152,
   "metadata": {},
   "outputs": [],
   "source": [
    "def permutate(nums):\n",
    "    res = []\n",
    "    \n",
    "\n",
    "\n",
    "    def backtrack(nums, tmp):\n",
    "        print(nums)\n",
    "        if not nums:\n",
    "            print('✌️一组完成啦✅')\n",
    "            print('---------------backtracking one step-----------')\n",
    "            res.append(tmp)\n",
    "            return \n",
    "        for i in range(len(nums)):\n",
    "            print(i,'->',nums)\n",
    "            print('CLOUD:',nums[:i] + nums[i+1:])\n",
    "            print( tmp + [nums[i]])\n",
    "            print('================================')\n",
    "\n",
    "            backtrack(nums[:i] + nums[i+1:], tmp + [nums[i]])\n",
    "    backtrack(nums, [])\n",
    "    return res\n",
    "        "
   ]
  },
  {
   "cell_type": "code",
   "execution_count": 1,
   "metadata": {},
   "outputs": [],
   "source": [
    "# arr =[1,2,3]\n",
    "\n",
    "# permutate(arr)"
   ]
  },
  {
   "cell_type": "markdown",
   "metadata": {},
   "source": [
    "# 回溯模板\n",
    "决策树遍历过程\n",
    "\n",
    "1.路径：已经做出的选择\n",
    "\n",
    "2.选择列表：当前可以做的选择\n",
    "\n",
    "3.结束条件：达到决策树底层，无法再做选择，存进result"
   ]
  },
  {
   "cell_type": "markdown",
   "metadata": {},
   "source": [
    "result =[]\n",
    "\n",
    "def backtrack(path,choices):\n",
    "\n",
    "    if len(choices)==0:满足结束条件\n",
    "    \n",
    "        result.add(path)\n",
    "        \n",
    "        return\n",
    "        \n",
    "    for i in choices:\n",
    "    \n",
    "        pick i 做选择\n",
    "        \n",
    "        backtrack(path,choices)\n",
    "        \n",
    "        withtraw i 撤销选择\n",
    "    "
   ]
  },
  {
   "cell_type": "code",
   "execution_count": 154,
   "metadata": {},
   "outputs": [],
   "source": [
    "def backtrack(choices):\n",
    "    res =[]\n",
    "    def permutate(path,choices):\n",
    "        if len(choices)==0:\n",
    "            res.append(path)\n",
    "            return\n",
    "        for i in range(len(choices)):\n",
    "#             track += choices[i]做选择\n",
    "            permutate(path+[choices[i]],choices[:i]+choices[i+1:])\n",
    "#             track -= choices[i]撤销选择\n",
    "    permutate([],choices)\n",
    "    return res"
   ]
  },
  {
   "cell_type": "code",
   "execution_count": 155,
   "metadata": {},
   "outputs": [],
   "source": [
    "def backtrack_unique(choices):\n",
    "    res =[]\n",
    "    def permut(path,choices):\n",
    "        if len(choices)==0 and path not in res:\n",
    "            res.append(path)\n",
    "            return\n",
    "        for i in range(len(choices)):\n",
    "            permut(path+[choices[i]],choices[:i]+choices[i+1:])\n",
    "    permut([],choices)\n",
    "    return res"
   ]
  },
  {
   "cell_type": "code",
   "execution_count": 156,
   "metadata": {},
   "outputs": [
    {
     "data": {
      "text/plain": [
       "[['a', 'c', 'c'], ['c', 'a', 'c'], ['c', 'c', 'a']]"
      ]
     },
     "execution_count": 156,
     "metadata": {},
     "output_type": "execute_result"
    }
   ],
   "source": [
    "backtrack_unique('acc')"
   ]
  },
  {
   "cell_type": "code",
   "execution_count": 157,
   "metadata": {},
   "outputs": [
    {
     "data": {
      "text/plain": [
       "[['a', 'c', 'c'],\n",
       " ['a', 'c', 'c'],\n",
       " ['c', 'a', 'c'],\n",
       " ['c', 'c', 'a'],\n",
       " ['c', 'a', 'c'],\n",
       " ['c', 'c', 'a']]"
      ]
     },
     "execution_count": 157,
     "metadata": {},
     "output_type": "execute_result"
    }
   ],
   "source": [
    "backtrack('acc')"
   ]
  },
  {
   "cell_type": "code",
   "execution_count": 120,
   "metadata": {},
   "outputs": [],
   "source": [
    "def combinationSum(candidates,target):\n",
    "#     先排序，从最小的开始  优先 选择\n",
    "    candidates.sort()\n",
    "    n = len(candidates)\n",
    "    res = []\n",
    "    def backtrack(i, tmp_sum, tmp):\n",
    "#         if  tmp_sum > target or i == n:\n",
    "#             print('BREAK')\n",
    "#             return \n",
    "        if tmp_sum == target:\n",
    "            print('满足结束条件✌️',tmp,i)\n",
    "            res.append(tmp)\n",
    "            return \n",
    "        print('i---------------------------',i)\n",
    "        for j in range(i, n):\n",
    "            if tmp_sum + candidates[j] > target:\n",
    "                print('BREAK',tmp, candidates[j])\n",
    "                break\n",
    "            print(tmp,j)\n",
    "            backtrack(j,tmp_sum + candidates[j],tmp+[candidates[j]])\n",
    "    backtrack(0, 0, [])\n",
    "    return res"
   ]
  },
  {
   "cell_type": "code",
   "execution_count": 121,
   "metadata": {
    "collapsed": true
   },
   "outputs": [
    {
     "name": "stdout",
     "output_type": "stream",
     "text": [
      "i--------------------------- 0\n",
      "[] 0\n",
      "i--------------------------- 0\n",
      "[2] 0\n",
      "i--------------------------- 0\n",
      "[2, 2] 0\n",
      "i--------------------------- 0\n",
      "[2, 2, 2] 0\n",
      "i--------------------------- 0\n",
      "[2, 2, 2, 2] 0\n",
      "满足结束条件✌️ [2, 2, 2, 2, 2] 0\n",
      "BREAK [2, 2, 2, 2] 3\n",
      "[2, 2, 2] 1\n",
      "i--------------------------- 1\n",
      "BREAK [2, 2, 2, 3] 3\n",
      "BREAK [2, 2, 2] 5\n",
      "[2, 2] 1\n",
      "i--------------------------- 1\n",
      "[2, 2, 3] 1\n",
      "满足结束条件✌️ [2, 2, 3, 3] 1\n",
      "BREAK [2, 2, 3] 5\n",
      "[2, 2] 2\n",
      "i--------------------------- 2\n",
      "BREAK [2, 2, 5] 5\n",
      "[2] 1\n",
      "i--------------------------- 1\n",
      "[2, 3] 1\n",
      "i--------------------------- 1\n",
      "BREAK [2, 3, 3] 3\n",
      "[2, 3] 2\n",
      "满足结束条件✌️ [2, 3, 5] 2\n",
      "[2] 2\n",
      "i--------------------------- 2\n",
      "BREAK [2, 5] 5\n",
      "[] 1\n",
      "i--------------------------- 1\n",
      "[3] 1\n",
      "i--------------------------- 1\n",
      "[3, 3] 1\n",
      "i--------------------------- 1\n",
      "BREAK [3, 3, 3] 3\n",
      "BREAK [3, 3] 5\n",
      "[3] 2\n",
      "i--------------------------- 2\n",
      "BREAK [3, 5] 5\n",
      "[] 2\n",
      "i--------------------------- 2\n",
      "[5] 2\n",
      "满足结束条件✌️ [5, 5] 2\n"
     ]
    },
    {
     "data": {
      "text/plain": [
       "[[2, 2, 2, 2, 2], [2, 2, 3, 3], [2, 3, 5], [5, 5]]"
      ]
     },
     "execution_count": 121,
     "metadata": {},
     "output_type": "execute_result"
    }
   ],
   "source": [
    "combinationSum([3,5,2],10)"
   ]
  },
  {
   "cell_type": "code",
   "execution_count": 141,
   "metadata": {},
   "outputs": [],
   "source": [
    "def combinationSum_unique(candidates,target):\n",
    "#     先排序，从最小的开始  优先 选择\n",
    "    candidates.sort()\n",
    "    n = len(candidates)\n",
    "    res = []\n",
    "    def backtrack(i, tmp_sum, tmp):\n",
    "        if tmp_sum == target and tmp not in res:\n",
    "            res.append(tmp)\n",
    "            return \n",
    "     \n",
    "        for j in range(i, n):\n",
    "            if tmp_sum + candidates[j] > target:\n",
    "                break\n",
    "\n",
    "            backtrack(j+1,tmp_sum + candidates[j],tmp+[candidates[j]])\n",
    "    backtrack(0, 0, [])\n",
    "    \n",
    "    return res"
   ]
  },
  {
   "cell_type": "code",
   "execution_count": 142,
   "metadata": {},
   "outputs": [
    {
     "data": {
      "text/plain": [
       "[[1, 2, 2, 2], [1, 2, 4], [2, 2, 3], [3, 4]]"
      ]
     },
     "execution_count": 142,
     "metadata": {},
     "output_type": "execute_result"
    }
   ],
   "source": [
    "combinationSum_unique([1,2,2,2,3,4],7)"
   ]
  },
  {
   "cell_type": "code",
   "execution_count": null,
   "metadata": {},
   "outputs": [],
   "source": []
  },
  {
   "cell_type": "code",
   "execution_count": 143,
   "metadata": {},
   "outputs": [],
   "source": [
    "def subsets(s):\n",
    "    res=[]\n",
    "    def permu(index,tmp):\n",
    "        res.append(tmp)\n",
    "        for i in range(index,len(s)):\n",
    "            permu(i+1,tmp+[s[i]])\n",
    "        \n",
    "    permu(0,[])\n",
    "    return res\n",
    "        "
   ]
  },
  {
   "cell_type": "code",
   "execution_count": 145,
   "metadata": {},
   "outputs": [
    {
     "data": {
      "text/plain": [
       "[[], [1], [1, 2], [1, 2, 2], [1, 2], [2], [2, 2], [2]]"
      ]
     },
     "execution_count": 145,
     "metadata": {},
     "output_type": "execute_result"
    }
   ],
   "source": [
    "subsets([1,2,2])"
   ]
  },
  {
   "cell_type": "code",
   "execution_count": 144,
   "metadata": {},
   "outputs": [
    {
     "data": {
      "text/plain": [
       "[[], [1], [1, 2], [1, 2, 3], [1, 3], [2], [2, 3], [3]]"
      ]
     },
     "execution_count": 144,
     "metadata": {},
     "output_type": "execute_result"
    }
   ],
   "source": [
    "subsets([1,2,3])"
   ]
  },
  {
   "cell_type": "code",
   "execution_count": 147,
   "metadata": {},
   "outputs": [],
   "source": [
    "def subsets_unique(s):\n",
    "    res=[]\n",
    "    def p(index,tmp):\n",
    "        if tmp not in res:\n",
    "            res.append(tmp)\n",
    "        for i in range(index,len(s)):\n",
    "            p(i+1,tmp+[s[i]])\n",
    "            \n",
    "        \n",
    "    p(0,[])\n",
    "    return res"
   ]
  },
  {
   "cell_type": "code",
   "execution_count": 149,
   "metadata": {},
   "outputs": [
    {
     "data": {
      "text/plain": [
       "[[], [1], [1, 2], [1, 2, 2], [2], [2, 2]]"
      ]
     },
     "execution_count": 149,
     "metadata": {},
     "output_type": "execute_result"
    }
   ],
   "source": [
    "subsets_unique([1,2,2])"
   ]
  },
  {
   "cell_type": "code",
   "execution_count": null,
   "metadata": {},
   "outputs": [],
   "source": []
  },
  {
   "cell_type": "markdown",
   "metadata": {},
   "source": [
    "### 电话数字"
   ]
  },
  {
   "cell_type": "code",
   "execution_count": 16,
   "metadata": {},
   "outputs": [],
   "source": [
    "def letterCombinations(digits):\n",
    "    conversion={'2':'abc','3':'def','4':'ghi','5':'jkl','6':'mno','7':'pqrs','8':'tuv','9':'wxyz'}\n",
    "    if len(digits)==0:\n",
    "        return [] \n",
    "    product=['']\n",
    "    for k in digits:\n",
    "        print(k,product)\n",
    "        product=[i+j for i in product for j in conversion[k]]\n",
    "    return product"
   ]
  },
  {
   "cell_type": "code",
   "execution_count": 17,
   "metadata": {},
   "outputs": [
    {
     "name": "stdout",
     "output_type": "stream",
     "text": [
      "2 ['']\n",
      "4 ['a', 'b', 'c']\n"
     ]
    },
    {
     "data": {
      "text/plain": [
       "['ag', 'ah', 'ai', 'bg', 'bh', 'bi', 'cg', 'ch', 'ci']"
      ]
     },
     "execution_count": 17,
     "metadata": {},
     "output_type": "execute_result"
    }
   ],
   "source": [
    "letterCombinations('24')"
   ]
  },
  {
   "cell_type": "code",
   "execution_count": 12,
   "metadata": {},
   "outputs": [
    {
     "data": {
      "text/plain": [
       "['qa', 'qb', 'qc', 'qd', 'ea', 'eb', 'ec', 'ed']"
      ]
     },
     "execution_count": 12,
     "metadata": {},
     "output_type": "execute_result"
    }
   ],
   "source": [
    "[i+j for i in ['q','e'] for j in ['a','b','c','d']]   "
   ]
  },
  {
   "cell_type": "markdown",
   "metadata": {},
   "source": [
    "## 全排列"
   ]
  },
  {
   "cell_type": "markdown",
   "metadata": {},
   "source": [
    "### 全排列"
   ]
  },
  {
   "cell_type": "code",
   "execution_count": null,
   "metadata": {},
   "outputs": [],
   "source": [
    "# 给定一个 没有重复 数字的序列，返回其所有可能的全排列。\n",
    "class Solution:\n",
    "    def permute(self, nums: List[int]) -> List[List[int]]:\n",
    "        res=[]\n",
    "        def backtrack(tmp,choices):\n",
    "            if len(choices)==0:\n",
    "                res.append(tmp)\n",
    "                return\n",
    "            for i in range(len(choices)):\n",
    "                backtrack(tmp+[choices[i]],choices[:i]+choices[i+1:])\n",
    "        backtrack([],nums)\n",
    "        return res"
   ]
  },
  {
   "cell_type": "markdown",
   "metadata": {},
   "source": [
    "### 全排列（需要去重）"
   ]
  },
  {
   "cell_type": "code",
   "execution_count": null,
   "metadata": {},
   "outputs": [],
   "source": [
    "class Solution:\n",
    "#     给定一个可包含重复数字的序列，返回所有不重复的全排列。\n",
    "    def permuteUnique(self, nums: List[int]) -> List[List[int]]:\n",
    "        res =[]\n",
    "        nums.sort()\n",
    "        def backtrack(tmp,choices):\n",
    "            if len(choices)==0 and tmp not in res:\n",
    "                res.append(tmp)\n",
    "                return\n",
    "            for i in range(len(choices)):\n",
    "                backtrack(tmp+[choices[i]],choices[:i]+choices[i+1:])\n",
    "        backtrack([],nums)\n",
    "        return res"
   ]
  },
  {
   "cell_type": "code",
   "execution_count": null,
   "metadata": {},
   "outputs": [],
   "source": []
  },
  {
   "cell_type": "markdown",
   "metadata": {},
   "source": [
    "## 组合"
   ]
  },
  {
   "cell_type": "markdown",
   "metadata": {},
   "source": [
    "### 组合target（可放回使用）"
   ]
  },
  {
   "cell_type": "markdown",
   "metadata": {},
   "source": [
    "给定一个无重复元素的数组 candidates 和一个目标数 target ，找出 candidates 中所有可以使数字和为 target 的组合。\n",
    "\n",
    "candidates 中的数字可以无限制重复被选取。\n"
   ]
  },
  {
   "cell_type": "code",
   "execution_count": null,
   "metadata": {},
   "outputs": [],
   "source": [
    "class Solution:\n",
    "    def combinationSum(self, candidates: List[int], target: int) -> List[List[int]]:\n",
    "        res =[]\n",
    "        candidates.sort()\n",
    "        def permutate(index,tmp_sum,tmp_list):\n",
    "            if tmp_sum==target:\n",
    "                res.append(tmp_list)\n",
    "                return\n",
    "            for i in range(index,len(candidates)):\n",
    "                if tmp_sum+candidates[i]>target:\n",
    "                    break\n",
    "                permutate(i,tmp_sum+candidates[i],tmp_list+[candidates[i]])\n",
    "        permutate(0,0,[])\n",
    "        return res"
   ]
  },
  {
   "cell_type": "code",
   "execution_count": null,
   "metadata": {},
   "outputs": [],
   "source": []
  },
  {
   "cell_type": "markdown",
   "metadata": {},
   "source": [
    "### 组合target"
   ]
  },
  {
   "cell_type": "markdown",
   "metadata": {},
   "source": [
    "给定一个数组 candidates 和一个目标数 target ，找出 candidates 中所有可以使数字和为 target 的组合。\n",
    "\n",
    "candidates 中的每个数字在每个组合中只能使用一次。"
   ]
  },
  {
   "cell_type": "code",
   "execution_count": null,
   "metadata": {},
   "outputs": [],
   "source": [
    "class Solution:\n",
    "    def combinationSum2(self, candidates: List[int], target: int) -> List[List[int]]:\n",
    "        res =[]\n",
    "        candidates.sort()\n",
    "        def permutate(index,path_sum,path_list):\n",
    "            # candidates里面有重复的元素\n",
    "            if path_sum==target and path_list not in res:\n",
    "                res.append(path_list)\n",
    "                return\n",
    "\n",
    "            for i in range(index,len(candidates)):\n",
    "                if path_sum+candidates[i] >target:\n",
    "                    break\n",
    "                # 只能使用一次，所以下一步调用，要从i+1开始\n",
    "                permutate(i+1,path_sum+candidates[i],path_list+[candidates[i]])\n",
    "        permutate(0,0,[])\n",
    "        return res"
   ]
  },
  {
   "cell_type": "markdown",
   "metadata": {},
   "source": [
    "## 子集"
   ]
  },
  {
   "cell_type": "markdown",
   "metadata": {},
   "source": [
    "### 78.子集"
   ]
  },
  {
   "cell_type": "markdown",
   "metadata": {},
   "source": [
    "给定一组不含重复元素的整数数组 nums，返回该数组所有可能的子集（幂集）。\n",
    "\n",
    "说明：解集不能包含重复的子集。"
   ]
  },
  {
   "cell_type": "code",
   "execution_count": null,
   "metadata": {},
   "outputs": [],
   "source": [
    "class Solution:\n",
    "    def subsets(self, nums: List[int]) -> List[List[int]]:\n",
    "        res =[]\n",
    "        nums.sort()\n",
    "        def perm(index,tmp):\n",
    "            res.append(tmp)\n",
    "            for i in range(index,len(nums)):\n",
    "                perm(i+1,tmp+[nums[i]])\n",
    "        perm(0,[])\n",
    "        return res"
   ]
  },
  {
   "cell_type": "code",
   "execution_count": null,
   "metadata": {},
   "outputs": [],
   "source": []
  },
  {
   "cell_type": "markdown",
   "metadata": {},
   "source": [
    "### 90.子集（原数组含重复元素）"
   ]
  },
  {
   "cell_type": "markdown",
   "metadata": {},
   "source": [
    "给定一个可能包含重复元素的整数数组 nums，返回该数组所有可能的子集（幂集）。\n",
    "\n",
    "说明：解集不能包含重复的子集。"
   ]
  },
  {
   "cell_type": "code",
   "execution_count": null,
   "metadata": {},
   "outputs": [],
   "source": [
    "class Solution:\n",
    "    def subsetsWithDup(self, nums: List[int]) -> List[List[int]]:\n",
    "        res =[]\n",
    "        nums.sort()\n",
    "        def perm(index,tmp):\n",
    "            if tmp not in res:\n",
    "                res.append(tmp)\n",
    "            for i in range(index,len(nums)):\n",
    "                # 每调用一次perm，就是往现有的loop里面内嵌一个loop\n",
    "                perm(i+1,tmp+[nums[i]])\n",
    "            \n",
    "        perm(0,[])\n",
    "        return res"
   ]
  },
  {
   "cell_type": "markdown",
   "metadata": {},
   "source": [
    "##### 93.复原IP地址"
   ]
  },
  {
   "cell_type": "code",
   "execution_count": null,
   "metadata": {},
   "outputs": [],
   "source": []
  },
  {
   "cell_type": "code",
   "execution_count": null,
   "metadata": {},
   "outputs": [],
   "source": []
  },
  {
   "cell_type": "markdown",
   "metadata": {},
   "source": [
    "##### 784.字母大小写全排列"
   ]
  },
  {
   "cell_type": "code",
   "execution_count": 80,
   "metadata": {
    "collapsed": true
   },
   "outputs": [
    {
     "data": {
      "text/plain": [
       "['aA',\n",
       " 'aB',\n",
       " 'aE',\n",
       " 'aF',\n",
       " 'bA',\n",
       " 'bB',\n",
       " 'bE',\n",
       " 'bF',\n",
       " 'eA',\n",
       " 'eB',\n",
       " 'eE',\n",
       " 'eF',\n",
       " 'fA',\n",
       " 'fB',\n",
       " 'fE',\n",
       " 'fF']"
      ]
     },
     "execution_count": 80,
     "metadata": {},
     "output_type": "execute_result"
    }
   ],
   "source": [
    "from typing import List\n",
    "\n",
    "\n",
    "class Solution:\n",
    "    def letterCasePermutation(self, S: str) -> List[str]:\n",
    "        size = len(S)\n",
    "        if size == 0:\n",
    "            return []\n",
    "\n",
    "        res = []\n",
    "        arr = list(S)\n",
    "        self.__dfs(arr, size, 0, res)\n",
    "        return res\n",
    "\n",
    "    def __dfs(self, arr, size, start, res):\n",
    "        if start == size:\n",
    "            res.append(''.join(arr))\n",
    "            return\n",
    "\n",
    "        # 先把当前加到 pre 里面\n",
    "        self.__dfs(arr, size, start + 1, res)\n",
    "\n",
    "        # 如果是字母，就变换大小写\n",
    "        if arr[start].isalpha():\n",
    "            arr[start] = chr(ord(arr[start]) ^ (1 << 5))\n",
    "            self.__dfs(arr, size, start + 1, res)"
   ]
  },
  {
   "cell_type": "code",
   "execution_count": 91,
   "metadata": {},
   "outputs": [
    {
     "data": {
      "text/plain": [
       "['AAA',\n",
       " 'AAB',\n",
       " 'AAE',\n",
       " 'ABA',\n",
       " 'ABB',\n",
       " 'ABE',\n",
       " 'AEA',\n",
       " 'AEB',\n",
       " 'AEE',\n",
       " 'BAA',\n",
       " 'BAB',\n",
       " 'BAE',\n",
       " 'BBA',\n",
       " 'BBB',\n",
       " 'BBE',\n",
       " 'BEA',\n",
       " 'BEB',\n",
       " 'BEE',\n",
       " 'EAA',\n",
       " 'EAB',\n",
       " 'EAE',\n",
       " 'EBA',\n",
       " 'EBB',\n",
       " 'EBE',\n",
       " 'EEA',\n",
       " 'EEB',\n",
       " 'EEE']"
      ]
     },
     "execution_count": 91,
     "metadata": {},
     "output_type": "execute_result"
    }
   ],
   "source": [
    "l =[1,2,3]\n",
    "s ='aBe'\n",
    "p =['']\n",
    "for i in range(3):    \n",
    "    p =[i+j for i in p for j in s.upper()]\n",
    "    \n",
    "p"
   ]
  },
  {
   "cell_type": "code",
   "execution_count": 87,
   "metadata": {},
   "outputs": [
    {
     "name": "stdout",
     "output_type": "stream",
     "text": [
      "['a', 'A']\n",
      "['ab', 'aB', 'Ab', 'AB']\n",
      "['abc', 'abC', 'aBc', 'aBC', 'Abc', 'AbC', 'ABc', 'ABC']\n"
     ]
    },
    {
     "data": {
      "text/plain": [
       "['abc', 'abC', 'aBc', 'aBC', 'Abc', 'AbC', 'ABc', 'ABC']"
      ]
     },
     "execution_count": 87,
     "metadata": {},
     "output_type": "execute_result"
    }
   ],
   "source": [
    "d ={1:'aA',2:'bB',3:'cC',4:'dD',5:'e',6:'f'}\n",
    "p=['']\n",
    "for k in range(1,4):\n",
    "    p=[j+i for j in p for i in d[k]]\n",
    "    print(p)\n",
    "    \n",
    "p"
   ]
  },
  {
   "cell_type": "code",
   "execution_count": null,
   "metadata": {},
   "outputs": [],
   "source": []
  }
 ],
 "metadata": {
  "kernelspec": {
   "display_name": "Python 3",
   "language": "python",
   "name": "python3"
  },
  "language_info": {
   "codemirror_mode": {
    "name": "ipython",
    "version": 3
   },
   "file_extension": ".py",
   "mimetype": "text/x-python",
   "name": "python",
   "nbconvert_exporter": "python",
   "pygments_lexer": "ipython3",
   "version": "3.7.4"
  },
  "toc": {
   "base_numbering": 1,
   "nav_menu": {},
   "number_sections": true,
   "sideBar": true,
   "skip_h1_title": false,
   "title_cell": "Table of Contents",
   "title_sidebar": "Contents",
   "toc_cell": false,
   "toc_position": {},
   "toc_section_display": true,
   "toc_window_display": true
  }
 },
 "nbformat": 4,
 "nbformat_minor": 2
}
