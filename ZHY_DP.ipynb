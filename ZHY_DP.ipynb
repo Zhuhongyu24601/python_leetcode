{
 "cells": [
  {
   "cell_type": "code",
   "execution_count": null,
   "metadata": {},
   "outputs": [],
   "source": []
  },
  {
   "cell_type": "markdown",
   "metadata": {},
   "source": [
    "# 字符串"
   ]
  },
  {
   "cell_type": "markdown",
   "metadata": {},
   "source": [
    "### 最长回文子串"
   ]
  },
  {
   "cell_type": "code",
   "execution_count": null,
   "metadata": {},
   "outputs": [],
   "source": [
    "class Solution:\n",
    "    def longestPalindrome(self,s):\n",
    "# ======================中心扩散法========================================\n",
    "    #     start=1\n",
    "    #     maxlen=0\n",
    "    #     n=len(s)\n",
    "    #     for i in range(n):\n",
    "    #         l1=self.mirror(s,i,i)\n",
    "    #         l2=self.mirror(s,i,i+1)\n",
    "    # # 得到的返回值，是l[0]为起始下标，为l[1]为长度 的列表\n",
    "    # #longest=max(l1,l2)\n",
    "    #         if l1[1]>l2[1]:\n",
    "    #             longest=l1\n",
    "    #         else:\n",
    "    #             longest=l2\n",
    "                \n",
    "    # # maxlen=max(maxlen,longest)        \n",
    "    #         if longest[1]>maxlen:\n",
    "    #             maxlen=longest[1]\n",
    "    #             start=longest[0]\n",
    "            \n",
    "    #     return s[start:start+maxlen]\n",
    "\n",
    "    # def mirror(self,s,i,j):  \n",
    "    #     while i>=0 and j<=len(s)-1 and s[i]==s[j]:       \n",
    "    #         i -=1\n",
    "    #         j +=1\n",
    "    #     startindex =i+1\n",
    "    #     l=(j-1)-(i+1)+1\n",
    "    #     return startindex,l\n",
    "\n",
    "    \n",
    "# ======================DP table========================================\n",
    "        n =len(s)\n",
    "        if n==0 or n==1:\n",
    "            return s\n",
    "\n",
    "        dp = [[0]*n for i in range(n)]# dp table的左下半边，全为0\n",
    "        for i in range(n):\n",
    "            dp[i][i]=1  #头尾都为i，长度为1\n",
    "        \n",
    "\n",
    "        maxlen=0\n",
    "        for i in range(n-1,-1,-1):\n",
    "            for j in range(i+1,n):\n",
    "        # 从dp[n-1][n-1]开始\n",
    "\n",
    "        #因为我们需要求 连续的subsequence最大值，所以没必要求断了的部分\n",
    "        \n",
    "\n",
    "# 有三种连续的方式，头往前一个，尾往后一个，头尾都向外一个\n",
    "                if s[i]==s[j] and dp[i+1][j-1]==j-i-1:\n",
    "                    # 我知道了！ 如果要连续的话，再补充一个条件！ dp[i+1][j-1]==j-i-1\n",
    "                    dp[i][j]=dp[i+1][j-1]+2  #头尾都向外一个                 \n",
    "                else:\n",
    "                    dp[i][j]=max(dp[i+1][j],dp[i][j-1]) #头往前一个，尾往后一个\n",
    "                if maxlen<dp[i][j]:\n",
    "                    start=i\n",
    "                    maxlen=dp[i][j]\n",
    "                    \n",
    "        return s[start:start+maxlen]"
   ]
  },
  {
   "cell_type": "markdown",
   "metadata": {},
   "source": [
    "### 最长回文子序列"
   ]
  },
  {
   "cell_type": "code",
   "execution_count": null,
   "metadata": {},
   "outputs": [],
   "source": [
    "class Solution:\n",
    "    def longestPalindromeSubseq(self, s: str):\n",
    "# ======================连续回文子序列==================================\n",
    "    #     start=1\n",
    "    #     maxlen=0\n",
    "    #     n=len(s)\n",
    "    #     for i in range(n):\n",
    "    #         l1=self.mirror(s,i,i)\n",
    "    #         l2=self.mirror(s,i,i+1)\n",
    "    # # 得到的返回值，是l[0]为起始下标，为l[1]为长度 的列表\n",
    "    # #longest=max(l1,l2)\n",
    "    #         if l1[1]>l2[1]:\n",
    "    #             longest=l1\n",
    "    #         else:\n",
    "    #             longest=l2\n",
    "                \n",
    "    # # maxlen=max(maxlen,longest)        \n",
    "    #         if longest[1]>maxlen:\n",
    "    #             maxlen=longest[1]\n",
    "    #             start=longest[0]\n",
    "            \n",
    "    #     return maxlen\n",
    "\n",
    "    # def mirror(self,s,i,j):  \n",
    "    #     while i>=0 and j<=len(s)-1 and s[i]==s[j]:       \n",
    "    #         i -=1\n",
    "    #         j +=1\n",
    "    #     startindex =i+1\n",
    "    #     l=(j-1)-(i+1)+1\n",
    "    #     return startindex,l\n",
    "\n",
    "\n",
    "    # ================不连续回文子序列========================\n",
    "        n =len(s)\n",
    "        dp = [[0]*n for i in range(n)]\n",
    "        for i in range(n):\n",
    "            dp[i][i]=1\n",
    "        \n",
    "        for i in range(n-1,-1,-1):\n",
    "            for j in range(i+1,n):\n",
    "        # 从dp[n-1][n-1]开始\n",
    "        # 我知道了！ 如果要连续的话，再补充一个条件！ dp[i][j]==j-i+1\n",
    "                if s[i]==s[j]:\n",
    "                    dp[i][j]=dp[i+1][j-1]+2\n",
    "\n",
    "                else:\n",
    "                    dp[i][j]=max(dp[i+1][j],dp[i][j-1])\n",
    "\n",
    "        return dp[0][-1]"
   ]
  },
  {
   "cell_type": "markdown",
   "metadata": {},
   "source": [
    "### 编辑距离"
   ]
  },
  {
   "cell_type": "code",
   "execution_count": null,
   "metadata": {},
   "outputs": [],
   "source": [
    "class Solution:\n",
    "    def minDistance(self, word1: str, word2: str) -> int:\n",
    "# dp[0][j]=j str1空,w1要增加j个元素,j次操作\n",
    "# dp[i][0]=i str2空,w1要减少i个元素,i次操作\n",
    "# 从三种操作中选一个\n",
    "# dp[i-1][j-1] 替换\n",
    "# dp[i-1][j]+1 当前str1(len=i)为了能变成str2(len=j)再删除一个元素\n",
    "# dp[i][j-1]+1 当前str1(len=i)为了能变成str2(len=j)再添加一个元素 (w1='a', w1='ab')\n",
    "        m =len(word1)+1\n",
    "        n =len(word2)+1\n",
    "        dp =[[0]*n for i in range(m)]\n",
    "        for i in range(m):\n",
    "            dp[i][0]=i\n",
    "        for j in range(n):\n",
    "            dp[0][j]=j\n",
    "        for i in range(1,m):\n",
    "            for j in range(1,n):\n",
    "                if word1[i-1]==word2[j-1]:\n",
    "                    dp[i][j]=dp[i-1][j-1]\n",
    "                else:\n",
    "                    dp[i][j]=min(dp[i][j-1],dp[i-1][j],dp[i-1][j-1])+1\n",
    "        return dp[-1][-1]"
   ]
  },
  {
   "cell_type": "code",
   "execution_count": null,
   "metadata": {},
   "outputs": [],
   "source": []
  },
  {
   "cell_type": "code",
   "execution_count": null,
   "metadata": {},
   "outputs": [],
   "source": []
  },
  {
   "cell_type": "markdown",
   "metadata": {},
   "source": [
    "# 数组"
   ]
  },
  {
   "cell_type": "markdown",
   "metadata": {},
   "source": [
    "### 最长上升子序列"
   ]
  },
  {
   "cell_type": "code",
   "execution_count": null,
   "metadata": {},
   "outputs": [],
   "source": [
    "class Solution:\n",
    "    def lengthOfLIS(self, nums: List[int]):\n",
    "        n=len(nums)\n",
    "        dp =[1]*n\n",
    "        maxdp=1\n",
    "        if n==0 or n==1:\n",
    "            return n\n",
    "        else:\n",
    "            for i in range(1,n):\n",
    "                for j in range(i):\n",
    "                    if nums[j]<nums[i] and dp[i]<=dp[j]:\n",
    "                        # 以 i 作为终点的 上升长度，如果前面没有比它小的，就是1\n",
    "                        dp[i]=dp[j]+1\n",
    "            \n",
    "            return max(dp)"
   ]
  },
  {
   "cell_type": "markdown",
   "metadata": {},
   "source": [
    "### 最长递增子序列的个数"
   ]
  },
  {
   "cell_type": "code",
   "execution_count": null,
   "metadata": {},
   "outputs": [],
   "source": [
    "class Solution:\n",
    "    def findNumberOfLIS(self, nums: List[int]) -> int:\n",
    "        n = len(nums)\n",
    "        if n<2:\n",
    "            return n\n",
    "        \n",
    "        dp =[1]*n\n",
    "        dp_all=[1]*n\n",
    "        for i in range(n):\n",
    "            for j in range(i):\n",
    "                if nums[i]>nums[j]:\n",
    "                    if dp[i]<=dp[j]:        \n",
    "                        dp[i]=dp[j]+1\n",
    "                        dp_all[i] = dp_all[j]\n",
    "\n",
    "                    elif dp[i]==dp[j]+1:\n",
    "                        # dp[i]=dp[i]\n",
    "                        dp_all[i] +=dp_all[j]\n",
    "        res =0\n",
    "        print(dp,dp_all)\n",
    "        for d,all_d in zip(dp,dp_all):\n",
    "            if d==max(dp):        \n",
    "                res +=all_d\n",
    "        return res\n",
    "\n",
    "        # if len(nums)<2:\n",
    "        #     return len(nums)      \n",
    "        # dp=[1]*len(nums)\n",
    "        # All=[1]*len(nums)\n",
    "        # maxlen=0\n",
    "        # for i in range(len(nums)):\n",
    "        #     for j in range(i):\n",
    "        #         if nums[j]<nums[i]:\n",
    "        #         # 此处有小弟！！！！！\n",
    "        #             # dp[i]=max(dp[j]+1,dp[i])\n",
    "        #             # maxlen=max(maxlen,dp[i])\n",
    "        #             # 以上太简洁了，不能找到上家的细节\n",
    "        #             if dp[j]>=dp[i]:\n",
    "        #                 # 小弟手下的人，比我现有的多！ #全拿你的过来用！！！                   \n",
    "        #                 dp[i]=dp[j]+1 \n",
    "        #                 All[i]=All[j] #来！带着你的手下来做我的直属部门\n",
    "        #             elif dp[j]+1==dp[i]:\n",
    "        #                 # 此人和我的副把手一样厉害，虽不能助我再升一级，但是他连同他的手下 可以加入到我的直属部门\n",
    "        #                 All[i]+=All[j]\n",
    "        # # 返回dp所有最大大佬，直属部门人员的总和【如果有三个dp都最大值，这三个直属部门里的人要都算进来】\n",
    "        # res=0\n",
    "        # for lead,people in zip(dp,All):\n",
    "        #     if lead==max(dp):\n",
    "        #         res+=people\n",
    "        # return res"
   ]
  },
  {
   "cell_type": "markdown",
   "metadata": {},
   "source": [
    "### 最大子序和"
   ]
  },
  {
   "cell_type": "code",
   "execution_count": null,
   "metadata": {},
   "outputs": [],
   "source": [
    "class Solution:\n",
    "    def maxSubArray(self, nums: List[int]):\n",
    "        \n",
    "        # 如果之前累积的，还不如现在，那从现在开始重来\n",
    "\n",
    "        # 累积值 是不是最大\n",
    "        n=len(nums)\n",
    "    \n",
    "        dp =[0]*n\n",
    "   \n",
    "        for i in range(n):\n",
    "            dp[i]=max(dp[i-1]+nums[i] ,nums[i])\n",
    "           \n",
    "\n",
    "        return max(dp)"
   ]
  },
  {
   "cell_type": "markdown",
   "metadata": {},
   "source": [
    "### 最长重复子数组"
   ]
  },
  {
   "cell_type": "code",
   "execution_count": null,
   "metadata": {},
   "outputs": [],
   "source": [
    "class Solution:\n",
    "    def findLength(self, A: List[int], B: List[int]) -> int:\n",
    "# 最长子数组，一定要连续\n",
    "        m =len(A)+1\n",
    "        n =len(B)+1\n",
    "        dp =[[0]*n for m in range(m)]\n",
    "        maxlen=0\n",
    "# 第一列str2表示为空dp[i][0]=0\n",
    "# 第一行str1表示为空dp[0][j]=0\n",
    "        for i in range(1,m): \n",
    "            for j in range(1,n):\n",
    "                if A[i-1]==B[j-1]:\n",
    "                    dp[i][j]=dp[i-1][j-1]+1\n",
    "                    maxlen=max(maxlen,dp[i][j]) #找到最长连续的\n",
    "                # else: #这个不行，要连续；这个适用于不连续\n",
    "                #     dp[i][j]=max(dp[i][j-1],dp[i-1][j])\n",
    "        return maxlen"
   ]
  },
  {
   "cell_type": "markdown",
   "metadata": {},
   "source": [
    "### "
   ]
  },
  {
   "cell_type": "code",
   "execution_count": null,
   "metadata": {},
   "outputs": [],
   "source": []
  },
  {
   "cell_type": "markdown",
   "metadata": {},
   "source": [
    "# 路径、距离"
   ]
  },
  {
   "cell_type": "markdown",
   "metadata": {},
   "source": [
    "### 不同路径（1）"
   ]
  },
  {
   "cell_type": "code",
   "execution_count": null,
   "metadata": {},
   "outputs": [],
   "source": [
    "class Solution:\n",
    "    def uniquePaths(self, m: int, n: int) -> int:\n",
    "        row =m\n",
    "        col =n\n",
    "        dp =[[1]*col for i in range(row)]\n",
    "\n",
    "        dp[0][0]=0  \n",
    "        if row==0 or col==0:\n",
    "            return 0  \n",
    "\n",
    "        for i in range(row):\n",
    "            for j in range(col): \n",
    "                if i==0 or j==0:\n",
    "                    dp[i][j]=1\n",
    "                else:       \n",
    "                    dp[i][j]=dp[i-1][j]+dp[i][j-1]\n",
    "\n",
    "        return dp[row-1][col-1]"
   ]
  },
  {
   "cell_type": "markdown",
   "metadata": {},
   "source": [
    "### 不同路径（有障碍）"
   ]
  },
  {
   "cell_type": "code",
   "execution_count": null,
   "metadata": {},
   "outputs": [],
   "source": [
    "class Solution:\n",
    "    def uniquePathsWithObstacles(self, obstacleGrid: List[List[int]]) -> int:\n",
    "# 扩大dp table, 使第0行或第0列的所有值为0，dp[1][1]为1，grid[i-1][j-1]为0，然后用状态转移方程\n",
    "        row =len(obstacleGrid)+1\n",
    "        col =len(obstacleGrid[0])+1\n",
    "        dp =[[1]*col for i in range(row)]\n",
    "\n",
    "            \n",
    "        if row==1 or col==1: #[[1]]\n",
    "            return 0  \n",
    "\n",
    "        for i in range(row):\n",
    "            dp[i][0]=0\n",
    "            dp[i][1]=1\n",
    "        for i in range(col):\n",
    "            dp[0][i]=0\n",
    "            dp[1][i]=1\n",
    "\n",
    "        for i in range(1,row):\n",
    "            for j in range(1,col): #i-1 会越界！！！！ \n",
    "                if obstacleGrid[i-1][j-1]==1:\n",
    "                    dp[i][j]=0                    \n",
    "                else:       \n",
    "                    print(i-1,j,dp[i-1][j])\n",
    "                    dp[i][j]=dp[i-1][j]+dp[i][j-1]\n",
    "        \n",
    "\n",
    "        return dp[row-1][col-1]"
   ]
  },
  {
   "cell_type": "markdown",
   "metadata": {},
   "source": [
    "### 最小路径和"
   ]
  },
  {
   "cell_type": "code",
   "execution_count": null,
   "metadata": {},
   "outputs": [],
   "source": [
    "class Solution:\n",
    "    def minPathSum(self, grid: List[List[int]]):\n",
    "        m=len(grid)\n",
    "        n =len(grid[0])\n",
    "        dp=[[0]*n for i in range(m)]\n",
    "        for i in range(m):\n",
    "            for j in range(n):\n",
    "                if i==0 and j==0:\n",
    "                    dp[i][j]=grid[i][j]\n",
    "                elif i==0 and j!=0:\n",
    "                    dp[i][j]=grid[i][j]+dp[i][j-1]\n",
    "                elif j==0 and i!=0:\n",
    "                    dp[i][j]=grid[i][j]+dp[i-1][j]\n",
    "                else:\n",
    "                    dp[i][j]=min(dp[i][j-1],dp[i-1][j])+grid[i][j]\n",
    "                # print(dp[i][j])\n",
    "\n",
    "\n",
    "\n",
    "\n",
    "        return dp[m-1][n-1]"
   ]
  },
  {
   "cell_type": "markdown",
   "metadata": {},
   "source": [
    "### 爬楼梯"
   ]
  },
  {
   "cell_type": "code",
   "execution_count": null,
   "metadata": {},
   "outputs": [],
   "source": [
    "class Solution:\n",
    "# method 1\n",
    "    # def climbStairs(self, n: int):\n",
    "    #     dp=[1]*(n+1)\n",
    "    #     if n==0 or n==1:\n",
    "    #         dp[n]=n\n",
    "        \n",
    "    #     for i in range(2,n+1):\n",
    "    #         dp[i]= dp[i-1]+dp[i-2]\n",
    "\n",
    "    #     return dp[n]\n",
    "\n",
    "\n",
    "# method 2\n",
    "    def climbStairs(self, n: int):\n",
    "        a = 0\n",
    "        b = 1\n",
    "        \n",
    "        for i in range(1,n+1):\n",
    "            a,b=b,a+b\n",
    "\n",
    "        return b"
   ]
  },
  {
   "cell_type": "markdown",
   "metadata": {},
   "source": [
    "### 零钱兑换MIN 最小多少coin"
   ]
  },
  {
   "cell_type": "code",
   "execution_count": null,
   "metadata": {},
   "outputs": [],
   "source": [
    "class Solution:\n",
    "    def coinChange(self, coins: List[int], amount: int):    \n",
    "#         dp =[-1]*(amount + 1)\n",
    "# # 用coins[i]，可以获得 amount\n",
    "# # dp[amount]前一个状态dp[amount-coins[i]]\n",
    "# # 上一个状态即dp[amount-1],dp[amount-2],dp[amount-5]\n",
    "# # base case\n",
    "#         dp[0]=0\n",
    "# # transfer function\n",
    "#         for i in range(1,amount+1):\n",
    "#             tmp=[]\n",
    "#             for j in coins:\n",
    "# # dp[i]=min(dp[i-j]+1) 这是伪代码\n",
    "#                 if i-j>=0 and dp[i-j]!=-1: #前面一个要真实存在\n",
    "#                     tmp.append(dp[i-j]+1)\n",
    "#                     # tmp.append(dp[i])\n",
    "#             if tmp!=[]:\n",
    "#                 dp[i]=min(tmp)\n",
    "# # +++++++这部分debug忙了两个小时，直接套公式不一定能实现+++++++++++++\n",
    "# # 一些思考🤔\n",
    "# # 1. dp[i]是一维，用嵌套循环的时候，注意放在哪个loop 里面\n",
    "# # 2.因为前面存在无效dp[i]=-1， 和初始化dp[0]=0，在利用前面的dp[i-1]要注意控制条件      \n",
    "#         return dp[amount]\n",
    "\n",
    "\n",
    "# -------------------20天后，我有了个超简洁的版本------------------\n",
    "        if amount==0:\n",
    "            return 0\n",
    "        dp =[-1]*(amount+1)\n",
    "        for i in range(amount+1):\n",
    "            dp[i]=min(dp[i-coins[j]] for j in range(len(coins)))+1\n",
    "        return dp[amount]"
   ]
  },
  {
   "cell_type": "markdown",
   "metadata": {},
   "source": [
    "### 零钱兑换累加 组合数"
   ]
  },
  {
   "cell_type": "code",
   "execution_count": null,
   "metadata": {},
   "outputs": [],
   "source": [
    "# dp =[-1]*(amount+1)\n",
    "# dp[i] += dp[i-coins[j]] for j in range(len(coins))\n",
    "\n"
   ]
  },
  {
   "cell_type": "markdown",
   "metadata": {},
   "source": [
    "### 0/1背包"
   ]
  },
  {
   "cell_type": "code",
   "execution_count": null,
   "metadata": {},
   "outputs": [],
   "source": [
    "int dp[N+1][W+1]\n",
    "dp[0][..] = 0\n",
    "dp[..][0] = 0\n",
    "\n",
    "for i in [1..N]:\n",
    "    for w in [1..W]:\n",
    "        dp[i][w] = max(\n",
    "            把物品 i 装进背包,\n",
    "            不把物品 i 装进背包\n",
    "        )\n",
    "return dp[N][W]"
   ]
  },
  {
   "cell_type": "code",
   "execution_count": null,
   "metadata": {},
   "outputs": [],
   "source": [
    "    // vector 全填入 0，base case 已初始化\n",
    "    vector<vector<int>> dp(N + 1, vector<int>(W + 1, 0));\n",
    "    for (int i = 1; i <= N; i++) {\n",
    "        for (int w = 1; w <= W; w++) {\n",
    "            if (w - wt[i-1] < 0) {\n",
    "                // 当前背包容量装不下，只能选择不装入背包\n",
    "                dp[i][w] = dp[i - 1][w];\n",
    "            } else {\n",
    "                // 装入或者不装入背包，择优\n",
    "                dp[i][w] = max(dp[i - 1][w - wt[i-1]] + val[i-1], \n",
    "                               dp[i - 1][w]);\n",
    "            }\n",
    "        }\n",
    "    }\n",
    "\n",
    "    return dp[N][W];\n"
   ]
  },
  {
   "cell_type": "code",
   "execution_count": null,
   "metadata": {},
   "outputs": [],
   "source": []
  },
  {
   "cell_type": "markdown",
   "metadata": {},
   "source": [
    "# 高楼扔鸡蛋"
   ]
  },
  {
   "cell_type": "markdown",
   "metadata": {},
   "source": [
    "什么叫「最坏情况」下「至少」要扔几次呢？我们分别举个例子就明白了。\n",
    "\n",
    "最坏情况应该就是我试到第 7 层鸡蛋也没碎（F = 7），也就是我扔了 7 次鸡蛋。\n",
    "「最坏情况」下了，鸡蛋破碎一定发生在搜索区间穷尽时，不会说你在第 1 层摔一下鸡蛋就碎了，这是你运气好，不是最坏情况。\n",
    "\n",
    "什么叫「至少」要扔几次。依然不考虑鸡蛋个数限制，同样是 7 层楼，我们可以优化策略。\n",
    "\n",
    "如果不要「二分」，变成「五分」「十分」都会大幅减少最坏情况下的尝试次数。比方说第一个鸡蛋每隔十层楼扔，在哪里碎了第二个鸡蛋一个个线性扫描，总共不会超过 20 次。\n",
    "\n",
    "2个蛋，100层，最优解其实是【最坏情况下找到会碎的楼层】 14 次。"
   ]
  },
  {
   "cell_type": "markdown",
   "metadata": {},
   "source": [
    "动态规划算法的时间复杂度就是\n",
    "\n",
    "子问题个数 × 函数本身的复杂度\n",
    "\n",
    " O(KN)* O(N)= O(K*N^2)"
   ]
  },
  {
   "attachments": {
    "egg.jpg": {
     "image/jpeg": "[encoded data removed]"
    }
   },
   "cell_type": "markdown",
   "metadata": {},
   "source": [
    "![egg.jpg](attachment:egg.jpg)"
   ]
  },
  {
   "cell_type": "markdown",
   "metadata": {},
   "source": [
    " 「状态」很明显，就是当前拥有的鸡蛋数K和需要测试的楼层数N。随着测试的进行，鸡蛋个数可能减少，楼层的搜索范围会减小，这就是状态的变化。\n",
    "\n",
    "「选择」其实就是去选择哪层楼扔鸡蛋。\n",
    "\n",
    "😎如果鸡蛋碎了，那么鸡蛋的个数K应该减一，搜索的楼层区间应该从[1..N]变为[1..i-1]共i-1层楼；\n",
    "\n",
    "🤨如果鸡蛋没碎，那么鸡蛋的个数K不变，搜索的楼层区间应该从 [1..N]变为[i+1..N]共N-i层楼。"
   ]
  },
  {
   "cell_type": "code",
   "execution_count": 18,
   "metadata": {},
   "outputs": [],
   "source": [
    "def superEggDrop(K,N):\n",
    "\n",
    "    memo = dict()\n",
    "    def dp(K, N) -> int:\n",
    "        # base case\n",
    "        if K == 1: return N\n",
    "        if N == 0: return 0\n",
    "        # 避免重复计算\n",
    "        if (K, N) in memo:\n",
    "            return memo[(K, N)]\n",
    "\n",
    "        res = float('INF')\n",
    "        # 穷举所有可能的选择\n",
    "        for i in range(1, N + 1):\n",
    "            res = min(res, \n",
    "                      max(\n",
    "                            dp(K, N - i), \n",
    "                            dp(K - 1, i - 1)\n",
    "                         ) + 1\n",
    "                  )\n",
    "        # 记入备忘录\n",
    "        memo[(K, N)] = res\n",
    "        return res\n",
    "\n",
    "    return dp(K, N)"
   ]
  },
  {
   "cell_type": "code",
   "execution_count": 20,
   "metadata": {},
   "outputs": [
    {
     "data": {
      "text/plain": [
       "14"
      ]
     },
     "execution_count": 20,
     "metadata": {},
     "output_type": "execute_result"
    }
   ],
   "source": [
    "superEggDrop(2,100)"
   ]
  },
  {
   "cell_type": "code",
   "execution_count": 14,
   "metadata": {},
   "outputs": [],
   "source": [
    "def egg(n,k):\n",
    "    dp=[[0]*k for i in range(n)]\n",
    "    for i in range(n):\n",
    "        dp[i][0]=0\n",
    "        dp[i][1]=i\n",
    "    for i in range(k):\n",
    "        dp[0][i]=0\n",
    "    \n",
    "    res =n\n",
    "    for i in range(1,n+1):\n",
    "        for j in range(2,k+1):\n",
    "            for ith in range(i+1):\n",
    "                dp[i][j]=max(dp[i-ith][j],dp[i-1][j-1])\n",
    "                res=min(res,dp[i][j])+1\n",
    "    return res"
   ]
  },
  {
   "cell_type": "code",
   "execution_count": 15,
   "metadata": {},
   "outputs": [
    {
     "ename": "IndexError",
     "evalue": "list index out of range",
     "output_type": "error",
     "traceback": [
      "\u001b[0;31m---------------------------------------------------------------------------\u001b[0m",
      "\u001b[0;31mIndexError\u001b[0m                                Traceback (most recent call last)",
      "\u001b[0;32m<ipython-input-15-9119a6a49061>\u001b[0m in \u001b[0;36m<module>\u001b[0;34m\u001b[0m\n\u001b[0;32m----> 1\u001b[0;31m \u001b[0megg\u001b[0m\u001b[0;34m(\u001b[0m\u001b[0;36m100\u001b[0m\u001b[0;34m,\u001b[0m\u001b[0;36m2\u001b[0m\u001b[0;34m)\u001b[0m\u001b[0;34m\u001b[0m\u001b[0;34m\u001b[0m\u001b[0m\n\u001b[0m",
      "\u001b[0;32m<ipython-input-14-597939a5a272>\u001b[0m in \u001b[0;36megg\u001b[0;34m(n, k)\u001b[0m\n\u001b[1;32m     11\u001b[0m         \u001b[0;32mfor\u001b[0m \u001b[0mj\u001b[0m \u001b[0;32min\u001b[0m \u001b[0mrange\u001b[0m\u001b[0;34m(\u001b[0m\u001b[0;36m2\u001b[0m\u001b[0;34m,\u001b[0m\u001b[0mk\u001b[0m\u001b[0;34m+\u001b[0m\u001b[0;36m1\u001b[0m\u001b[0;34m)\u001b[0m\u001b[0;34m:\u001b[0m\u001b[0;34m\u001b[0m\u001b[0;34m\u001b[0m\u001b[0m\n\u001b[1;32m     12\u001b[0m             \u001b[0;32mfor\u001b[0m \u001b[0mith\u001b[0m \u001b[0;32min\u001b[0m \u001b[0mrange\u001b[0m\u001b[0;34m(\u001b[0m\u001b[0mi\u001b[0m\u001b[0;34m+\u001b[0m\u001b[0;36m1\u001b[0m\u001b[0;34m)\u001b[0m\u001b[0;34m:\u001b[0m\u001b[0;34m\u001b[0m\u001b[0;34m\u001b[0m\u001b[0m\n\u001b[0;32m---> 13\u001b[0;31m                 \u001b[0mdp\u001b[0m\u001b[0;34m[\u001b[0m\u001b[0mi\u001b[0m\u001b[0;34m]\u001b[0m\u001b[0;34m[\u001b[0m\u001b[0mj\u001b[0m\u001b[0;34m]\u001b[0m\u001b[0;34m=\u001b[0m\u001b[0mmax\u001b[0m\u001b[0;34m(\u001b[0m\u001b[0mdp\u001b[0m\u001b[0;34m[\u001b[0m\u001b[0mi\u001b[0m\u001b[0;34m-\u001b[0m\u001b[0mith\u001b[0m\u001b[0;34m]\u001b[0m\u001b[0;34m[\u001b[0m\u001b[0mj\u001b[0m\u001b[0;34m]\u001b[0m\u001b[0;34m,\u001b[0m\u001b[0mdp\u001b[0m\u001b[0;34m[\u001b[0m\u001b[0mi\u001b[0m\u001b[0;34m-\u001b[0m\u001b[0;36m1\u001b[0m\u001b[0;34m]\u001b[0m\u001b[0;34m[\u001b[0m\u001b[0mj\u001b[0m\u001b[0;34m-\u001b[0m\u001b[0;36m1\u001b[0m\u001b[0;34m]\u001b[0m\u001b[0;34m)\u001b[0m\u001b[0;34m\u001b[0m\u001b[0;34m\u001b[0m\u001b[0m\n\u001b[0m\u001b[1;32m     14\u001b[0m                 \u001b[0mres\u001b[0m\u001b[0;34m=\u001b[0m\u001b[0mmin\u001b[0m\u001b[0;34m(\u001b[0m\u001b[0mres\u001b[0m\u001b[0;34m,\u001b[0m\u001b[0mdp\u001b[0m\u001b[0;34m[\u001b[0m\u001b[0mi\u001b[0m\u001b[0;34m]\u001b[0m\u001b[0;34m[\u001b[0m\u001b[0mj\u001b[0m\u001b[0;34m]\u001b[0m\u001b[0;34m)\u001b[0m\u001b[0;34m+\u001b[0m\u001b[0;36m1\u001b[0m\u001b[0;34m\u001b[0m\u001b[0;34m\u001b[0m\u001b[0m\n\u001b[1;32m     15\u001b[0m     \u001b[0;32mreturn\u001b[0m \u001b[0mres\u001b[0m\u001b[0;34m\u001b[0m\u001b[0;34m\u001b[0m\u001b[0m\n",
      "\u001b[0;31mIndexError\u001b[0m: list index out of range"
     ]
    }
   ],
   "source": [
    "egg(100,2)"
   ]
  },
  {
   "cell_type": "code",
   "execution_count": 2,
   "metadata": {},
   "outputs": [
    {
     "data": {
      "text/plain": [
       "[[0, 0, 0], [0, 0, 0], [0, 0, 0], [0, 0, 0], [0, 0, 0]]"
      ]
     },
     "execution_count": 2,
     "metadata": {},
     "output_type": "execute_result"
    }
   ],
   "source": [
    "[[0]*3 for i in range(5)]"
   ]
  },
  {
   "cell_type": "markdown",
   "metadata": {},
   "source": [
    "# 区间调度"
   ]
  },
  {
   "cell_type": "code",
   "execution_count": null,
   "metadata": {},
   "outputs": [],
   "source": [
    "def call():\n",
    "    a =int(input())\n",
    "    \n",
    "    if a==0:\n",
    "        return 0\n",
    "    \n",
    "\n",
    "    l=[]\n",
    "    for i in range(a):\n",
    "        n1,n2=map(int, input().split(','))\n",
    "        l.append((n1,1))\n",
    "        l.append((n2,0))\n",
    "\n",
    "    l.sort(key=lambda x:(x[0],x[1]))\n",
    "    res=0\n",
    "    now =0\n",
    "    for (v,type) in l:\n",
    "        if type==1:\n",
    "            now+=1\n",
    "        else:\n",
    "            now-=1\n",
    "        res=max(res,now)\n",
    "    return res"
   ]
  },
  {
   "cell_type": "code",
   "execution_count": null,
   "metadata": {},
   "outputs": [],
   "source": []
  },
  {
   "cell_type": "code",
   "execution_count": null,
   "metadata": {},
   "outputs": [],
   "source": []
  },
  {
   "cell_type": "markdown",
   "metadata": {},
   "source": [
    "# 打家劫舍"
   ]
  },
  {
   "cell_type": "markdown",
   "metadata": {},
   "source": [
    "### 打家劫舍"
   ]
  },
  {
   "cell_type": "code",
   "execution_count": null,
   "metadata": {},
   "outputs": [],
   "source": [
    "class Solution:\n",
    "    def rob(self, nums: List[int]):\n",
    "        n=len(nums)\n",
    "        dp=[0]*len(nums)\n",
    "# if nums_list is empty\n",
    "        if n==0:\n",
    "            return 0\n",
    "       \n",
    "        for i in range(n):  \n",
    "# base case \n",
    "            if i==0:\n",
    "                dp[i]=nums[0]\n",
    "            if i==1:\n",
    "                dp[i]= max(nums[0],nums[1]) \n",
    "# transfer function\n",
    "            if i>=2:     \n",
    "                dp[i] =max(dp[i-1],nums[i]+dp[i-2])\n",
    "\n",
    "        return dp[n-1]"
   ]
  },
  {
   "cell_type": "code",
   "execution_count": null,
   "metadata": {},
   "outputs": [],
   "source": []
  },
  {
   "cell_type": "markdown",
   "metadata": {},
   "source": [
    "# 股票交易"
   ]
  },
  {
   "cell_type": "markdown",
   "metadata": {},
   "source": [
    "### 买卖股票最佳时机"
   ]
  },
  {
   "cell_type": "code",
   "execution_count": null,
   "metadata": {},
   "outputs": [],
   "source": [
    "class Solution:\n",
    "    def maxProfit(self, prices: List[int]) -> int:\n",
    "        if len(prices)==0:\n",
    "            return 0\n",
    "        buy=prices[0]\n",
    "        profit=prices[-1]-prices[0]\n",
    "     \n",
    "        n =len(prices)\n",
    "        for i in range(n):\n",
    "           \n",
    "            buy =min(buy,prices[i])\n",
    "            profit =max(profit,prices[i]-buy)\n",
    "            \n",
    "\n",
    "        return profit"
   ]
  },
  {
   "cell_type": "code",
   "execution_count": null,
   "metadata": {},
   "outputs": [],
   "source": []
  },
  {
   "cell_type": "markdown",
   "metadata": {},
   "source": [
    "# 不同的BST"
   ]
  },
  {
   "cell_type": "code",
   "execution_count": null,
   "metadata": {},
   "outputs": [],
   "source": [
    "class Solution:\n",
    "    def numTrees(self, n: int) -> int:\n",
    "        # 以数字k为根 的可能BST数=左子树的BST数*右子树的BST数\n",
    "        # F(k,N)=G(k-1)*G(N-k) 只和长度有关，和数字内容无关\n",
    "        # G（N）=F(1,N)+F(2,N)+F(3,N)...+F(k,N)+F(N,N)\n",
    "        # G（N-1）=F(1,N-1)+F(2,N-1)+F(3,N-1)...+F(k,N-1)+...+F(N-1,N-1)\n",
    "        # G（N-2）=F(1,N-2)+F(2,N-2)+F(3,N-2)...+F(k,N-2)+...+F(N-2,N-2)\n",
    "        # .\n",
    "        # .\n",
    "        # G(3)=F(1,3)+F(2,3)+F(3,3)\n",
    "        # G(2)=F(1,2)+F(2,2)\n",
    "        # G(1)=1\n",
    "        # G(0)=1\n",
    "        dp=[0]*(n+1)\n",
    "        dp[0]=1\n",
    "        dp[1]=1\n",
    "        for k in range(2,n+1):\n",
    "            for j in range(1,k+1):\n",
    "                dp[k]+=dp[j-1]*dp[k-j]\n",
    "\n",
    "        return dp[n]"
   ]
  },
  {
   "cell_type": "code",
   "execution_count": null,
   "metadata": {},
   "outputs": [],
   "source": []
  },
  {
   "cell_type": "code",
   "execution_count": null,
   "metadata": {},
   "outputs": [],
   "source": []
  },
  {
   "cell_type": "code",
   "execution_count": null,
   "metadata": {},
   "outputs": [],
   "source": []
  },
  {
   "cell_type": "code",
   "execution_count": null,
   "metadata": {},
   "outputs": [],
   "source": []
  },
  {
   "cell_type": "code",
   "execution_count": null,
   "metadata": {},
   "outputs": [],
   "source": []
  },
  {
   "cell_type": "code",
   "execution_count": null,
   "metadata": {},
   "outputs": [],
   "source": []
  },
  {
   "cell_type": "code",
   "execution_count": null,
   "metadata": {},
   "outputs": [],
   "source": []
  },
  {
   "cell_type": "code",
   "execution_count": null,
   "metadata": {},
   "outputs": [],
   "source": []
  },
  {
   "cell_type": "code",
   "execution_count": null,
   "metadata": {},
   "outputs": [],
   "source": []
  },
  {
   "cell_type": "code",
   "execution_count": null,
   "metadata": {},
   "outputs": [],
   "source": []
  },
  {
   "cell_type": "code",
   "execution_count": null,
   "metadata": {},
   "outputs": [],
   "source": []
  },
  {
   "cell_type": "code",
   "execution_count": null,
   "metadata": {},
   "outputs": [],
   "source": []
  }
 ],
 "metadata": {
  "kernelspec": {
   "display_name": "Python 3",
   "language": "python",
   "name": "python3"
  },
  "language_info": {
   "codemirror_mode": {
    "name": "ipython",
    "version": 3
   },
   "file_extension": ".py",
   "mimetype": "text/x-python",
   "name": "python",
   "nbconvert_exporter": "python",
   "pygments_lexer": "ipython3",
   "version": "3.7.4"
  },
  "toc": {
   "base_numbering": 1,
   "nav_menu": {},
   "number_sections": true,
   "sideBar": true,
   "skip_h1_title": false,
   "title_cell": "Table of Contents",
   "title_sidebar": "Contents",
   "toc_cell": false,
   "toc_position": {},
   "toc_section_display": true,
   "toc_window_display": false
  }
 },
 "nbformat": 4,
 "nbformat_minor": 2
}
