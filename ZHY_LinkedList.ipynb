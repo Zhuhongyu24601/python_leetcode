{
 "cells": [
  {
   "cell_type": "markdown",
   "metadata": {},
   "source": [
    "## 构建链表"
   ]
  },
  {
   "cell_type": "code",
   "execution_count": 1,
   "metadata": {},
   "outputs": [],
   "source": [
    "class LinkedList:\n",
    "    def __init__(self,x):\n",
    "        self.val =x\n",
    "        self.next =None\n",
    "        \n",
    "def arr2Linked(arr):\n",
    "    head=LinkedList(arr[0])\n",
    "    p=head\n",
    "    for i in arr[1:]:\n",
    "        p.next =LinkedList(i)\n",
    "        p =p.next       \n",
    "    return head\n",
    "\n",
    "def printNode(node):\n",
    "    while node:     \n",
    "        print(node.val)\n",
    "        node =node.next"
   ]
  },
  {
   "cell_type": "code",
   "execution_count": 2,
   "metadata": {
    "collapsed": true
   },
   "outputs": [
    {
     "name": "stdout",
     "output_type": "stream",
     "text": [
      "1\n",
      "2\n",
      "3\n",
      "4\n",
      "5\n",
      "6\n",
      "7\n",
      "8\n",
      "9\n",
      "10\n"
     ]
    }
   ],
   "source": [
    "l=[1,2,3,4,5,6,7,8,9,10]\n",
    "l1=[1,4,7,9,10]\n",
    "l2=[2,5,8,11]\n",
    "l2=[3,6,23]\n",
    "head =arr2Linked(l)\n",
    "printNode(head)"
   ]
  },
  {
   "cell_type": "markdown",
   "metadata": {},
   "source": [
    "# Trick\n",
    "1.保存一个不移动的头变量 head\n",
    "\n",
    "2.用指针【pre,cur,next】，有的时候用四个【pre,start,end,Pnext】\n",
    "\n",
    "3.快慢指针【找中点，找第K个节点】"
   ]
  },
  {
   "cell_type": "markdown",
   "metadata": {},
   "source": [
    "## FLIP linked list"
   ]
  },
  {
   "cell_type": "markdown",
   "metadata": {},
   "source": [
    "### 206.反转整个链表"
   ]
  },
  {
   "cell_type": "code",
   "execution_count": null,
   "metadata": {},
   "outputs": [],
   "source": [
    "class ListNode:\n",
    "    def __init__(self, x):\n",
    "        self.val = x\n",
    "        self.next = None\n",
    "\n",
    "class Solution:\n",
    "    def reverseList(self, head):\n",
    "        if head ==None or head.next ==None:\n",
    "            return head\n",
    "# 1.定义三个指针！因为cur指向变了之后cur.next=pre，后移需要一个值，不然死回环 cur=cur.next=pre\n",
    "        pre=head\n",
    "        cur =head.next\n",
    "        post=None\n",
    "        head.next =None #避免回环\n",
    "#  2.指向反转\n",
    "#  3.指针后移       \n",
    "        while cur:\n",
    "            post =cur.next #一定要先 保存好cur.next,再指向！！！为后移作准备\n",
    "            cur.next =pre\n",
    "            pre,cur =cur,post\n",
    "        return pre"
   ]
  },
  {
   "cell_type": "markdown",
   "metadata": {},
   "source": [
    "### 92.反转部分链表"
   ]
  },
  {
   "cell_type": "code",
   "execution_count": null,
   "metadata": {},
   "outputs": [],
   "source": [
    "class Solution:\n",
    "    def reverseBetween(self, head: ListNode, m: int, n: int) -> ListNode:\n",
    "        # 插入法，遍历head之后的结点，插到head后面去\n",
    "        p=turning_point=ListNode(-1)\n",
    "        p.next=head\n",
    "        pre=p\n",
    "        if n==m:#corner case\n",
    "            return head\n",
    "\n",
    "        for i in range(m-1):\n",
    "            pre =pre.next\n",
    "        turning_point =pre.next\n",
    "        cur=turning_point.next\n",
    "        turning_point.next=None #指向None!!!非常重要，否则会回环！就这里回环！\n",
    "        # pre =m-1\n",
    "        # cur =m+1\n",
    "        # turning_point=m\n",
    "        # 把cur以及之后n-m个数插入到 pre与turning point之间\n",
    "        j =0\n",
    "        while j<n-m and cur:\n",
    "            # post指针\n",
    "            post=cur.next if cur.next else None\n",
    "        #     插入操作，pre固定不变，插到pre与pre.next之间,\n",
    "        #     所以pre.next需要指向反转部分后面的一个数\n",
    "            cur.next=pre.next\n",
    "            pre.next =cur\n",
    "            # 指针后移\n",
    "            cur =post\n",
    "            j+=1\n",
    "\n",
    "        turning_point.next =post\n",
    "        return p.next"
   ]
  },
  {
   "cell_type": "markdown",
   "metadata": {},
   "source": [
    "### 24.两两一组翻转"
   ]
  },
  {
   "cell_type": "code",
   "execution_count": null,
   "metadata": {},
   "outputs": [],
   "source": [
    "class Solution:\n",
    "    def swapPairs(self, head: ListNode) -> ListNode:\n",
    "        p =ListNode(-1)\n",
    "        p.next =head\n",
    "        pre =p\n",
    "        cur =head\n",
    "        if head==None or head.next==None:\n",
    "            return head\n",
    "        post =cur.next.next \n",
    "\n",
    "        while cur and cur.next:\n",
    "            pre.next =cur.next\n",
    "            cur.next.next= cur\n",
    "            cur.next =post\n",
    "            pre =cur\n",
    "            cur =post\n",
    "            post =cur.next.next if cur and cur.next and cur.next.next else None\n",
    "        return p.next"
   ]
  },
  {
   "cell_type": "markdown",
   "metadata": {},
   "source": [
    "### 25.K个一组翻转"
   ]
  },
  {
   "cell_type": "code",
   "execution_count": null,
   "metadata": {},
   "outputs": [],
   "source": [
    "class Solution:\n",
    "    def reverseKGroup(self, head: ListNode, k: int) -> ListNode:\n",
    "    # 四个指针，pre,begin,end,Pnext\n",
    "    # pre,begin可以先确定,end,Pnext等跑完k之后确定\n",
    "#--------------还是三步走----------------\n",
    "    # 1.定义指针\n",
    "    # 2.指针转向\n",
    "    # 3.指针后移\n",
    "# 1.定义指针        \n",
    "        p =ListNode(-1)\n",
    "        pre=p\n",
    "        p.next =head\n",
    "        end =begin =head       \n",
    "        Pnext =None\n",
    "    #     i =1\n",
    "        while begin:\n",
    "    #       小循环里面的变量 每次都要更新\n",
    "            i =1\n",
    "            end=begin\n",
    "            while i<k and end:\n",
    "                end =end.next\n",
    "                i+=1\n",
    "            \n",
    "            Pnext=end.next if end else None #为指针后移 保存一个接盘变量\n",
    "            if end:\n",
    "# 2.指针转向 k个翻转 部分独立出来\n",
    "                end.next =None #避免回环！！！    \n",
    "                pre.next=reverseLinked(begin)  #调用单链表 全翻转\n",
    "                begin.next =Pnext if Pnext else None\n",
    "\n",
    "# 3.指针后移\n",
    "            pre=begin\n",
    "            begin=Pnext\n",
    "    \n",
    "    #         i =1\n",
    "        return p.next\n",
    "\n",
    "\n",
    "\n",
    "    # ========================单链表翻转 ========================\n",
    "def reverseLinked(head):\n",
    "    if head ==None or head.next ==None:\n",
    "        return head\n",
    "# 1.定义三个指针！因为cur指向变了之后cur.next=pre，后移需要一个值，不然死回环 cur=cur.next=pre\n",
    "    pre=head\n",
    "    cur =head.next\n",
    "    post=None\n",
    "    head.next =None #避免回环\n",
    "#  2.指向反转\n",
    "#  3.指针后移       \n",
    "    while cur:\n",
    "        post =cur.next #一定要先 保存好cur.next,再指向！！！为后移作准备\n",
    "        cur.next =pre\n",
    "        pre,cur =cur,post\n",
    "    return pre"
   ]
  },
  {
   "cell_type": "code",
   "execution_count": null,
   "metadata": {},
   "outputs": [],
   "source": []
  },
  {
   "cell_type": "markdown",
   "metadata": {},
   "source": [
    "##  合并"
   ]
  },
  {
   "cell_type": "markdown",
   "metadata": {},
   "source": [
    "### 21.合并两个有序链表"
   ]
  },
  {
   "cell_type": "code",
   "execution_count": null,
   "metadata": {},
   "outputs": [],
   "source": [
    "class Solution:\n",
    "    def mergeTwoLists(self, l1: ListNode, l2: ListNode):\n",
    "# if l1 is none, node->l2\n",
    "# if l2 is none, node->l1\n",
    "        c1=l1\n",
    "        c2=l2\n",
    "\n",
    "        if c1==None:\n",
    "            return c2\n",
    "        if c2==None:\n",
    "            return c1\n",
    "   \n",
    "# Initilize the start node ->head\n",
    "#           the current node->tmp\n",
    "        head=None\n",
    "        tmp=None\n",
    "        \n",
    "# head\n",
    "        if c1.val<c2.val:    \n",
    "            head=c1\n",
    "            tmp=c1\n",
    "            c1=c1.next        \n",
    "        else:\n",
    "            head=c2\n",
    "            tmp=c2\n",
    "            c2=c2.next\n",
    "     \n",
    "      \n",
    " # add\n",
    "        while c1!=None and c2!=None:\n",
    "            if c1.val<c2.val:    \n",
    "                tmp.next=c1\n",
    "                tmp=c1\n",
    "                c1=c1.next        \n",
    "            else:\n",
    "                tmp.next =c2\n",
    "                tmp=c2\n",
    "                c2=c2.next\n",
    "# remains\n",
    "        if c1!=None:\n",
    "            tmp.next=c1\n",
    "        if c2!=None:\n",
    "            tmp.next=c2\n",
    "        return head"
   ]
  },
  {
   "cell_type": "code",
   "execution_count": null,
   "metadata": {},
   "outputs": [],
   "source": []
  },
  {
   "cell_type": "markdown",
   "metadata": {},
   "source": [
    "### 23.合并K个有序链表"
   ]
  },
  {
   "cell_type": "code",
   "execution_count": null,
   "metadata": {},
   "outputs": [],
   "source": [
    "class Solution:\n",
    "    def mergeKLists(self, lists: List[ListNode]) -> ListNode:\n",
    "        # 分治法：时间复杂度O(NlogK),空间复杂度O(1)\n",
    "# 大循环里面有个小循环：\n",
    "# 小循环：\n",
    "#     step=t*2=2,也就是两个链表一组对比，分成len(lists)//2组，内部调用 合并两个有序链表的函数\n",
    "#     step=t*2=4,也就是四个链表一组对比（其中每两组已经比较好），分成len(lists)//2组\n",
    "# t*=2\n",
    "        t =1\n",
    "        n =len(lists)\n",
    "        while t<len(lists):\n",
    "            for i in range(0,n-t,t*2):\n",
    "                lists[i] =merge2Link(lists[i],lists[i+t])\n",
    "            t *=2\n",
    "        return lists[0] if n>0 else lists\n",
    "\n",
    "\n",
    "def merge2Link(l1,l2):\n",
    "    p1,p2 = l1,l2  \n",
    "    p=ListNode(-1)\n",
    "    head =p  #需要两个头，一个头用来跑，一个头放在那里\n",
    "    while p1 and p2:\n",
    "        if p1.val<p2.val:\n",
    "            p.next,p1=p1,p1.next\n",
    "        else:\n",
    "            p.next,p2=p2,p2.next\n",
    "        p =p.next\n",
    "    p.next =p1 or p2\n",
    "    return head.next"
   ]
  },
  {
   "cell_type": "code",
   "execution_count": null,
   "metadata": {},
   "outputs": [],
   "source": []
  },
  {
   "cell_type": "code",
   "execution_count": null,
   "metadata": {},
   "outputs": [],
   "source": []
  },
  {
   "cell_type": "markdown",
   "metadata": {},
   "source": [
    "## 删除重复"
   ]
  },
  {
   "cell_type": "markdown",
   "metadata": {},
   "source": [
    "### 82.删除排序链表中的重复元素（重复部分）"
   ]
  },
  {
   "cell_type": "code",
   "execution_count": null,
   "metadata": {},
   "outputs": [],
   "source": [
    "class Solution:\n",
    "    def deleteDuplicates(self, head: ListNode) -> ListNode:\n",
    "    # 只要cur:    \n",
    "    #     while cur and cur.next and cur.val==cur.next.val，\n",
    "                # 就一直cur=cur.next     \n",
    "    #     pre.next =cur.next，指向数字不同那个的位置，则中间的全被删除\n",
    "    #     while cur and cur.next and cur.val!=cur.next.val,\n",
    "                # pre=cur\n",
    "                # cur=cur.next\n",
    "            p=ListNode(-1)\n",
    "            p.next =head\n",
    "            pre =p\n",
    "            cur =head\n",
    "            \n",
    "            while cur:   \n",
    "                # pre =cur\n",
    "                # cur=cur.next       \n",
    "                while cur and cur.next and cur.val ==cur.next.val:\n",
    "                    # 根据报错【1，1，1】答案为空集，cur不能等于cur.next如果cur.next==None  \n",
    "                    cur =cur.next\n",
    "                    \n",
    "                # 遇到重复的数值就一直cur往后跑，直到next为空/不等于next\n",
    "                    if cur.next==None: #next为空\n",
    "                        pre.next =None\n",
    "                    if cur.next and cur.val!=cur.next.val:#不等于next\n",
    "                        cur =cur.next\n",
    "                        pre.next =cur  #pre.next=cur.next 不能这样写，否则cur指针也被删掉了！！！\n",
    "                    \n",
    "                pre =cur\n",
    "                cur=cur.next \n",
    "                \n",
    "            return p.next"
   ]
  },
  {
   "cell_type": "code",
   "execution_count": null,
   "metadata": {},
   "outputs": [],
   "source": []
  },
  {
   "cell_type": "markdown",
   "metadata": {},
   "source": [
    "### 82.删除排序链表中的重复元素（包括该元素）"
   ]
  },
  {
   "cell_type": "code",
   "execution_count": null,
   "metadata": {},
   "outputs": [],
   "source": [
    "class Solution:\n",
    "    def deleteDuplicates(self, head: ListNode) -> ListNode:\n",
    "        p =ListNode(-1)\n",
    "        pre=p\n",
    "        cur=head\n",
    "        p.next =head\n",
    "        while cur:\n",
    "            while cur and cur.next and cur.val ==cur.next.val:\n",
    "                cur =cur.next\n",
    "                if cur.next==None:\n",
    "                    pre.next=cur\n",
    "\n",
    "                if cur.next and cur.val !=cur.next.val:\n",
    "                    pre.next =cur\n",
    "            pre =cur\n",
    "            cur =cur.next\n",
    "        \n",
    "        return p.next"
   ]
  },
  {
   "cell_type": "code",
   "execution_count": null,
   "metadata": {},
   "outputs": [],
   "source": []
  },
  {
   "cell_type": "code",
   "execution_count": null,
   "metadata": {},
   "outputs": [],
   "source": []
  },
  {
   "cell_type": "markdown",
   "metadata": {},
   "source": [
    "## 快慢指针"
   ]
  },
  {
   "cell_type": "markdown",
   "metadata": {},
   "source": [
    "### 141.环形链表"
   ]
  },
  {
   "cell_type": "code",
   "execution_count": null,
   "metadata": {},
   "outputs": [],
   "source": [
    "class Solution:\n",
    "    def hasCycle(self, head: ListNode):\n",
    "        s=f=head\n",
    "        if head==None:  #[]\n",
    "            return False\n",
    "\n",
    "        while f and f.next:\n",
    "            s=s.next\n",
    "            f=f.next.next\n",
    "            if s==f:\n",
    "                return True\n",
    "                break\n",
    "        return False"
   ]
  },
  {
   "cell_type": "code",
   "execution_count": null,
   "metadata": {},
   "outputs": [],
   "source": []
  },
  {
   "cell_type": "markdown",
   "metadata": {},
   "source": [
    "### 148.排序链表"
   ]
  },
  {
   "cell_type": "code",
   "execution_count": null,
   "metadata": {},
   "outputs": [],
   "source": [
    "class Solution:\n",
    "    def sortList(self, head: ListNode) -> ListNode:\n",
    "# =====================用归并排序！！！空间复杂度O(1)，时间复杂度O(NlogN)==============\n",
    "# （数组用归并排序，空间复杂度O(N)，时间复杂度O(logN)）\n",
    "# 1.先切割，找到中点【用快慢指针】，然后slow.next=None表示切断，直到node.next=None.\n",
    "# L =function(head)\n",
    "# R =function(slow.next)\n",
    "# 2.再合并，即 两个有序链表合并 \n",
    "# while L and R: \n",
    "    # node.next=L.next if L.next<R.next else R.next\n",
    "\n",
    "        if head==None or head.next==None:\n",
    "            return head\n",
    "        s =head\n",
    "        f =head.next #注意！！！\n",
    "        while f and f.next:#注意！！！\n",
    "            f,s =f.next.next,s.next\n",
    "        mid,s.next =s.next,None\n",
    "\n",
    "        L =self.sortList(head)\n",
    "        R =self.sortList(mid)#注意！！！\n",
    "        merge=tmp=ListNode(-1)#注意！！！\n",
    "        while L and R:\n",
    "            if L.val< R.val:\n",
    "                tmp.next,L=L,L.next\n",
    "            else:\n",
    "                tmp.next,R=R,R.next\n",
    "            tmp=tmp.next\n",
    "        tmp.next=L or R\n",
    "        return merge.next#注意！！！"
   ]
  },
  {
   "cell_type": "markdown",
   "metadata": {},
   "source": [
    "### 19.删除链表的倒数第N个节点"
   ]
  },
  {
   "cell_type": "code",
   "execution_count": null,
   "metadata": {},
   "outputs": [],
   "source": [
    "class Solution:\n",
    "    def removeNthFromEnd(self, head, n):\n",
    "\n",
    "        s=f=head\n",
    "        i=0\n",
    "        while i<n:\n",
    "            if f.next:\n",
    "                f=f.next\n",
    "            else:\n",
    "                return head.next\n",
    "            i+=1\n",
    "            print(f.val)\n",
    "            \n",
    "        while f.next:\n",
    "            s=s.next\n",
    "            f=f.next\n",
    "        s.next=s.next.next\n",
    "        return head"
   ]
  },
  {
   "cell_type": "markdown",
   "metadata": {},
   "source": [
    "### 234.回文链表"
   ]
  },
  {
   "cell_type": "code",
   "execution_count": null,
   "metadata": {},
   "outputs": [],
   "source": [
    "\n",
    "class Solution:\n",
    "    def isPalindrome(self, head: ListNode) -> bool:\n",
    "        if head==None:\n",
    "            return True\n",
    "# 将链表中的所有元素 存入数组\n",
    "        l=[head.val]\n",
    "        while head.next:\n",
    "            head=head.next\n",
    "            l.append(head.val)\n",
    "# 反转数组，看看是否相等\n",
    "        if l==l[::-1]:\n",
    "            return True\n",
    "        \n",
    "        else:\n",
    "            return False"
   ]
  },
  {
   "cell_type": "markdown",
   "metadata": {},
   "source": [
    "### 237. 删除链表中的节点"
   ]
  },
  {
   "cell_type": "code",
   "execution_count": null,
   "metadata": {},
   "outputs": [],
   "source": [
    "class Solution:\n",
    "    def deleteNode(self, node):\n",
    "        \"\"\"\n",
    "        :type node: ListNode\n",
    "        :rtype: void Do not return anything, modify node in-place instead.\n",
    "        \"\"\"\n",
    "#  node就是链表的一部分，直接在上面操作就可以了，不要纠结为什么没有head\n",
    "# 拿儿子的值，剔除儿子\n",
    "\n",
    "        if node==None:\n",
    "            return \n",
    "        if node.next:\n",
    "            node.val =node.next.val\n",
    "            node.next=node.next.next if node.next.next else None\n",
    "        else:\n",
    "            node.val=None\n",
    "        return"
   ]
  },
  {
   "cell_type": "markdown",
   "metadata": {},
   "source": [
    "## 两条链表相交（🌹我走过你来时的路）"
   ]
  },
  {
   "cell_type": "code",
   "execution_count": 1,
   "metadata": {},
   "outputs": [],
   "source": [
    "def intersect(h1,h2):\n",
    "    n1,n2=h1,h2\n",
    "    while n1!=n2:\n",
    "        n1=n1.next if n1 else h2 #踏上 \n",
    "        n2=n2.next if n2 else h1 # 你的路上找你\n",
    "#   可能两个人 同null\n",
    "    return h1"
   ]
  },
  {
   "cell_type": "code",
   "execution_count": null,
   "metadata": {},
   "outputs": [],
   "source": []
  },
  {
   "cell_type": "markdown",
   "metadata": {},
   "source": [
    "## 复制 复杂链表"
   ]
  },
  {
   "cell_type": "code",
   "execution_count": 2,
   "metadata": {},
   "outputs": [],
   "source": [
    "class Noooode:\n",
    "    def __init__(self,x,r,n):\n",
    "        self.val =x\n",
    "        self.random =r\n",
    "        self.next= n\n",
    "        "
   ]
  },
  {
   "cell_type": "markdown",
   "metadata": {},
   "source": [
    "### DFS 复制"
   ]
  },
  {
   "cell_type": "code",
   "execution_count": 5,
   "metadata": {},
   "outputs": [],
   "source": [
    "def copyLInkedList(head):\n",
    "    visited={}\n",
    "    \n",
    "    def dfs(node):\n",
    "        if not node:\n",
    "            return None\n",
    "        if node in visited:\n",
    "            return visited[node]\n",
    "        copy =Noooode(node.val,None,None)\n",
    "        visited[node]=copy\n",
    "        \n",
    "        copy.random= dfs(node.random)\n",
    "        copy.next =dfs(node.next)\n",
    "        return copy\n",
    "    \n",
    "    return dfs(head)\n",
    "        "
   ]
  },
  {
   "cell_type": "markdown",
   "metadata": {},
   "source": [
    "### 迭代 复制"
   ]
  },
  {
   "cell_type": "code",
   "execution_count": 4,
   "metadata": {},
   "outputs": [],
   "source": [
    "def copyLInkedList(head):\n",
    "    visited={}\n",
    "    \n",
    "    def lookup_dict_val(node):\n",
    "#   字典调用，有则调用，无则创建再调用\n",
    "        if not head:\n",
    "            return None\n",
    "        if node in visited:\n",
    "            return visited[node]\n",
    "        else:\n",
    "            visited[node]=Noooode(node.val,None,None)\n",
    "            return visited[node]\n",
    "        \n",
    "        \n",
    "        \n",
    "    if not head:\n",
    "        return head\n",
    "    \n",
    "# 复制'新''老'结点\n",
    "    old =head\n",
    "    new =Noooode(old.val,None,None)  \n",
    "    visited[old]=new\n",
    "    \n",
    "    while old:\n",
    "# 复制'妻''儿'结点  \n",
    "        new.random =lookup_dict_val(old.random)\n",
    "        new.next =lookup_dict_val(old.next)\n",
    "        \n",
    "        old,new =old.next,new.next\n",
    "        \n",
    "    return visited[head]\n",
    "        "
   ]
  },
  {
   "cell_type": "code",
   "execution_count": null,
   "metadata": {},
   "outputs": [],
   "source": []
  }
 ],
 "metadata": {
  "kernelspec": {
   "display_name": "Python 3",
   "language": "python",
   "name": "python3"
  },
  "language_info": {
   "codemirror_mode": {
    "name": "ipython",
    "version": 3
   },
   "file_extension": ".py",
   "mimetype": "text/x-python",
   "name": "python",
   "nbconvert_exporter": "python",
   "pygments_lexer": "ipython3",
   "version": "3.7.4"
  },
  "toc": {
   "base_numbering": 1,
   "nav_menu": {},
   "number_sections": true,
   "sideBar": true,
   "skip_h1_title": false,
   "title_cell": "Table of Contents",
   "title_sidebar": "Contents",
   "toc_cell": false,
   "toc_position": {},
   "toc_section_display": true,
   "toc_window_display": false
  }
 },
 "nbformat": 4,
 "nbformat_minor": 2
}
