{
 "cells": [
  {
   "cell_type": "markdown",
   "metadata": {},
   "source": [
    "# 一脸懵逼的异或，得到唯一不同的元素，相同的可以自行消除\n"
   ]
  },
  {
   "cell_type": "code",
   "execution_count": 18,
   "metadata": {},
   "outputs": [
    {
     "name": "stdout",
     "output_type": "stream",
     "text": [
      "1\n",
      "11\n",
      "9\n",
      "4\n",
      "14\n",
      "15\n",
      "13\n",
      "14\n",
      "13\n"
     ]
    }
   ],
   "source": [
    "l=[1,10,2,13,10,1,2,3,3]\n",
    "res=0\n",
    "a = 0\n",
    "for i in l:\n",
    "    a ^= i\n",
    "    print (a)\n",
    "# for i in l:\n",
    "#     print(res,i,res^i)\n",
    "#     res^=i\n",
    "#     print('--------',res)"
   ]
  },
  {
   "cell_type": "code",
   "execution_count": 27,
   "metadata": {},
   "outputs": [
    {
     "name": "stdout",
     "output_type": "stream",
     "text": [
      "T\n"
     ]
    }
   ],
   "source": [
    "if 'a' in dic.keys():\n",
    "    print('T')\n",
    "else:\n",
    "    print('?')"
   ]
  },
  {
   "cell_type": "code",
   "execution_count": 46,
   "metadata": {},
   "outputs": [
    {
     "name": "stdout",
     "output_type": "stream",
     "text": [
      "0 22\n",
      "1 2\n",
      "2 9\n",
      "3 4\n",
      "4 5\n",
      "5 5\n",
      "6 5\n",
      "7 11\n",
      "8 3\n",
      "9 4\n"
     ]
    },
    {
     "data": {
      "text/plain": [
       "{22: 0, 2: 1, 9: 2, 4: 9, 5: 6, 11: 7, 3: 8}"
      ]
     },
     "execution_count": 46,
     "metadata": {},
     "output_type": "execute_result"
    }
   ],
   "source": [
    "nums =[22,2,9,4,5,5,5,11,3,4]\n",
    "hashmap={}\n",
    "for index,num in enumerate(nums):\n",
    "    print(index,num)\n",
    "    hashmap[num] = index\n",
    "        \n",
    "hashmap"
   ]
  },
  {
   "cell_type": "code",
   "execution_count": 49,
   "metadata": {},
   "outputs": [
    {
     "name": "stdout",
     "output_type": "stream",
     "text": [
      "None\n"
     ]
    }
   ],
   "source": [
    "j =hashmap.get(111)\n",
    "print(j)"
   ]
  },
  {
   "cell_type": "code",
   "execution_count": null,
   "metadata": {},
   "outputs": [],
   "source": [
    "l =[1,2,3,4,5,6,7,8,9]\n",
    "l"
   ]
  },
  {
   "cell_type": "code",
   "execution_count": null,
   "metadata": {},
   "outputs": [],
   "source": []
  },
  {
   "cell_type": "code",
   "execution_count": 33,
   "metadata": {},
   "outputs": [],
   "source": [
    "def twoSum(nums, target):\n",
    "    hashmap={}\n",
    "    for ind,num in enumerate(nums):\n",
    "        hashmap[num] = ind\n",
    "    for i,num in enumerate(nums):\n",
    "        j = hashmap.get(target - num)\n",
    "        if j is not None and i!=j:\n",
    "            return [i,j]"
   ]
  },
  {
   "cell_type": "code",
   "execution_count": 22,
   "metadata": {},
   "outputs": [
    {
     "data": {
      "text/plain": [
       "[1, 3, 0, 4]"
      ]
     },
     "execution_count": 22,
     "metadata": {},
     "output_type": "execute_result"
    }
   ],
   "source": [
    "#-*- coding: UTF-8 -*-\n",
    "\n",
    "class Solution:\n",
    "    def twoSum(self, nums, target):\n",
    "        dic = dict()\n",
    "        List = []\n",
    "        for i in range(len(nums)):\n",
    "            # dict\n",
    "            # key:val value:index\n",
    "\n",
    "            dic[nums[i]] = i\n",
    "\n",
    "            left = target - nums[i]\n",
    "            if left in dic.keys():\n",
    "                if left!=nums[i]:\n",
    "                    List.append(dic[left])\n",
    "                    List.append(i)\n",
    "\n",
    "            else:\n",
    "                continue\n",
    "\n",
    "        return List\n",
    "\n",
    "a = Solution()\n",
    "a.twoSum([1, 2, 3, 4, 5], 6)"
   ]
  },
  {
   "cell_type": "code",
   "execution_count": 51,
   "metadata": {},
   "outputs": [],
   "source": [
    "n=5\n",
    "dp=[([None]*n) for i in range(n)]"
   ]
  },
  {
   "cell_type": "code",
   "execution_count": 52,
   "metadata": {},
   "outputs": [
    {
     "data": {
      "text/plain": [
       "[[None, None, None, None, None],\n",
       " [None, None, None, None, None],\n",
       " [None, None, None, None, None],\n",
       " [None, None, None, None, None],\n",
       " [None, None, None, None, None]]"
      ]
     },
     "execution_count": 52,
     "metadata": {},
     "output_type": "execute_result"
    }
   ],
   "source": [
    "dp"
   ]
  },
  {
   "cell_type": "code",
   "execution_count": 53,
   "metadata": {},
   "outputs": [
    {
     "data": {
      "text/plain": [
       "[[0, 0, 0, 0, 0],\n",
       " [0, 0, 0, 0, 0],\n",
       " [0, 0, 0, 0, 0],\n",
       " [0, 0, 0, 0, 0],\n",
       " [0, 0, 0, 0, 0]]"
      ]
     },
     "execution_count": 53,
     "metadata": {},
     "output_type": "execute_result"
    }
   ],
   "source": [
    "i =0\n",
    "while i<n:\n",
    "    j=0\n",
    "    while j<n:\n",
    "        dp[i][j]=0\n",
    "        j+=1\n",
    "    i+=1\n",
    "    \n",
    "dp"
   ]
  },
  {
   "cell_type": "code",
   "execution_count": 54,
   "metadata": {},
   "outputs": [
    {
     "data": {
      "text/plain": [
       "[[0, 0, 0, 0, 0, 0, 0, 0, 0, 0],\n",
       " [0, 0, 0, 0, 0, 0, 0, 0, 0, 0],\n",
       " [0, 0, 0, 0, 0, 0, 0, 0, 0, 0],\n",
       " [0, 0, 0, 0, 0, 0, 0, 0, 0, 0],\n",
       " [0, 0, 0, 0, 0, 0, 0, 0, 0, 0],\n",
       " [0, 0, 0, 0, 0, 0, 0, 0, 0, 0],\n",
       " [0, 0, 0, 0, 0, 0, 0, 0, 0, 0],\n",
       " [0, 0, 0, 0, 0, 0, 0, 0, 0, 0],\n",
       " [0, 0, 0, 0, 0, 0, 0, 0, 0, 0],\n",
       " [0, 0, 0, 0, 0, 0, 0, 0, 0, 0]]"
      ]
     },
     "execution_count": 54,
     "metadata": {},
     "output_type": "execute_result"
    }
   ],
   "source": [
    "n=10\n",
    "dp=[([0]*n) for i in range(n)]\n",
    "dp"
   ]
  },
  {
   "cell_type": "code",
   "execution_count": 56,
   "metadata": {},
   "outputs": [
    {
     "data": {
      "text/plain": [
       "[[1, 0, 0, 0, 0, 0, 0, 0, 0, 0],\n",
       " [0, 1, 0, 0, 0, 0, 0, 0, 0, 0],\n",
       " [0, 0, 1, 0, 0, 0, 0, 0, 0, 0],\n",
       " [0, 0, 0, 1, 0, 0, 0, 0, 0, 0],\n",
       " [0, 0, 0, 0, 1, 0, 0, 0, 0, 0],\n",
       " [0, 0, 0, 0, 0, 1, 0, 0, 0, 0],\n",
       " [0, 0, 0, 0, 0, 0, 1, 0, 0, 0],\n",
       " [0, 0, 0, 0, 0, 0, 0, 1, 0, 0],\n",
       " [0, 0, 0, 0, 0, 0, 0, 0, 1, 0],\n",
       " [0, 0, 0, 0, 0, 0, 0, 0, 0, 1]]"
      ]
     },
     "execution_count": 56,
     "metadata": {},
     "output_type": "execute_result"
    }
   ],
   "source": [
    "i =0\n",
    "while i<n:\n",
    "    dp[i][i]=1\n",
    "    \n",
    "    i+=1\n",
    "    \n",
    "dp"
   ]
  },
  {
   "cell_type": "code",
   "execution_count": 60,
   "metadata": {},
   "outputs": [
    {
     "data": {
      "text/plain": [
       "4"
      ]
     },
     "execution_count": 60,
     "metadata": {},
     "output_type": "execute_result"
    }
   ],
   "source": [
    "x =-101\n",
    "\n",
    "x =str(x)\n",
    "len(x)"
   ]
  },
  {
   "cell_type": "code",
   "execution_count": 63,
   "metadata": {},
   "outputs": [],
   "source": [
    "x =-101\n",
    "def isPalindrome(x):\n",
    "        x =str(x)\n",
    "        n=len(x)\n",
    "        dp=[([False]*n) for i in range(n)]\n",
    "\n",
    "\n",
    "        i =0\n",
    "        while i<n:\n",
    "            dp[i][i]=True\n",
    "            i+=1\n",
    "        for i in range(n):\n",
    "            for j in range(i+1,n):\n",
    "                if x[i]==x[j]:\n",
    "                    dp[i][j]=dp[i+1][j-1]\n",
    "                else:\n",
    "                    dp[i][j]=False\n",
    "        \n",
    "        return dp[i][j]        "
   ]
  },
  {
   "cell_type": "code",
   "execution_count": 64,
   "metadata": {},
   "outputs": [
    {
     "data": {
      "text/plain": [
       "True"
      ]
     },
     "execution_count": 64,
     "metadata": {},
     "output_type": "execute_result"
    }
   ],
   "source": [
    "isPalindrome(x)"
   ]
  },
  {
   "cell_type": "code",
   "execution_count": 73,
   "metadata": {},
   "outputs": [],
   "source": [
    "def isPalindrome(x):\n",
    "    x =str(x)\n",
    "    n=len(x)\n",
    "    start =0\n",
    "    end =n-1\n",
    "    result =True\n",
    "    while start<=end:\n",
    "        if x[start]==x[end]:\n",
    "            result =True\n",
    "        else:\n",
    "            result=False\n",
    "            break\n",
    "        start+=1\n",
    "        end-=1\n",
    "\n",
    "    return result "
   ]
  },
  {
   "cell_type": "code",
   "execution_count": 77,
   "metadata": {},
   "outputs": [
    {
     "data": {
      "text/plain": [
       "False"
      ]
     },
     "execution_count": 77,
     "metadata": {},
     "output_type": "execute_result"
    }
   ],
   "source": [
    "x=10041\n",
    "isPalindrome(x)"
   ]
  },
  {
   "cell_type": "code",
   "execution_count": 78,
   "metadata": {},
   "outputs": [
    {
     "name": "stdout",
     "output_type": "stream",
     "text": [
      "w\n",
      "e\n",
      "r\n",
      "r\n",
      "g\n"
     ]
    }
   ],
   "source": [
    "for i in 'werrg':\n",
    "    print(i)"
   ]
  },
  {
   "cell_type": "code",
   "execution_count": 82,
   "metadata": {},
   "outputs": [
    {
     "data": {
      "text/plain": [
       "['wergr']"
      ]
     },
     "execution_count": 82,
     "metadata": {},
     "output_type": "execute_result"
    }
   ],
   "source": [
    "'wergr'.split(' ')"
   ]
  },
  {
   "cell_type": "code",
   "execution_count": 83,
   "metadata": {},
   "outputs": [
    {
     "data": {
      "text/plain": [
       "6"
      ]
     },
     "execution_count": 83,
     "metadata": {},
     "output_type": "execute_result"
    }
   ],
   "source": [
    "len('sdfsfg')"
   ]
  },
  {
   "cell_type": "code",
   "execution_count": 84,
   "metadata": {},
   "outputs": [
    {
     "data": {
      "text/plain": [
       "True"
      ]
     },
     "execution_count": 84,
     "metadata": {},
     "output_type": "execute_result"
    }
   ],
   "source": [
    "stack=[]\n",
    "stack!=None"
   ]
  },
  {
   "cell_type": "code",
   "execution_count": 85,
   "metadata": {},
   "outputs": [
    {
     "data": {
      "text/plain": [
       "0"
      ]
     },
     "execution_count": 85,
     "metadata": {},
     "output_type": "execute_result"
    }
   ],
   "source": [
    "len(stack)"
   ]
  },
  {
   "cell_type": "code",
   "execution_count": 151,
   "metadata": {},
   "outputs": [],
   "source": [
    " def isValid(s):\n",
    "    dic ={'(':')','[':']','{':'}'}\n",
    "    stack =[]\n",
    "    n =len(s)\n",
    "    res =True\n",
    "    for i in range(n):\n",
    "        if len(stack)!=0:\n",
    "            left =stack[-1]\n",
    "            right=dic.get(str(left))\n",
    "            if s[i]==right:\n",
    "                a =stack.pop()\n",
    "            else:\n",
    "                stack.append(s[i])\n",
    "\n",
    "        else:\n",
    "            stack.append(s[i])\n",
    "    \n",
    "\n",
    "    if len(stack)!=0:\n",
    "        res=False\n",
    "\n",
    "    return res"
   ]
  },
  {
   "cell_type": "code",
   "execution_count": 152,
   "metadata": {},
   "outputs": [
    {
     "name": "stdout",
     "output_type": "stream",
     "text": [
      "['(']\n",
      "['(', '[']\n",
      "['(', '[', ')']\n",
      "sss\n"
     ]
    },
    {
     "data": {
      "text/plain": [
       "False"
      ]
     },
     "execution_count": 152,
     "metadata": {},
     "output_type": "execute_result"
    }
   ],
   "source": [
    "isValid('([)')"
   ]
  },
  {
   "cell_type": "code",
   "execution_count": null,
   "metadata": {},
   "outputs": [],
   "source": []
  },
  {
   "cell_type": "code",
   "execution_count": 259,
   "metadata": {},
   "outputs": [],
   "source": [
    "\n",
    "def plusOne(List):\n",
    "    dp=[]\n",
    "\n",
    "    sum_10 =0\n",
    "\n",
    "    for j in range(len(List)-1,-1,-1):\n",
    "# process the Sum\n",
    "        if j==len(List)-1:\n",
    "            Sum=List[j]+sum_10+1  \n",
    "        else:\n",
    "            Sum=List[j]+sum_10\n",
    "\n",
    "        sum_10 = Sum//10\n",
    "        sum_origin = Sum%10\n",
    "        dp.append(sum_origin)\n",
    "# finish the loop   \n",
    "    if sum_10==1:\n",
    "        dp.append(1)\n",
    "\n",
    "\n",
    "\n",
    "    return dp[::-1]"
   ]
  },
  {
   "cell_type": "code",
   "execution_count": 260,
   "metadata": {},
   "outputs": [
    {
     "data": {
      "text/plain": [
       "[9, 9, 9, 0, 0, 0, 0]"
      ]
     },
     "execution_count": 260,
     "metadata": {},
     "output_type": "execute_result"
    }
   ],
   "source": [
    "plusOne([9,9,8,9,9,9,9])"
   ]
  },
  {
   "cell_type": "code",
   "execution_count": 261,
   "metadata": {},
   "outputs": [
    {
     "data": {
      "text/plain": [
       "[1, 0, 0, 0, 0, 0]"
      ]
     },
     "execution_count": 261,
     "metadata": {},
     "output_type": "execute_result"
    }
   ],
   "source": [
    "plusOne([9,9,9,9,9])"
   ]
  },
  {
   "cell_type": "code",
   "execution_count": 245,
   "metadata": {},
   "outputs": [],
   "source": [
    "for i in range(0,len(l)-1,-1):\n",
    "    print(i,len(l)-i)"
   ]
  },
  {
   "cell_type": "code",
   "execution_count": 249,
   "metadata": {},
   "outputs": [
    {
     "name": "stdout",
     "output_type": "stream",
     "text": [
      "8\n",
      "7\n",
      "6\n",
      "5\n",
      "4\n",
      "3\n",
      "2\n",
      "1\n",
      "0\n"
     ]
    }
   ],
   "source": [
    "for i in range(len(l),-1,-1):\n",
    "    print(i)"
   ]
  },
  {
   "cell_type": "code",
   "execution_count": 273,
   "metadata": {},
   "outputs": [],
   "source": [
    "List =[10,-13,5,7,8,-11,5,-25,6,-2,1]"
   ]
  },
  {
   "cell_type": "code",
   "execution_count": 278,
   "metadata": {},
   "outputs": [],
   "source": [
    "def maxSubArray(List):\n",
    "    n =len(List)\n",
    "    dp =[0]*n\n",
    "    maxSum =0\n",
    "    for i in range(n):\n",
    "        \n",
    "        dp[i]=max(List[i],List[i]+dp[i-1])\n",
    "        maxSum=max(maxSum,dp[i])\n",
    "    return maxSum"
   ]
  },
  {
   "cell_type": "code",
   "execution_count": 279,
   "metadata": {},
   "outputs": [
    {
     "data": {
      "text/plain": [
       "20"
      ]
     },
     "execution_count": 279,
     "metadata": {},
     "output_type": "execute_result"
    }
   ],
   "source": [
    "maxSubArray(List)"
   ]
  },
  {
   "cell_type": "code",
   "execution_count": 344,
   "metadata": {},
   "outputs": [],
   "source": [
    "def searchInsert(nums,target):\n",
    "    # two pointers\n",
    "    start =0\n",
    "    end =len(nums)-1\n",
    "    \n",
    "    while start<=end:\n",
    "        midd=start+(end-start)//2\n",
    "        if nums[midd]==target:\n",
    "#             print('1')\n",
    "            return midd\n",
    "        elif nums[midd]>target:\n",
    "            \n",
    "            if midd==0 or nums[midd-1]<target:\n",
    "#                 print('2')\n",
    "                return midd\n",
    "            end=midd-1\n",
    "            \n",
    "        elif nums[midd]<target:\n",
    "            \n",
    "            if  midd==len(nums)-1 or nums[midd+1]>target:\n",
    "#                 print('3')\n",
    "                return midd+1\n",
    "            start=midd+1\n",
    "            "
   ]
  },
  {
   "cell_type": "code",
   "execution_count": 345,
   "metadata": {},
   "outputs": [
    {
     "data": {
      "text/plain": [
       "3"
      ]
     },
     "execution_count": 345,
     "metadata": {},
     "output_type": "execute_result"
    }
   ],
   "source": [
    "searchInsert([1,2,3,5,7,9,11],5)"
   ]
  },
  {
   "cell_type": "code",
   "execution_count": 346,
   "metadata": {},
   "outputs": [
    {
     "data": {
      "text/plain": [
       "7"
      ]
     },
     "execution_count": 346,
     "metadata": {},
     "output_type": "execute_result"
    }
   ],
   "source": [
    "searchInsert([1,2,3,5,7,9,11],12)"
   ]
  },
  {
   "cell_type": "code",
   "execution_count": 347,
   "metadata": {},
   "outputs": [
    {
     "data": {
      "text/plain": [
       "0"
      ]
     },
     "execution_count": 347,
     "metadata": {},
     "output_type": "execute_result"
    }
   ],
   "source": [
    "searchInsert([1,2,3,5,7,9,11],0)"
   ]
  },
  {
   "cell_type": "markdown",
   "metadata": {},
   "source": [
    "\n",
    "\n",
    "def longestPalindrome(s):\n",
    "\n",
    "    n=len(s)\n",
    "    for i in range(n):\n",
    "        mirror(s,i,i)\n",
    "        mirror(s,i,i+1)\n",
    "\n",
    "\n",
    "def mirror(s,i,j):    \n",
    "    while i>=0 and j<=len(s)-1 and s[i]==s[j]:     \n",
    "        i -=1\n",
    "        j +=1\n",
    "    startindex =i+\n",
    "    l=(j-1)-(i+1)+1\n",
    "    print(l)\n",
    "\n"
   ]
  },
  {
   "cell_type": "code",
   "execution_count": 527,
   "metadata": {},
   "outputs": [],
   "source": [
    "def longestPalindrome(s):\n",
    "#     if len(s)!=0:\n",
    "#         return s\n",
    "    \n",
    "    maxlen=0\n",
    "    start=1\n",
    "    n=len(s)\n",
    "    for i in range(n):\n",
    "        l1=mirror(s,i,i)\n",
    "        l2=mirror(s,i,i+1)\n",
    "#longest=max(l1,l2)\n",
    "        if l1[1]>l2[1]:\n",
    "            longest=l1\n",
    "        else:\n",
    "            longest=l2\n",
    "            \n",
    "# maxlen=max(maxlen,longest)        \n",
    "        if longest[1]>maxlen:\n",
    "            maxlen=longest[1]\n",
    "            start=longest[0]\n",
    "        \n",
    "    return s[start:start+maxlen]\n",
    "\n",
    "def mirror(s,i,j):  \n",
    "    while i>=0 and j<=len(s)-1 and s[i]==s[j]:       \n",
    "        i -=1\n",
    "        j +=1\n",
    "    startindex =i+1\n",
    "    l=(j-1)-(i+1)+1\n",
    "    return startindex,l"
   ]
  },
  {
   "cell_type": "code",
   "execution_count": 528,
   "metadata": {},
   "outputs": [
    {
     "data": {
      "text/plain": [
       "'qweewq'"
      ]
     },
     "execution_count": 528,
     "metadata": {},
     "output_type": "execute_result"
    }
   ],
   "source": [
    "longestPalindrome('qweewq')"
   ]
  },
  {
   "cell_type": "code",
   "execution_count": 529,
   "metadata": {},
   "outputs": [
    {
     "data": {
      "text/plain": [
       "''"
      ]
     },
     "execution_count": 529,
     "metadata": {},
     "output_type": "execute_result"
    }
   ],
   "source": [
    "longestPalindrome('')"
   ]
  },
  {
   "cell_type": "code",
   "execution_count": 530,
   "metadata": {},
   "outputs": [
    {
     "data": {
      "text/plain": [
       "'ee'"
      ]
     },
     "execution_count": 530,
     "metadata": {},
     "output_type": "execute_result"
    }
   ],
   "source": [
    "longestPalindrome('eewq')"
   ]
  },
  {
   "cell_type": "code",
   "execution_count": 531,
   "metadata": {},
   "outputs": [
    {
     "data": {
      "text/plain": [
       "'q'"
      ]
     },
     "execution_count": 531,
     "metadata": {},
     "output_type": "execute_result"
    }
   ],
   "source": [
    "longestPalindrome('qwe')"
   ]
  },
  {
   "cell_type": "code",
   "execution_count": 526,
   "metadata": {},
   "outputs": [
    {
     "data": {
      "text/plain": [
       "8"
      ]
     },
     "execution_count": 526,
     "metadata": {},
     "output_type": "execute_result"
    }
   ],
   "source": [
    "s_list =['1','aa','ffff','dsdd','qwerqwer','fsad']\n",
    "max([len(i) for i in s_list])"
   ]
  },
  {
   "cell_type": "code",
   "execution_count": 532,
   "metadata": {},
   "outputs": [],
   "source": [
    "class ListNode:\n",
    "    def __init__(self, x):\n",
    "        self.val = x\n",
    "        self.next = None"
   ]
  },
  {
   "cell_type": "code",
   "execution_count": 533,
   "metadata": {},
   "outputs": [],
   "source": [
    "def removeNthFromEnd(head, n):\n",
    "# ----------指针调用 类，拥有链表性质--------\n",
    "    if head==None:\n",
    "        return head\n",
    "    fast=ListNode\n",
    "    slow=ListNode\n",
    "    pre=ListNode\n",
    "    pre.val=None\n",
    "    pre.next=slow\n",
    "    fast=slow=head\n",
    "    j=0\n",
    "    while j<n and fast!=None:\n",
    "        fast=fast.next\n",
    "\n",
    "    while fast!=None:\n",
    "        pre=pre.next\n",
    "        slow=slow.next\n",
    "        fast=fast.next\n",
    "\n",
    "\n",
    "    pre.next=slow.next\n",
    "\n",
    "    return head"
   ]
  },
  {
   "cell_type": "code",
   "execution_count": null,
   "metadata": {},
   "outputs": [],
   "source": [
    "def listNodeToString(node):\n",
    "    if not node:\n",
    "        return \"[]\"\n",
    "\n",
    "    result = \"\"\n",
    "    while node:\n",
    "        result += str(node.val) + \", \"\n",
    "        node = node.next\n",
    "    return \"[\" + result[:-2] + \"]\""
   ]
  },
  {
   "cell_type": "code",
   "execution_count": 564,
   "metadata": {},
   "outputs": [],
   "source": [
    "def climbStairs(n):\n",
    "    dp=[1]*(n+1)\n",
    "    if n==0 or n==1:\n",
    "        dp[n]=n\n",
    "        print(dp[n])\n",
    "\n",
    "    for i in range(2,n+1):\n",
    "        dp[i]= dp[i-1]+dp[i-2]\n",
    "\n",
    "    return dp[n]"
   ]
  },
  {
   "cell_type": "code",
   "execution_count": 568,
   "metadata": {},
   "outputs": [
    {
     "data": {
      "text/plain": [
       "0"
      ]
     },
     "execution_count": 568,
     "metadata": {},
     "output_type": "execute_result"
    }
   ],
   "source": [
    "climbStairs(2)"
   ]
  },
  {
   "cell_type": "code",
   "execution_count": 590,
   "metadata": {},
   "outputs": [],
   "source": [
    "def climbStairs(n):\n",
    "        a =0\n",
    "        b =1\n",
    "        for i in range(1,n+1):\n",
    "#             if i==1:#   a=0,b=1\n",
    "#                 a = i-1\n",
    "#                 b = i\n",
    "\n",
    "            a,b=b,a+b\n",
    "\n",
    "        return b"
   ]
  },
  {
   "cell_type": "code",
   "execution_count": 616,
   "metadata": {},
   "outputs": [],
   "source": [
    "def rob(nums):\n",
    "        n=len(nums)\n",
    "        dp=[0]*len(nums)\n",
    "        if n==0:\n",
    "            return 0\n",
    "        \n",
    "        \n",
    "       \n",
    "        \n",
    "        for i in range(n): \n",
    "#             base case\n",
    "            if i==0:\n",
    "                dp[i]=nums[0]\n",
    "            if i==1:\n",
    "                dp[i]= max(nums[0],nums[1])\n",
    "\n",
    "            \n",
    "            if i>=2:\n",
    "#             transfer function    \n",
    "                dp[i] =max(dp[i-1],nums[i]+dp[i-2])\n",
    "                print(dp[i],dp[i-1],dp[i-2])\n",
    "\n",
    "        return dp[n-1]"
   ]
  },
  {
   "cell_type": "code",
   "execution_count": 617,
   "metadata": {},
   "outputs": [
    {
     "name": "stdout",
     "output_type": "stream",
     "text": [
      "3 1 1\n"
     ]
    },
    {
     "data": {
      "text/plain": [
       "3"
      ]
     },
     "execution_count": 617,
     "metadata": {},
     "output_type": "execute_result"
    }
   ],
   "source": [
    "rob([1,1,2])"
   ]
  },
  {
   "cell_type": "code",
   "execution_count": 618,
   "metadata": {},
   "outputs": [
    {
     "data": {
      "text/plain": [
       "0"
      ]
     },
     "execution_count": 618,
     "metadata": {},
     "output_type": "execute_result"
    }
   ],
   "source": [
    "rob([0])"
   ]
  },
  {
   "cell_type": "code",
   "execution_count": 619,
   "metadata": {},
   "outputs": [
    {
     "data": {
      "text/plain": [
       "1"
      ]
     },
     "execution_count": 619,
     "metadata": {},
     "output_type": "execute_result"
    }
   ],
   "source": [
    "rob([1,1])"
   ]
  },
  {
   "cell_type": "code",
   "execution_count": 620,
   "metadata": {},
   "outputs": [
    {
     "name": "stdout",
     "output_type": "stream",
     "text": [
      "5 3 1\n",
      "5 5 3\n",
      "10 5 5\n",
      "10 10 5\n",
      "12 10 10\n"
     ]
    },
    {
     "data": {
      "text/plain": [
       "12"
      ]
     },
     "execution_count": 620,
     "metadata": {},
     "output_type": "execute_result"
    }
   ],
   "source": [
    "rob([1,3,4,1,5,1,2])"
   ]
  },
  {
   "cell_type": "code",
   "execution_count": 623,
   "metadata": {},
   "outputs": [
    {
     "data": {
      "text/plain": [
       "inf"
      ]
     },
     "execution_count": 623,
     "metadata": {},
     "output_type": "execute_result"
    }
   ],
   "source": [
    "float('+inf')"
   ]
  },
  {
   "cell_type": "code",
   "execution_count": 631,
   "metadata": {},
   "outputs": [
    {
     "data": {
      "text/plain": [
       "False"
      ]
     },
     "execution_count": 631,
     "metadata": {},
     "output_type": "execute_result"
    }
   ],
   "source": [
    "l=[1,4,5,7,2,5,6,89,624,6]\n",
    "l==sorted(l)"
   ]
  },
  {
   "cell_type": "code",
   "execution_count": 632,
   "metadata": {},
   "outputs": [
    {
     "data": {
      "text/plain": [
       "False"
      ]
     },
     "execution_count": 632,
     "metadata": {},
     "output_type": "execute_result"
    }
   ],
   "source": [
    "l=[3,23,4,6,11,3,46,3,4356,35]\n",
    "l==sorted(l)"
   ]
  },
  {
   "cell_type": "code",
   "execution_count": 634,
   "metadata": {},
   "outputs": [
    {
     "data": {
      "text/plain": [
       "True"
      ]
     },
     "execution_count": 634,
     "metadata": {},
     "output_type": "execute_result"
    }
   ],
   "source": [
    "l=[1, 2, 4, 4, 6, 56, 324]\n",
    "l==sorted(l)"
   ]
  },
  {
   "cell_type": "code",
   "execution_count": 638,
   "metadata": {},
   "outputs": [
    {
     "data": {
      "text/plain": [
       "[[0], [1, 2], [4, 5, 6, 7]]"
      ]
     },
     "execution_count": 638,
     "metadata": {},
     "output_type": "execute_result"
    }
   ],
   "source": [
    "l =[]\n",
    "temp_l=[0]\n",
    "\n",
    "l.append(temp_l)\n",
    "temp_l=[1,2]\n",
    "\n",
    "l.append(temp_l)\n",
    "\n",
    "temp_l=[4,5,6,7]\n",
    "l.append(temp_l)\n",
    "l"
   ]
  },
  {
   "cell_type": "code",
   "execution_count": 639,
   "metadata": {},
   "outputs": [
    {
     "data": {
      "text/plain": [
       "[2, 4, 4, 6, 56, 324]"
      ]
     },
     "execution_count": 639,
     "metadata": {},
     "output_type": "execute_result"
    }
   ],
   "source": [
    "l=[1, 2, 4, 4, 6, 56, 324]\n",
    "del l[0]\n",
    "l"
   ]
  },
  {
   "cell_type": "code",
   "execution_count": 641,
   "metadata": {},
   "outputs": [
    {
     "data": {
      "text/plain": [
       "[[1]]"
      ]
     },
     "execution_count": 641,
     "metadata": {},
     "output_type": "execute_result"
    }
   ],
   "source": [
    "level_list=[]\n",
    "level_list.append([])\n",
    "level_list[0].append(1)\n",
    "level_list"
   ]
  },
  {
   "cell_type": "code",
   "execution_count": null,
   "metadata": {},
   "outputs": [],
   "source": [
    "# Definition for a binary tree node.\n",
    "from collections import deque\n",
    "\n",
    "class TreeNode:\n",
    "    def __init__(self, x):\n",
    "        self.val = x\n",
    "        self.left = None\n",
    "        self.right = None\n",
    "\n",
    "class Solution:\n",
    "    def levelOrder(self, root: TreeNode):     \n",
    "        level_list=[] \n",
    "        if root==None:\n",
    "            return level_list\n",
    "        queue = deque([root,]) #必须用这个，不然弹出来的 只是int,不是有树结构的节点，啊啊啊啊！\n",
    "        level= 0 #第几层，大列表中的第几个列表\n",
    "\n",
    "        while queue: #只要有节点，就一直往 tmp_list 里面加\n",
    "        # 循环结构里面 queue 必须不断更新，直到走完这棵树\n",
    "            # level.append(root.val) ❌不是加值，是加列表       \n",
    "            # 每一次都是清空一层，大循环就往大列表里面加一个小列表\n",
    "            # 然后在 每一次（层）小循环里面加入 弹出来的值\n",
    "            level_list.append([])\n",
    "\n",
    "            \n",
    "            i =0\n",
    "            print(len(queue))\n",
    "            while i<len(queue):\n",
    "        #这一层的全弹出去，有多长就弹几下\n",
    "              # 更新queue，每一个被弹出去的节点为node\n",
    "                node = queue.popleft()\n",
    "                level_list[level].append(node.val)\n",
    "                # 并把弹出去的node的所有孩子放进去\n",
    "                if node.left!=None:\n",
    "                    queue.append(node.left)\n",
    "                if node.right!=None:\n",
    "                    queue.append(node.right)\n",
    "                i+=1\n",
    "                \n",
    "            level+=1\n",
    "            \n",
    "           \n",
    "\n",
    "        return level_list\n",
    "\n"
   ]
  },
  {
   "cell_type": "code",
   "execution_count": 666,
   "metadata": {},
   "outputs": [
    {
     "data": {
      "text/plain": [
       "41"
      ]
     },
     "execution_count": 666,
     "metadata": {},
     "output_type": "execute_result"
    }
   ],
   "source": [
    "l =[0,1,2,3,41,35,6,7,8,9]\n",
    "max(l)\n"
   ]
  },
  {
   "cell_type": "code",
   "execution_count": 650,
   "metadata": {},
   "outputs": [],
   "source": [
    "i =0\n",
    "while i<n:\n",
    "    print(i)\n",
    "    i+=1\n",
    "    "
   ]
  },
  {
   "cell_type": "code",
   "execution_count": 658,
   "metadata": {},
   "outputs": [],
   "source": [
    "arr=[\n",
    "  [1,3,1],\n",
    "  [1,5,1],\n",
    "  [4,2,1],\n",
    "    [0,9,8]\n",
    "]"
   ]
  },
  {
   "cell_type": "code",
   "execution_count": 663,
   "metadata": {},
   "outputs": [
    {
     "data": {
      "text/plain": [
       "0"
      ]
     },
     "execution_count": 663,
     "metadata": {},
     "output_type": "execute_result"
    }
   ],
   "source": [
    "m=len(arr)\n",
    "n =len(arr[0])\n",
    "dp=[[0]*n for i in range(m)]\n",
    "dp\n",
    "dp[m-1][n-1]"
   ]
  },
  {
   "cell_type": "markdown",
   "metadata": {},
   "source": [
    "# DP table 初始化"
   ]
  },
  {
   "cell_type": "code",
   "execution_count": 655,
   "metadata": {},
   "outputs": [
    {
     "data": {
      "text/plain": [
       "[[], [None], [None, None]]"
      ]
     },
     "execution_count": 655,
     "metadata": {},
     "output_type": "execute_result"
    }
   ],
   "source": [
    "#此数组用于记忆化搜索\n",
    "dp = [[0]*len(grid[0]) for i in range(len(grid))]\n",
    "\n",
    "for i in range(len(grid)):\n",
    "\n",
    "    for j in range(len(grid[0])):\n",
    "\n",
    "        #在起点的时候\n",
    "        if (i == 0 and j == 0):\n",
    "            dp[i][j] = grid[0][0]\n",
    "\n",
    "        #在左边缘的时候\n",
    "        elif (j == 0 and i != 0):\n",
    "            dp[i][j] = dp[i - 1][j]  + grid[i][j]\n",
    "\n",
    "        #在上边缘的时候\n",
    "        elif (i == 0 and j != 0):\n",
    "            dp[i][j] = dp[i][j-1] + grid[i][j]\n",
    "\n",
    "        # 普遍情况下\n",
    "        else:"
   ]
  },
  {
   "cell_type": "code",
   "execution_count": 664,
   "metadata": {},
   "outputs": [
    {
     "data": {
      "text/plain": [
       "[[0, 0, 0], [0, 0, 0], [0, 0, 0], [0, 0, 0]]"
      ]
     },
     "execution_count": 664,
     "metadata": {},
     "output_type": "execute_result"
    }
   ],
   "source": [
    "\n",
    "dp"
   ]
  },
  {
   "cell_type": "markdown",
   "metadata": {},
   "source": [
    "## 字典模板【 有就+1，没有就=1  】 "
   ]
  },
  {
   "cell_type": "code",
   "execution_count": 689,
   "metadata": {},
   "outputs": [
    {
     "data": {
      "text/plain": [
       "{'i': 100, 'k': 1, 'o': 0, 'm': 1}"
      ]
     },
     "execution_count": 689,
     "metadata": {},
     "output_type": "execute_result"
    }
   ],
   "source": [
    "dic={'i':99,'k':'Kings','o':0}\n",
    "\n",
    "\n",
    "if 'i' in dic.keys():\n",
    "    dic['i']+=1\n",
    "else:\n",
    "    dic['i']=1\n",
    "    \n",
    "if 'k' in dic.keys():\n",
    "    dic['k']=1\n",
    "else:\n",
    "    dic['k']=\n",
    "    \n",
    "if 'm' in dic.keys():\n",
    "    dic['m']+=1\n",
    "else:\n",
    "    dic['m']=1\n",
    "dic   "
   ]
  },
  {
   "cell_type": "markdown",
   "metadata": {},
   "source": [
    "## 字典模板【 有就-1，没有就报错  】 "
   ]
  },
  {
   "cell_type": "code",
   "execution_count": 691,
   "metadata": {},
   "outputs": [
    {
     "name": "stdout",
     "output_type": "stream",
     "text": [
      "False\n"
     ]
    },
    {
     "data": {
      "text/plain": [
       "{'i': 98, 'k': 1, 'o': 0, 'm': 0}"
      ]
     },
     "execution_count": 691,
     "metadata": {},
     "output_type": "execute_result"
    }
   ],
   "source": [
    "if 'i' in dic.keys():\n",
    "    dic['i']-=1\n",
    "else:\n",
    "    print('False') \n",
    "    \n",
    "if 'k' in dic.keys():\n",
    "    dic['k']=1\n",
    "else:\n",
    "    dic['k']=0\n",
    "    \n",
    "if 'z' in dic.keys():\n",
    "    dic['z']-=1\n",
    "else:\n",
    "    print('False')\n",
    "dic  "
   ]
  },
  {
   "cell_type": "code",
   "execution_count": 695,
   "metadata": {},
   "outputs": [
    {
     "name": "stdout",
     "output_type": "stream",
     "text": [
      "False\n",
      "True\n"
     ]
    }
   ],
   "source": [
    "print(len(dic)==0)\n",
    "ddd={}\n",
    "print(len(ddd)==0)"
   ]
  },
  {
   "cell_type": "code",
   "execution_count": 709,
   "metadata": {},
   "outputs": [
    {
     "data": {
      "text/plain": [
       "{}"
      ]
     },
     "execution_count": 709,
     "metadata": {},
     "output_type": "execute_result"
    }
   ],
   "source": [
    "d={}\n",
    "for i in '':\n",
    "    if i in d.keys():\n",
    "        d[i]+=1\n",
    "    else:\n",
    "        d[i]=1\n",
    "d"
   ]
  },
  {
   "cell_type": "code",
   "execution_count": 704,
   "metadata": {},
   "outputs": [
    {
     "data": {
      "text/plain": [
       "{'h': -5, 'e': 1, 'l': 2, 'o': 1, 'w': 0, 'r': 0, 'd': 0}"
      ]
     },
     "execution_count": 704,
     "metadata": {},
     "output_type": "execute_result"
    }
   ],
   "source": [
    "for i in 'worldhhhhhh':\n",
    "    if i in d.keys():\n",
    "        d[i]-=1\n",
    "    else:\n",
    "        d[i]='我是不一样的'\n",
    "d"
   ]
  },
  {
   "cell_type": "markdown",
   "metadata": {},
   "source": [
    "### 就算 字母相同，value 都减成0,字典还是有key&value,怎么判断？？？"
   ]
  },
  {
   "cell_type": "code",
   "execution_count": 708,
   "metadata": {},
   "outputs": [
    {
     "name": "stdout",
     "output_type": "stream",
     "text": [
      "T\n",
      "T\n",
      "T\n",
      "T\n",
      "T\n"
     ]
    }
   ],
   "source": [
    "d={'a':0,'d':0,'ds':0,'as':0,'f':0}\n",
    "for k,v in d.items():\n",
    "    if v!=0:\n",
    "        print('F')\n",
    "        break\n",
    "    else:\n",
    "        print('T')\n",
    "\n"
   ]
  },
  {
   "cell_type": "code",
   "execution_count": 714,
   "metadata": {},
   "outputs": [],
   "source": [
    "\n",
    "T=[73, 74, 75, 71, 69, 72, 76, 73]"
   ]
  },
  {
   "cell_type": "code",
   "execution_count": 722,
   "metadata": {},
   "outputs": [
    {
     "name": "stdout",
     "output_type": "stream",
     "text": [
      "[0]\n",
      "74 0 73\n",
      "[1]\n",
      "75 1 74\n",
      "[2]\n",
      "71 2 75\n",
      "[2, 3]\n",
      "69 3 71\n",
      "[2, 3, 4]\n",
      "72 4 69\n",
      "[2, 3]\n",
      "72 3 71\n",
      "[2]\n",
      "72 2 75\n",
      "[2, 5]\n",
      "76 5 72\n",
      "[2]\n",
      "76 2 75\n",
      "[6]\n",
      "73 6 76\n"
     ]
    },
    {
     "data": {
      "text/plain": [
       "[1, 1, 4, 2, 1, 1, 0, 0]"
      ]
     },
     "execution_count": 722,
     "metadata": {},
     "output_type": "execute_result"
    }
   ],
   "source": [
    "stack=[]\n",
    "stack.append(0)\n",
    "l=[0]*len(T)\n",
    "i =1\n",
    "while i<len(T):\n",
    "   \n",
    "    while len(stack)!=0 and i<len(T):\n",
    "        print(stack)\n",
    "        print(T[i],stack[-1],T[stack[-1]])\n",
    "        if T[i]>T[stack[-1]]:# stack 栈顶 存的 温度下标            \n",
    "            free_index =stack.pop()\n",
    "            l[free_index]=i-free_index\n",
    "        # 把栈中比自己小的，全都送出去（被送出去的下标可以判定距离），最后自己进栈\n",
    "        else:\n",
    "            stack.append(i)\n",
    "            i+=1\n",
    "    stack.append(i)\n",
    "    i+=1\n",
    "l          "
   ]
  },
  {
   "cell_type": "code",
   "execution_count": 758,
   "metadata": {},
   "outputs": [
    {
     "name": "stdout",
     "output_type": "stream",
     "text": [
      "[2, 2, 4, 0, 0, 0]\n",
      "[2, 0, 2, 4, 0, 0]\n",
      "[2, 0, 2, 4, 0, 0]\n",
      "[2, 0, 2, 4, 0, 0]\n",
      "4\n",
      "5\n"
     ]
    }
   ],
   "source": [
    "i =0\n",
    "j =0\n",
    "nums1=[2,2,4,0,0,0]\n",
    "nums2=[0,5,6]\n",
    "n=m=3\n",
    "while i<m and j<n:\n",
    "    print(nums1)\n",
    "    if nums1[i+j]<nums2[j]:\n",
    "        nums1[i+j]=nums1[i+j]\n",
    "        i+=1\n",
    "    else:\n",
    "        nums1.insert((i+j),nums2[j])\n",
    "#         比别人小，就插入别人的位置\n",
    "        nums1.pop()\n",
    "        j+=1\n",
    " #nums1结束, nums2 的下标 j<n\n",
    "while j<n:\n",
    "    print(i+j)\n",
    "    nums1[i+j]=nums2[j]\n",
    "    j+=1\n",
    "\n",
    "\n",
    " #nums2结束，不用动了\n",
    "# nums1=nums1[:n+m]"
   ]
  },
  {
   "cell_type": "code",
   "execution_count": 759,
   "metadata": {},
   "outputs": [
    {
     "data": {
      "text/plain": [
       "[2, 0, 2, 4, 5, 6]"
      ]
     },
     "execution_count": 759,
     "metadata": {},
     "output_type": "execute_result"
    }
   ],
   "source": [
    "nums1"
   ]
  },
  {
   "cell_type": "code",
   "execution_count": 763,
   "metadata": {
    "collapsed": true
   },
   "outputs": [
    {
     "name": "stdout",
     "output_type": "stream",
     "text": [
      "1\n",
      "2\n",
      "3\n",
      "4\n",
      "5\n",
      "6\n",
      "7\n",
      "8\n",
      "9\n",
      "10\n"
     ]
    }
   ],
   "source": [
    "a =0\n",
    "loop=True\n",
    "while loop:\n",
    "    a +=1\n",
    "    print(a)\n",
    "    if a==10:\n",
    "        loop=False\n",
    "        break"
   ]
  },
  {
   "cell_type": "code",
   "execution_count": 784,
   "metadata": {},
   "outputs": [
    {
     "name": "stdout",
     "output_type": "stream",
     "text": [
      "没有判断是否是有效 括号！！！！！\n",
      "0 {\n",
      "-------------------------- []\n",
      "[0, 0, 0, 0, 0]\n",
      "1 [\n",
      "-------------------------- []\n",
      "[0, 0, 0, 0, 0]\n",
      "2 (\n",
      "-------------------------- [2]\n",
      "[0, 0, 0, 0, 0]\n",
      "3 [\n",
      "-------------------------- []\n",
      "[0, 0, 1, 1, 0]\n",
      "4 }\n",
      "-------------------------- []\n",
      "[0, 0, 1, 1, 0]\n"
     ]
    },
    {
     "data": {
      "text/plain": [
       "2"
      ]
     },
     "execution_count": 784,
     "metadata": {},
     "output_type": "execute_result"
    }
   ],
   "source": [
    "s='{[([}'\n",
    "st, b = [], [0]*len(s)\n",
    "print('没有判断是否是有效 括号！！！！！')\n",
    "for i, val in enumerate(s):\n",
    "    if val == '(':\n",
    "        st.append(i)\n",
    "    elif st:\n",
    "        b[st.pop()], b[i] = 1, 1\n",
    "    print(i,val)\n",
    "    print('--------------------------',st)\n",
    "    print(b)\n",
    "\n",
    "c, mc = 0, 0\n",
    "for i in b:\n",
    "    if i:\n",
    "        c += 1\n",
    "    else:\n",
    "        c = 0\n",
    "    mc = max(c, mc)\n",
    "\n",
    "mc"
   ]
  },
  {
   "cell_type": "code",
   "execution_count": null,
   "metadata": {},
   "outputs": [],
   "source": [
    "d ={'(':')'}\n",
    "stack=[]\n",
    "valid_parenth=[]\n",
    "\n",
    "for i in s:\n",
    "    if i=='(':\n",
    "        stack.append('(')\n",
    "        \n",
    "        \n"
   ]
  },
  {
   "cell_type": "code",
   "execution_count": 781,
   "metadata": {},
   "outputs": [
    {
     "name": "stdout",
     "output_type": "stream",
     "text": [
      "1 1\n",
      "2 2\n",
      "3 3\n",
      "0 3\n",
      "1 3\n",
      "0 3\n",
      "1 3\n",
      "2 3\n",
      "3 3\n",
      "4 4\n",
      "0 4\n"
     ]
    }
   ],
   "source": [
    "c, mc = 0, 0\n",
    "for i in [9,1,2,0,4,0,8,7,99,6,0]:\n",
    "    if i:\n",
    "        c += 1\n",
    "    else:\n",
    "        c = 0\n",
    "    mc = max(c, mc)\n",
    "    print(c,mc)"
   ]
  },
  {
   "cell_type": "code",
   "execution_count": 785,
   "metadata": {},
   "outputs": [],
   "source": [
    "kvs={}.fromkeys((4,5),3)"
   ]
  },
  {
   "cell_type": "code",
   "execution_count": 786,
   "metadata": {},
   "outputs": [
    {
     "data": {
      "text/plain": [
       "3"
      ]
     },
     "execution_count": 786,
     "metadata": {},
     "output_type": "execute_result"
    }
   ],
   "source": [
    "kvs[4]"
   ]
  },
  {
   "cell_type": "markdown",
   "metadata": {},
   "source": [
    "# 2020.03.09.忙了一个下午的快排（双边递归，一直报错，要发火！！！）"
   ]
  },
  {
   "cell_type": "code",
   "execution_count": 11,
   "metadata": {},
   "outputs": [
    {
     "data": {
      "text/plain": [
       "7"
      ]
     },
     "execution_count": 11,
     "metadata": {},
     "output_type": "execute_result"
    }
   ],
   "source": [
    "import random\n",
    "random.choice(range(1,10))"
   ]
  },
  {
   "cell_type": "code",
   "execution_count": 3,
   "metadata": {},
   "outputs": [],
   "source": [
    "class OO():\n",
    "    def findKthLargest(self, nums, k):\n",
    "        self.start = 0\n",
    "        self.end = len(nums) - 1\n",
    "        self.target_index = self.end - k\n",
    "#         print(self.Quick_sort(nums,self.start, self.end, self.target_index))\n",
    "        return self.Quick_sort(nums,self.start, self.end, self.target_index)\n",
    "\n",
    "    def Quick_sort(self, nums, start, end, target_index):\n",
    "        return '1'\n"
   ]
  },
  {
   "cell_type": "code",
   "execution_count": 4,
   "metadata": {},
   "outputs": [
    {
     "data": {
      "text/plain": [
       "'1'"
      ]
     },
     "execution_count": 4,
     "metadata": {},
     "output_type": "execute_result"
    }
   ],
   "source": [
    "s =OO()\n",
    "s.findKthLargest([3,2,1,5,6,4],2)"
   ]
  },
  {
   "cell_type": "code",
   "execution_count": null,
   "metadata": {},
   "outputs": [],
   "source": [
    "class Solution:\n",
    "    def findKthLargest(self, nums,k):\n",
    "        # 用快速排序，pivot_index 与我们要找的 target_index做对比，如果是的话，就返回；\n",
    "        # pivot小于target_index,就在 后面找；\n",
    "        # pivot大于target_index,就在 前面找；\n",
    "        # 平均时间复杂度 O（N）= n+n/2+n/4+n/8+n/16...+1= 2n-1\n",
    "\n",
    "        target_index = len(nums) - 1 - k\n",
    "        return self.Quick_sort(nums,0,len(nums) - 1,target_index)\n",
    "\n",
    "\n",
    "    def Quick_sort(self, nums, start, end, target_index):\n",
    "        pivot_index = self.partition(nums, start, end)\n",
    "        print('index',pivot_index)\n",
    "\n",
    "        if pivot_index == target_index:\n",
    "            print(nums[pivot_index])\n",
    "            return nums[pivot_index]\n",
    "\n",
    "        elif target_index <pivot_index:\n",
    "            return self.Quick_sort(nums, start, pivot_index - 1, target_index)\n",
    "        elif target_index > pivot_index:\n",
    "            return self.Quick_sort(nums, pivot_index + 1, end, target_index)\n",
    "\n",
    "\n",
    "\n",
    "    def partition(self, arr, l, r):\n",
    "        pivot = arr[l]\n",
    "        pivot_index = l\n",
    "        while l < r:\n",
    "            while arr[l] < pivot:\n",
    "                l += 1\n",
    "            while arr[r] > pivot:\n",
    "                r -= 1\n",
    "            arr[l], arr[r] = arr[r], arr[l]\n",
    "        # 左右指针相遇，就是分界处，分界处左边的都大于pivot,右边的都小于pivot\n",
    "        # pivot目前是 第 （pivot_index+1） 小的数\n",
    "        arr[l], arr[pivot_index] = arr[pivot_index], arr[l]\n",
    "        pivot_index = l\n",
    "\n",
    "        # print(pivot_index)\n",
    "        return pivot_index\n",
    "\n"
   ]
  },
  {
   "cell_type": "code",
   "execution_count": null,
   "metadata": {},
   "outputs": [],
   "source": []
  },
  {
   "cell_type": "code",
   "execution_count": 12,
   "metadata": {},
   "outputs": [],
   "source": [
    "import random\n",
    "\n",
    "\n",
    "class Solution:\n",
    "    def findKthLargest(self,nums,k=3):\n",
    "        return self.Quick_sort(nums, 0, len(nums) - 1, k)\n",
    "\n",
    "    def Quick_sort(self, nums, start, end, target_index):\n",
    "        if start > end:\n",
    "            return nums\n",
    "\n",
    "        pivot_index = self.partition(nums, start, end)\n",
    "        if pivot_index == target_index:  # 第k大 反过来就是 n-k 小\n",
    "            return nums[pivot_index]\n",
    "\n",
    "        elif target_index < pivot_index:\n",
    "            return self.Quick_sort(nums, start, pivot_index-1, target_index)\n",
    "        elif target_index > pivot_index:\n",
    "            return self.Quick_sort(nums, pivot_index + 1, end, target_index)\n",
    "\n",
    "    def partition(self, arr, start, end):\n",
    "\n",
    "        startIndex = random.choice(range(start,end+1))\n",
    "\n",
    "        pivot = arr[startIndex]\n",
    "        arr[startIndex], arr[start] = arr[start], arr[startIndex]\n",
    "        pivot_index = start\n",
    "\n",
    "        l =start+1\n",
    "        r =end\n",
    "        while l<r:\n",
    "            while l < r and arr[l] < pivot:\n",
    "                l += 1\n",
    "            while l < r and arr[r] >= pivot:\n",
    "                r -= 1\n",
    "        # ⚠️arr[l]==arr[r]\n",
    "\n",
    "            arr[l], arr[r] = arr[r], arr[l]\n",
    "        # 左右指针相遇，就是分界处，分界处左边的都大于pivot,右边的都小于pivot\n",
    "        # pivot目前是 第 （pivot_index+1） 小的数\n",
    "        arr[l], arr[pivot_index] = arr[pivot_index], arr[l]\n",
    "        pivot_index = l\n",
    "\n",
    "        return pivot_index\n",
    "\n",
    "\n",
    "s =Solution()\n",
    "# # s.Quick_sort([3,2,1,5,6,4],0,5,3)\n"
   ]
  },
  {
   "cell_type": "code",
   "execution_count": 20,
   "metadata": {
    "collapsed": true
   },
   "outputs": [
    {
     "ename": "RecursionError",
     "evalue": "maximum recursion depth exceeded while calling a Python object",
     "output_type": "error",
     "traceback": [
      "\u001b[0;31m---------------------------------------------------------------------------\u001b[0m",
      "\u001b[0;31mRecursionError\u001b[0m                            Traceback (most recent call last)",
      "\u001b[0;32m<ipython-input-20-56b8f33e9c9f>\u001b[0m in \u001b[0;36m<module>\u001b[0;34m\u001b[0m\n\u001b[0;32m----> 1\u001b[0;31m \u001b[0ms\u001b[0m\u001b[0;34m.\u001b[0m\u001b[0mfindKthLargest\u001b[0m\u001b[0;34m(\u001b[0m\u001b[0;34m[\u001b[0m\u001b[0;36m3\u001b[0m\u001b[0;34m,\u001b[0m\u001b[0;36m4\u001b[0m\u001b[0;34m,\u001b[0m\u001b[0;36m5\u001b[0m\u001b[0;34m,\u001b[0m\u001b[0;36m6\u001b[0m\u001b[0;34m]\u001b[0m\u001b[0;34m,\u001b[0m\u001b[0;36m2\u001b[0m\u001b[0;34m)\u001b[0m\u001b[0;34m\u001b[0m\u001b[0;34m\u001b[0m\u001b[0m\n\u001b[0m",
      "\u001b[0;32m<ipython-input-12-dfee4f26ad1c>\u001b[0m in \u001b[0;36mfindKthLargest\u001b[0;34m(self, nums, k)\u001b[0m\n\u001b[1;32m      4\u001b[0m \u001b[0;32mclass\u001b[0m \u001b[0mSolution\u001b[0m\u001b[0;34m:\u001b[0m\u001b[0;34m\u001b[0m\u001b[0;34m\u001b[0m\u001b[0m\n\u001b[1;32m      5\u001b[0m     \u001b[0;32mdef\u001b[0m \u001b[0mfindKthLargest\u001b[0m\u001b[0;34m(\u001b[0m\u001b[0mself\u001b[0m\u001b[0;34m,\u001b[0m\u001b[0mnums\u001b[0m\u001b[0;34m,\u001b[0m\u001b[0mk\u001b[0m\u001b[0;34m=\u001b[0m\u001b[0;36m3\u001b[0m\u001b[0;34m)\u001b[0m\u001b[0;34m:\u001b[0m\u001b[0;34m\u001b[0m\u001b[0;34m\u001b[0m\u001b[0m\n\u001b[0;32m----> 6\u001b[0;31m         \u001b[0;32mreturn\u001b[0m \u001b[0mself\u001b[0m\u001b[0;34m.\u001b[0m\u001b[0mQuick_sort\u001b[0m\u001b[0;34m(\u001b[0m\u001b[0mnums\u001b[0m\u001b[0;34m,\u001b[0m \u001b[0;36m0\u001b[0m\u001b[0;34m,\u001b[0m \u001b[0mlen\u001b[0m\u001b[0;34m(\u001b[0m\u001b[0mnums\u001b[0m\u001b[0;34m)\u001b[0m \u001b[0;34m-\u001b[0m \u001b[0;36m1\u001b[0m\u001b[0;34m,\u001b[0m \u001b[0mk\u001b[0m\u001b[0;34m)\u001b[0m\u001b[0;34m\u001b[0m\u001b[0;34m\u001b[0m\u001b[0m\n\u001b[0m\u001b[1;32m      7\u001b[0m \u001b[0;34m\u001b[0m\u001b[0m\n\u001b[1;32m      8\u001b[0m     \u001b[0;32mdef\u001b[0m \u001b[0mQuick_sort\u001b[0m\u001b[0;34m(\u001b[0m\u001b[0mself\u001b[0m\u001b[0;34m,\u001b[0m \u001b[0mnums\u001b[0m\u001b[0;34m,\u001b[0m \u001b[0mstart\u001b[0m\u001b[0;34m,\u001b[0m \u001b[0mend\u001b[0m\u001b[0;34m,\u001b[0m \u001b[0mtarget_index\u001b[0m\u001b[0;34m)\u001b[0m\u001b[0;34m:\u001b[0m\u001b[0;34m\u001b[0m\u001b[0;34m\u001b[0m\u001b[0m\n",
      "\u001b[0;32m<ipython-input-12-dfee4f26ad1c>\u001b[0m in \u001b[0;36mQuick_sort\u001b[0;34m(self, nums, start, end, target_index)\u001b[0m\n\u001b[1;32m     15\u001b[0m \u001b[0;34m\u001b[0m\u001b[0m\n\u001b[1;32m     16\u001b[0m         \u001b[0;32melif\u001b[0m \u001b[0mtarget_index\u001b[0m \u001b[0;34m<\u001b[0m \u001b[0mpivot_index\u001b[0m\u001b[0;34m:\u001b[0m\u001b[0;34m\u001b[0m\u001b[0;34m\u001b[0m\u001b[0m\n\u001b[0;32m---> 17\u001b[0;31m             \u001b[0;32mreturn\u001b[0m \u001b[0mself\u001b[0m\u001b[0;34m.\u001b[0m\u001b[0mQuick_sort\u001b[0m\u001b[0;34m(\u001b[0m\u001b[0mnums\u001b[0m\u001b[0;34m,\u001b[0m \u001b[0mstart\u001b[0m\u001b[0;34m,\u001b[0m \u001b[0mpivot_index\u001b[0m\u001b[0;34m-\u001b[0m\u001b[0;36m1\u001b[0m\u001b[0;34m,\u001b[0m \u001b[0mtarget_index\u001b[0m\u001b[0;34m)\u001b[0m\u001b[0;34m\u001b[0m\u001b[0;34m\u001b[0m\u001b[0m\n\u001b[0m\u001b[1;32m     18\u001b[0m         \u001b[0;32melif\u001b[0m \u001b[0mtarget_index\u001b[0m \u001b[0;34m>\u001b[0m \u001b[0mpivot_index\u001b[0m\u001b[0;34m:\u001b[0m\u001b[0;34m\u001b[0m\u001b[0;34m\u001b[0m\u001b[0m\n\u001b[1;32m     19\u001b[0m             \u001b[0;32mreturn\u001b[0m \u001b[0mself\u001b[0m\u001b[0;34m.\u001b[0m\u001b[0mQuick_sort\u001b[0m\u001b[0;34m(\u001b[0m\u001b[0mnums\u001b[0m\u001b[0;34m,\u001b[0m \u001b[0mpivot_index\u001b[0m \u001b[0;34m+\u001b[0m \u001b[0;36m1\u001b[0m\u001b[0;34m,\u001b[0m \u001b[0mend\u001b[0m\u001b[0;34m,\u001b[0m \u001b[0mtarget_index\u001b[0m\u001b[0;34m)\u001b[0m\u001b[0;34m\u001b[0m\u001b[0;34m\u001b[0m\u001b[0m\n",
      "\u001b[0;32m<ipython-input-12-dfee4f26ad1c>\u001b[0m in \u001b[0;36mQuick_sort\u001b[0;34m(self, nums, start, end, target_index)\u001b[0m\n\u001b[1;32m     17\u001b[0m             \u001b[0;32mreturn\u001b[0m \u001b[0mself\u001b[0m\u001b[0;34m.\u001b[0m\u001b[0mQuick_sort\u001b[0m\u001b[0;34m(\u001b[0m\u001b[0mnums\u001b[0m\u001b[0;34m,\u001b[0m \u001b[0mstart\u001b[0m\u001b[0;34m,\u001b[0m \u001b[0mpivot_index\u001b[0m\u001b[0;34m-\u001b[0m\u001b[0;36m1\u001b[0m\u001b[0;34m,\u001b[0m \u001b[0mtarget_index\u001b[0m\u001b[0;34m)\u001b[0m\u001b[0;34m\u001b[0m\u001b[0;34m\u001b[0m\u001b[0m\n\u001b[1;32m     18\u001b[0m         \u001b[0;32melif\u001b[0m \u001b[0mtarget_index\u001b[0m \u001b[0;34m>\u001b[0m \u001b[0mpivot_index\u001b[0m\u001b[0;34m:\u001b[0m\u001b[0;34m\u001b[0m\u001b[0;34m\u001b[0m\u001b[0m\n\u001b[0;32m---> 19\u001b[0;31m             \u001b[0;32mreturn\u001b[0m \u001b[0mself\u001b[0m\u001b[0;34m.\u001b[0m\u001b[0mQuick_sort\u001b[0m\u001b[0;34m(\u001b[0m\u001b[0mnums\u001b[0m\u001b[0;34m,\u001b[0m \u001b[0mpivot_index\u001b[0m \u001b[0;34m+\u001b[0m \u001b[0;36m1\u001b[0m\u001b[0;34m,\u001b[0m \u001b[0mend\u001b[0m\u001b[0;34m,\u001b[0m \u001b[0mtarget_index\u001b[0m\u001b[0;34m)\u001b[0m\u001b[0;34m\u001b[0m\u001b[0;34m\u001b[0m\u001b[0m\n\u001b[0m\u001b[1;32m     20\u001b[0m \u001b[0;34m\u001b[0m\u001b[0m\n\u001b[1;32m     21\u001b[0m     \u001b[0;32mdef\u001b[0m \u001b[0mpartition\u001b[0m\u001b[0;34m(\u001b[0m\u001b[0mself\u001b[0m\u001b[0;34m,\u001b[0m \u001b[0marr\u001b[0m\u001b[0;34m,\u001b[0m \u001b[0mstart\u001b[0m\u001b[0;34m,\u001b[0m \u001b[0mend\u001b[0m\u001b[0;34m)\u001b[0m\u001b[0;34m:\u001b[0m\u001b[0;34m\u001b[0m\u001b[0;34m\u001b[0m\u001b[0m\n",
      "\u001b[0;32m<ipython-input-12-dfee4f26ad1c>\u001b[0m in \u001b[0;36mQuick_sort\u001b[0;34m(self, nums, start, end, target_index)\u001b[0m\n\u001b[1;32m     15\u001b[0m \u001b[0;34m\u001b[0m\u001b[0m\n\u001b[1;32m     16\u001b[0m         \u001b[0;32melif\u001b[0m \u001b[0mtarget_index\u001b[0m \u001b[0;34m<\u001b[0m \u001b[0mpivot_index\u001b[0m\u001b[0;34m:\u001b[0m\u001b[0;34m\u001b[0m\u001b[0;34m\u001b[0m\u001b[0m\n\u001b[0;32m---> 17\u001b[0;31m             \u001b[0;32mreturn\u001b[0m \u001b[0mself\u001b[0m\u001b[0;34m.\u001b[0m\u001b[0mQuick_sort\u001b[0m\u001b[0;34m(\u001b[0m\u001b[0mnums\u001b[0m\u001b[0;34m,\u001b[0m \u001b[0mstart\u001b[0m\u001b[0;34m,\u001b[0m \u001b[0mpivot_index\u001b[0m\u001b[0;34m-\u001b[0m\u001b[0;36m1\u001b[0m\u001b[0;34m,\u001b[0m \u001b[0mtarget_index\u001b[0m\u001b[0;34m)\u001b[0m\u001b[0;34m\u001b[0m\u001b[0;34m\u001b[0m\u001b[0m\n\u001b[0m\u001b[1;32m     18\u001b[0m         \u001b[0;32melif\u001b[0m \u001b[0mtarget_index\u001b[0m \u001b[0;34m>\u001b[0m \u001b[0mpivot_index\u001b[0m\u001b[0;34m:\u001b[0m\u001b[0;34m\u001b[0m\u001b[0;34m\u001b[0m\u001b[0m\n\u001b[1;32m     19\u001b[0m             \u001b[0;32mreturn\u001b[0m \u001b[0mself\u001b[0m\u001b[0;34m.\u001b[0m\u001b[0mQuick_sort\u001b[0m\u001b[0;34m(\u001b[0m\u001b[0mnums\u001b[0m\u001b[0;34m,\u001b[0m \u001b[0mpivot_index\u001b[0m \u001b[0;34m+\u001b[0m \u001b[0;36m1\u001b[0m\u001b[0;34m,\u001b[0m \u001b[0mend\u001b[0m\u001b[0;34m,\u001b[0m \u001b[0mtarget_index\u001b[0m\u001b[0;34m)\u001b[0m\u001b[0;34m\u001b[0m\u001b[0;34m\u001b[0m\u001b[0m\n",
      "... last 1 frames repeated, from the frame below ...\n",
      "\u001b[0;32m<ipython-input-12-dfee4f26ad1c>\u001b[0m in \u001b[0;36mQuick_sort\u001b[0;34m(self, nums, start, end, target_index)\u001b[0m\n\u001b[1;32m     15\u001b[0m \u001b[0;34m\u001b[0m\u001b[0m\n\u001b[1;32m     16\u001b[0m         \u001b[0;32melif\u001b[0m \u001b[0mtarget_index\u001b[0m \u001b[0;34m<\u001b[0m \u001b[0mpivot_index\u001b[0m\u001b[0;34m:\u001b[0m\u001b[0;34m\u001b[0m\u001b[0;34m\u001b[0m\u001b[0m\n\u001b[0;32m---> 17\u001b[0;31m             \u001b[0;32mreturn\u001b[0m \u001b[0mself\u001b[0m\u001b[0;34m.\u001b[0m\u001b[0mQuick_sort\u001b[0m\u001b[0;34m(\u001b[0m\u001b[0mnums\u001b[0m\u001b[0;34m,\u001b[0m \u001b[0mstart\u001b[0m\u001b[0;34m,\u001b[0m \u001b[0mpivot_index\u001b[0m\u001b[0;34m-\u001b[0m\u001b[0;36m1\u001b[0m\u001b[0;34m,\u001b[0m \u001b[0mtarget_index\u001b[0m\u001b[0;34m)\u001b[0m\u001b[0;34m\u001b[0m\u001b[0;34m\u001b[0m\u001b[0m\n\u001b[0m\u001b[1;32m     18\u001b[0m         \u001b[0;32melif\u001b[0m \u001b[0mtarget_index\u001b[0m \u001b[0;34m>\u001b[0m \u001b[0mpivot_index\u001b[0m\u001b[0;34m:\u001b[0m\u001b[0;34m\u001b[0m\u001b[0;34m\u001b[0m\u001b[0m\n\u001b[1;32m     19\u001b[0m             \u001b[0;32mreturn\u001b[0m \u001b[0mself\u001b[0m\u001b[0;34m.\u001b[0m\u001b[0mQuick_sort\u001b[0m\u001b[0;34m(\u001b[0m\u001b[0mnums\u001b[0m\u001b[0;34m,\u001b[0m \u001b[0mpivot_index\u001b[0m \u001b[0;34m+\u001b[0m \u001b[0;36m1\u001b[0m\u001b[0;34m,\u001b[0m \u001b[0mend\u001b[0m\u001b[0;34m,\u001b[0m \u001b[0mtarget_index\u001b[0m\u001b[0;34m)\u001b[0m\u001b[0;34m\u001b[0m\u001b[0;34m\u001b[0m\u001b[0m\n",
      "\u001b[0;31mRecursionError\u001b[0m: maximum recursion depth exceeded while calling a Python object"
     ]
    }
   ],
   "source": [
    "s.findKthLargest([3,4,5,6],2)"
   ]
  },
  {
   "cell_type": "markdown",
   "metadata": {},
   "source": [
    "### 2020.03.09 快速排序单边循环--------一写就通，⚠️循环中找pivot_index,一直到找到break!"
   ]
  },
  {
   "cell_type": "code",
   "execution_count": 103,
   "metadata": {},
   "outputs": [],
   "source": [
    "def findKthLargest(nums,k):\n",
    "#     \n",
    "# ==============这一部分 迭代 代替 递归==========================\n",
    "    start =0\n",
    "    end =len(nums)-1\n",
    "    target_index=k-1\n",
    "    while True:\n",
    "        pivot_index =partition(nums,start,end)\n",
    "        if pivot_index==target_index:\n",
    "            print('================')\n",
    "            print(nums)\n",
    "         \n",
    "            return nums[pivot_index]\n",
    "            break\n",
    "        elif pivot_index>target_index:\n",
    "            end=pivot_index-1\n",
    "        else:\n",
    "            start=pivot_index+1\n",
    "# =======================================\n",
    "#      return quick_sort(nums,0,len(nums)-1,k)   \n",
    "# def quick_sort(arr,start,end,k):   \n",
    "#     while True:\n",
    "#         pivot_index =partition(arr,start,end)\n",
    "#         if pivot_index==k:\n",
    "#             print('================')\n",
    "#             print(arr[pivot_index])\n",
    "#             return arr\n",
    "#             break\n",
    "#         elif pivot_index>k:\n",
    "#             return quick_sort(arr,start,pivot_index-1,k)\n",
    "#         else:\n",
    "#             return quick_sort(arr,pivot_index+1,end,k)\n",
    "    \n",
    "    \n",
    "def partition(arr,start,end):\n",
    "    mark =start\n",
    "    l =start+1\n",
    "    r =end\n",
    "    pivot=arr[start]\n",
    "    while l<=end:\n",
    "        if arr[l]<pivot:\n",
    "            mark+=1\n",
    "            if mark!=l:\n",
    "                arr[mark],arr[l]=arr[l],arr[mark]\n",
    "        l+=1\n",
    "        \n",
    "    arr[mark],arr[start]=arr[start],arr[mark]\n",
    "    print(mark)\n",
    "    return mark"
   ]
  },
  {
   "cell_type": "code",
   "execution_count": 104,
   "metadata": {},
   "outputs": [
    {
     "name": "stdout",
     "output_type": "stream",
     "text": [
      "8\n",
      "5\n",
      "2\n",
      "4\n",
      "================\n",
      "[1, 2, 5, 8, 9, 11, 11, 24, 31, 88, 71, 64, 44]\n"
     ]
    },
    {
     "data": {
      "text/plain": [
       "9"
      ]
     },
     "execution_count": 104,
     "metadata": {},
     "output_type": "execute_result"
    }
   ],
   "source": [
    "arr =[31,9,11,2,1,24,64,8,44,88,71,5,11]\n",
    "k =5\n",
    "findKthLargest(arr,k)\n",
    "# kSmallest Value--------> target_index=k-1"
   ]
  },
  {
   "cell_type": "code",
   "execution_count": 105,
   "metadata": {},
   "outputs": [],
   "source": [
    "def findKthLargest(nums,k):\n",
    "    return quick_sort(nums,0,len(nums)-1,k)\n",
    "\n",
    "\n",
    "def quick_sort(nums,start,end,k):   \n",
    "    while True:\n",
    "        pivot_index =partition(nums,start,end)\n",
    "        target_index=k-1\n",
    "        if pivot_index==target_index:\n",
    "            print('================')\n",
    "            print(nums[pivot_index])\n",
    "            return nums\n",
    "            break\n",
    "        elif pivot_index>target_index:\n",
    "            return quick_sort(arr,start,pivot_index-1,k)\n",
    "        else:\n",
    "            return quick_sort(arr,pivot_index+1,end,k)\n",
    "    \n",
    "    \n",
    "def partition(arr,start,end):\n",
    "    mark =start\n",
    "    l =start+1\n",
    "    r =end\n",
    "    pivot=arr[start]\n",
    "    while l<=end:\n",
    "        if arr[l]>pivot:\n",
    "            mark+=1\n",
    "            if mark!=l:\n",
    "                arr[mark],arr[l]=arr[l],arr[mark]\n",
    "        l+=1\n",
    "        \n",
    "    arr[mark],arr[start]=arr[start],arr[mark]\n",
    "    print(mark)\n",
    "    return mark\n"
   ]
  },
  {
   "cell_type": "code",
   "execution_count": 106,
   "metadata": {},
   "outputs": [
    {
     "name": "stdout",
     "output_type": "stream",
     "text": [
      "4\n",
      "================\n",
      "31\n"
     ]
    },
    {
     "data": {
      "text/plain": [
       "[71, 64, 44, 88, 31, 24, 9, 8, 11, 2, 1, 5, 11]"
      ]
     },
     "execution_count": 106,
     "metadata": {},
     "output_type": "execute_result"
    }
   ],
   "source": [
    "arr =[31,9,11,2,1,24,64,8,44,88,71,5,11]\n",
    "k=5\n",
    "findKthLargest(arr,k)\n",
    "# KLargest Value--------> target_index=k-1"
   ]
  },
  {
   "cell_type": "code",
   "execution_count": 24,
   "metadata": {},
   "outputs": [],
   "source": [
    "row =3\n",
    "col =2\n",
    "dp =[[1]*col for i in range(row)]\n",
    "\n",
    "    \n",
    "dp[0][0]=0    \n",
    "\n",
    "for i in range(row):\n",
    "    for j in range(col):        \n",
    "            dp[i][j]=dp[i-1][j]+dp[i][j-1]"
   ]
  },
  {
   "cell_type": "code",
   "execution_count": 25,
   "metadata": {},
   "outputs": [
    {
     "data": {
      "text/plain": [
       "[[2, 3], [3, 6], [4, 10]]"
      ]
     },
     "execution_count": 25,
     "metadata": {},
     "output_type": "execute_result"
    }
   ],
   "source": [
    "dp"
   ]
  },
  {
   "cell_type": "code",
   "execution_count": 17,
   "metadata": {},
   "outputs": [],
   "source": [
    "       \n",
    "dp[0][0] = 0\n",
    "for i in range(m):\n",
    "    dp[i][0] = 1\n",
    "for j in range(n):\n",
    "    dp[0][j] = 1\n",
    "\n",
    "for i in range(1, m):\n",
    "    for j in range(1, n):\n",
    "        dp[i][j] = dp[i-1][j] + dp[i][j-1]"
   ]
  },
  {
   "cell_type": "code",
   "execution_count": 30,
   "metadata": {},
   "outputs": [],
   "source": [
    "# Definition for singly-linked list.\n",
    "class ListNode:\n",
    "    def __init__(self, x):\n",
    "        self.val = x\n",
    "        self.next = None\n",
    "\n",
    "class Solution:\n",
    "    def removeNthFromEnd(self,head,n):\n",
    "        a = ListNode\n",
    "        b = ListNode\n",
    "        a =head\n",
    "        b =head\n",
    "        for i in range(n):\n",
    "            if a.next:\n",
    "                a = a.next\n",
    "            else:\n",
    "                return head.next\n",
    "                \n",
    "        while a.next:\n",
    "            a = a.next\n",
    "            b = b.next\n",
    "        b.next = b.next.next\n",
    "        return head"
   ]
  },
  {
   "cell_type": "code",
   "execution_count": 43,
   "metadata": {},
   "outputs": [
    {
     "name": "stdout",
     "output_type": "stream",
     "text": [
      "1\n"
     ]
    }
   ],
   "source": [
    "di={}\n",
    "aa =[5,2,3,4,5,6,1,6,1,99]\n",
    "for i,v in enumerate(aa):\n",
    "    di[i]=v\n",
    "if 5 in di.values():\n",
    "    print('1')"
   ]
  },
  {
   "cell_type": "code",
   "execution_count": 42,
   "metadata": {},
   "outputs": [
    {
     "name": "stdout",
     "output_type": "stream",
     "text": [
      "0\n"
     ]
    }
   ],
   "source": [
    "if 5 in aa:\n",
    "    print(aa.index(5))"
   ]
  },
  {
   "cell_type": "code",
   "execution_count": null,
   "metadata": {},
   "outputs": [],
   "source": []
  }
 ],
 "metadata": {
  "kernelspec": {
   "display_name": "Python 3",
   "language": "python",
   "name": "python3"
  },
  "language_info": {
   "codemirror_mode": {
    "name": "ipython",
    "version": 3
   },
   "file_extension": ".py",
   "mimetype": "text/x-python",
   "name": "python",
   "nbconvert_exporter": "python",
   "pygments_lexer": "ipython3",
   "version": "3.7.4"
  }
 },
 "nbformat": 4,
 "nbformat_minor": 2
}
