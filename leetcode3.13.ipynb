{
 "cells": [
  {
   "cell_type": "code",
   "execution_count": 23,
   "metadata": {},
   "outputs": [
    {
     "data": {
      "text/plain": [
       "[[0, 0, 0, 0, 0, 0],\n",
       " [0, 0, 0, 0, 0, 0],\n",
       " [0, 0, 0, 0, 0, 0],\n",
       " [0, 0, 0, 0, 0, 0],\n",
       " [0, 0, 0, 0, 0, 0],\n",
       " [0, 0, 0, 0, 0, 0]]"
      ]
     },
     "execution_count": 23,
     "metadata": {},
     "output_type": "execute_result"
    }
   ],
   "source": [
    "A =[1,2,3,4,5]\n",
    "B =[1,2,1,3,4]\n",
    "m =len(A)+1\n",
    "n= len(B)+1\n",
    "dp =[[0]*n for m in range(m)]\n",
    "dp"
   ]
  },
  {
   "cell_type": "code",
   "execution_count": 24,
   "metadata": {},
   "outputs": [
    {
     "name": "stdout",
     "output_type": "stream",
     "text": [
      "[[0, 0, 0, 0, 0, 0], [0, 1, 0, 0, 0, 0], [0, 0, 0, 0, 0, 0], [0, 0, 0, 0, 0, 0], [0, 0, 0, 0, 0, 0], [0, 0, 0, 0, 0, 0]]\n",
      "==============\n",
      "[[0, 0, 0, 0, 0, 0], [0, 1, 0, 1, 0, 0], [0, 0, 0, 0, 0, 0], [0, 0, 0, 0, 0, 0], [0, 0, 0, 0, 0, 0], [0, 0, 0, 0, 0, 0]]\n",
      "==============\n",
      "[[0, 0, 0, 0, 0, 0], [0, 1, 0, 1, 0, 0], [0, 0, 2, 0, 0, 0], [0, 0, 0, 0, 0, 0], [0, 0, 0, 0, 0, 0], [0, 0, 0, 0, 0, 0]]\n",
      "==============\n",
      "[[0, 0, 0, 0, 0, 0], [0, 1, 0, 1, 0, 0], [0, 0, 2, 0, 0, 0], [0, 0, 0, 0, 1, 0], [0, 0, 0, 0, 0, 0], [0, 0, 0, 0, 0, 0]]\n",
      "==============\n",
      "[[0, 0, 0, 0, 0, 0], [0, 1, 0, 1, 0, 0], [0, 0, 2, 0, 0, 0], [0, 0, 0, 0, 1, 0], [0, 0, 0, 0, 0, 2], [0, 0, 0, 0, 0, 0]]\n",
      "==============\n"
     ]
    }
   ],
   "source": [
    "for i in range(1,m):\n",
    "    for j in range(1,n):\n",
    " \n",
    "        if A[i-1]==B[j-1]:\n",
    "            dp[i][j]=dp[i-1][j-1]+1\n",
    "            print(dp)\n",
    "            print('==============')\n"
   ]
  },
  {
   "cell_type": "code",
   "execution_count": null,
   "metadata": {},
   "outputs": [],
   "source": []
  },
  {
   "cell_type": "code",
   "execution_count": 27,
   "metadata": {},
   "outputs": [
    {
     "data": {
      "text/plain": [
       "{0: 4, 1: 2}"
      ]
     },
     "execution_count": 27,
     "metadata": {},
     "output_type": "execute_result"
    }
   ],
   "source": [
    "n=[0, 1, 0, 1, 0, 0]\n",
    "dic={}\n",
    "for i in n:\n",
    "    dic[i]=dic.get(i,0)+1\n",
    "    \n",
    "dic"
   ]
  },
  {
   "cell_type": "code",
   "execution_count": 41,
   "metadata": {
    "collapsed": true
   },
   "outputs": [
    {
     "name": "stdout",
     "output_type": "stream",
     "text": [
      "0 2 1\n",
      "0 3 1\n",
      "2 3 2\n",
      "0 4 1\n",
      "0 5 1\n",
      "4 5 2\n",
      "0 6 1\n",
      "0 7 1\n",
      "0 8 1\n",
      "2 8 2\n",
      "3 8 3\n",
      "4 8 4\n",
      "6 8 4\n",
      "7 8 4\n"
     ]
    }
   ],
   "source": [
    "nums=[1,0,5,6,2,3,2,2,7]\n",
    "dp=[1]*len(nums)\n",
    "maxlen=0\n",
    "for i in range(len(nums)):\n",
    "    for j in range(i):\n",
    "        if nums[i]>nums[j]:\n",
    "            if dp[j]+1!=dp[i]:\n",
    "                print(j,i,dp[i])\n",
    "            dp[i]=max(dp[j]+1,dp[i])\n",
    "            maxlen=max(maxlen,dp[i])\n",
    "#             if dp[i]>=maxlen:\n",
    "#                 maxlen=dp[i]\n"
   ]
  },
  {
   "cell_type": "code",
   "execution_count": 40,
   "metadata": {},
   "outputs": [
    {
     "data": {
      "text/plain": [
       "[1, 1, 2, 3, 2, 3, 2, 2, 4]"
      ]
     },
     "execution_count": 40,
     "metadata": {},
     "output_type": "execute_result"
    }
   ],
   "source": [
    "dp"
   ]
  },
  {
   "cell_type": "code",
   "execution_count": 104,
   "metadata": {},
   "outputs": [
    {
     "name": "stdout",
     "output_type": "stream",
     "text": [
      "========== 1\n",
      "========== 2\n",
      "========== 3\n",
      "========== 4\n",
      "========== 5\n",
      "========== 6\n"
     ]
    },
    {
     "data": {
      "text/plain": [
       "6"
      ]
     },
     "execution_count": 104,
     "metadata": {},
     "output_type": "execute_result"
    }
   ],
   "source": [
    "nums=[7,7,7,7,7,7]\n",
    "total=[1]*len(nums)\n",
    "dp=[1]*len(nums)\n",
    "for i, v in enumerate(nums):\n",
    "    for j in range(i):\n",
    "        if nums[j] < nums[i]:\n",
    "            # needs updates\n",
    "            if dp[i] <= dp[j]:\n",
    "                dp[i] = dp[j] + 1\n",
    "              \n",
    "                total[i] = total[j]\n",
    "#                 print(total)\n",
    "            elif dp[i] == dp[j] + 1:\n",
    "                total[i] += total[j]\n",
    "#                 \n",
    "                print(total)\n",
    "Mmax = max(dp)\n",
    "res = 0\n",
    "for d, t in zip(dp, total):\n",
    "    \n",
    " \n",
    "    if d == Mmax:\n",
    "     \n",
    "        res += t\n",
    "     \n",
    "    print('==========',res)\n",
    "    \n",
    "res\n"
   ]
  },
  {
   "cell_type": "code",
   "execution_count": 105,
   "metadata": {},
   "outputs": [
    {
     "data": {
      "text/plain": [
       "[1, 1, 1, 1, 1, 1]"
      ]
     },
     "execution_count": 105,
     "metadata": {},
     "output_type": "execute_result"
    }
   ],
   "source": [
    "dp"
   ]
  },
  {
   "cell_type": "code",
   "execution_count": 106,
   "metadata": {},
   "outputs": [
    {
     "data": {
      "text/plain": [
       "[1, 1, 1, 1, 1, 1]"
      ]
     },
     "execution_count": 106,
     "metadata": {},
     "output_type": "execute_result"
    }
   ],
   "source": [
    "total"
   ]
  },
  {
   "cell_type": "code",
   "execution_count": 107,
   "metadata": {},
   "outputs": [
    {
     "data": {
      "text/plain": [
       "6"
      ]
     },
     "execution_count": 107,
     "metadata": {},
     "output_type": "execute_result"
    }
   ],
   "source": [
    "res"
   ]
  },
  {
   "cell_type": "code",
   "execution_count": 108,
   "metadata": {},
   "outputs": [
    {
     "name": "stdout",
     "output_type": "stream",
     "text": [
      "[1, 1, 2, 1, 1, 1, 1]\n",
      "[1, 1, 2, 2, 1, 1, 1]\n",
      "[1, 1, 2, 2, 2, 1, 1]\n",
      "[1, 1, 2, 2, 2, 2, 1]\n",
      "[1, 1, 2, 2, 2, 2, 2]\n",
      "========== 0\n",
      "========== 0\n",
      "========== 0\n",
      "========== 0\n",
      "========== 2\n",
      "========== 4\n",
      "========== 6\n"
     ]
    },
    {
     "data": {
      "text/plain": [
       "6"
      ]
     },
     "execution_count": 108,
     "metadata": {},
     "output_type": "execute_result"
    }
   ],
   "source": [
    "nums=[1,0,3,5,7,7,7]\n",
    "total=[1]*len(nums)\n",
    "dp=[1]*len(nums)\n",
    "for i, v in enumerate(nums):\n",
    "    for j in range(i):\n",
    "        if nums[j] < nums[i]:\n",
    "            # needs updates\n",
    "            if dp[i] <= dp[j]:\n",
    "                dp[i] = dp[j] + 1\n",
    "              \n",
    "                total[i] = total[j]\n",
    "#                 print(total)\n",
    "            elif dp[i] == dp[j] + 1:\n",
    "                total[i] += total[j]\n",
    "#                 \n",
    "                print(total)\n",
    "Mmax = max(dp)\n",
    "res = 0\n",
    "for d, t in zip(dp, total):\n",
    "    \n",
    " \n",
    "    if d == Mmax:\n",
    "     \n",
    "        res += t\n",
    "     \n",
    "    print('==========',res)\n",
    "    \n",
    "res\n",
    "\n"
   ]
  },
  {
   "cell_type": "code",
   "execution_count": 109,
   "metadata": {},
   "outputs": [
    {
     "data": {
      "text/plain": [
       "[1, 1, 2, 2, 2, 2, 2]"
      ]
     },
     "execution_count": 109,
     "metadata": {},
     "output_type": "execute_result"
    }
   ],
   "source": [
    "total"
   ]
  },
  {
   "cell_type": "code",
   "execution_count": 110,
   "metadata": {},
   "outputs": [
    {
     "data": {
      "text/plain": [
       "[1, 1, 2, 3, 4, 4, 4]"
      ]
     },
     "execution_count": 110,
     "metadata": {},
     "output_type": "execute_result"
    }
   ],
   "source": [
    "dp"
   ]
  },
  {
   "cell_type": "code",
   "execution_count": 111,
   "metadata": {},
   "outputs": [
    {
     "data": {
      "text/plain": [
       "6"
      ]
     },
     "execution_count": 111,
     "metadata": {},
     "output_type": "execute_result"
    }
   ],
   "source": [
    "res"
   ]
  },
  {
   "cell_type": "markdown",
   "metadata": {},
   "source": [
    "n=5\n",
    "dp=[[0]*n for i in range(n)]\n",
    "\n",
    "for i in range(n):\n",
    "    dp[i][0]=1\n",
    "    dp[i][i]=1\n",
    "    \n",
    "for i in range(1,n):\n",
    "    for j in range(1,i):\n",
    "        dp[i][j]=dp[i-1][j-1]+dp[i-1][j] \n",
    "        del dp[i][i-j-]\n",
    "dp"
   ]
  },
  {
   "cell_type": "code",
   "execution_count": 64,
   "metadata": {},
   "outputs": [
    {
     "name": "stdout",
     "output_type": "stream",
     "text": [
      "[[1, 0, 0, 0, 0], [1, 1, 0, 0, 0], [1, 2, 1, 0, 0], [1, 3, 3, 1, 0], [1, 4, 6, 4, 1]]\n"
     ]
    },
    {
     "data": {
      "text/plain": [
       "[[1], [1, 1], [1, 2, 1], [1, 3, 3, 1], [1, 4, 6, 4, 1]]"
      ]
     },
     "execution_count": 64,
     "metadata": {},
     "output_type": "execute_result"
    }
   ],
   "source": [
    "n=5\n",
    "dp=[[0]*n for i in range(n)]\n",
    "dp1=[[None]*i for i in range(n+1)]\n",
    "del dp1[0]\n",
    "\n",
    "for i in range(n):\n",
    "    dp[i][0]=1\n",
    "    dp1[i][0]=1\n",
    "\n",
    "\n",
    "    \n",
    "for i in range(n):\n",
    "    for j in range(1,i+1):\n",
    "\n",
    "        dp[i][j]=dp[i-1][j-1]+dp[i-1][j] \n",
    "        dp1[i][j]=dp[i][j]\n",
    "print(dp)\n",
    "dp1"
   ]
  },
  {
   "cell_type": "code",
   "execution_count": 61,
   "metadata": {},
   "outputs": [
    {
     "data": {
      "text/plain": [
       "[[1], [1, 1], [1, 2, 1], [1, 3, 3, 1], [1, 4, 6, 4, 1]]"
      ]
     },
     "execution_count": 61,
     "metadata": {},
     "output_type": "execute_result"
    }
   ],
   "source": [
    "dp1"
   ]
  },
  {
   "cell_type": "code",
   "execution_count": null,
   "metadata": {},
   "outputs": [],
   "source": []
  },
  {
   "cell_type": "code",
   "execution_count": null,
   "metadata": {},
   "outputs": [],
   "source": []
  },
  {
   "cell_type": "code",
   "execution_count": null,
   "metadata": {},
   "outputs": [],
   "source": []
  },
  {
   "cell_type": "code",
   "execution_count": null,
   "metadata": {},
   "outputs": [],
   "source": []
  },
  {
   "cell_type": "code",
   "execution_count": null,
   "metadata": {},
   "outputs": [],
   "source": []
  },
  {
   "cell_type": "code",
   "execution_count": null,
   "metadata": {},
   "outputs": [],
   "source": []
  },
  {
   "cell_type": "code",
   "execution_count": null,
   "metadata": {},
   "outputs": [],
   "source": []
  },
  {
   "cell_type": "code",
   "execution_count": null,
   "metadata": {},
   "outputs": [],
   "source": []
  },
  {
   "cell_type": "code",
   "execution_count": null,
   "metadata": {},
   "outputs": [],
   "source": []
  },
  {
   "cell_type": "code",
   "execution_count": null,
   "metadata": {},
   "outputs": [],
   "source": []
  },
  {
   "cell_type": "code",
   "execution_count": 66,
   "metadata": {},
   "outputs": [],
   "source": [
    "class ListNode:\n",
    "    def __init__(self, x):\n",
    "        self.val = x\n",
    "        self.next = None"
   ]
  },
  {
   "cell_type": "code",
   "execution_count": null,
   "metadata": {},
   "outputs": [],
   "source": []
  },
  {
   "cell_type": "code",
   "execution_count": 257,
   "metadata": {},
   "outputs": [],
   "source": [
    "class ListNode:\n",
    "    def __init__(self, x):\n",
    "        self.val = x\n",
    "        self.next = None\n",
    "l =[4,2,1,3,5,6,11,22]\n",
    "N1=ListNode(l[0])\n",
    "cur =N1\n",
    "for i in range(1,len(l)):\n",
    "#     在循环里面调用，直接把 遍历到的值 作为参数传到实例化里面\n",
    "    a =ListNode(l[i])\n",
    "\n",
    "    cur.next =a\n",
    "    cur =cur.next\n"
   ]
  },
  {
   "cell_type": "code",
   "execution_count": 259,
   "metadata": {},
   "outputs": [
    {
     "name": "stdout",
     "output_type": "stream",
     "text": [
      "4 4\n",
      "2 1\n",
      "1 5\n",
      "3 11\n"
     ]
    }
   ],
   "source": [
    "s=f=N1\n",
    "while f:\n",
    "    print(s.val,f.val)\n",
    "    s,f=s.next,f.next.next"
   ]
  },
  {
   "cell_type": "code",
   "execution_count": 260,
   "metadata": {},
   "outputs": [],
   "source": [
    " def sort_linkedlist(head):\n",
    "    if head==None:\n",
    "        return head # ⚠️1.base case 返回\n",
    "    \n",
    "    s=f=head.\n",
    "    while f and f.next:\n",
    "        s,f=s.next,f.next.next\n",
    "    mid=s\n",
    "    s.next =None\n",
    "\n",
    "\n",
    "\n",
    "    L =sort_linkedlist(head)\n",
    "    R =sort_linkedlist(mid.next)\n",
    "    res=node =ListNode(-1)  #2\n",
    "    while L and R:\n",
    "        print(L.val,R.val)\n",
    "        if L.val<R.val:\n",
    "            node.next,L=L,L.next\n",
    "        else:\n",
    "            node.next,R=R,R.next\n",
    "        node=node.next\n",
    "    node.next =L if L else R\n",
    "    return res.next  #3"
   ]
  },
  {
   "cell_type": "code",
   "execution_count": null,
   "metadata": {},
   "outputs": [],
   "source": []
  },
  {
   "cell_type": "code",
   "execution_count": null,
   "metadata": {},
   "outputs": [],
   "source": []
  },
  {
   "cell_type": "code",
   "execution_count": null,
   "metadata": {},
   "outputs": [],
   "source": []
  },
  {
   "cell_type": "code",
   "execution_count": null,
   "metadata": {},
   "outputs": [],
   "source": []
  },
  {
   "cell_type": "code",
   "execution_count": 381,
   "metadata": {},
   "outputs": [],
   "source": [
    "class ListNode:\n",
    "    def __init__(self, x):\n",
    "        self.val = x\n",
    "        self.next = None\n",
    "l =[4,2,1,3,5,6,11,22]\n",
    "N1=ListNode(l[0])\n",
    "cur =N1\n",
    "for i in range(1,len(l)):\n",
    "#     在循环里面调用，直接把 遍历到的值 作为参数传到实例化里面\n",
    "    a =ListNode(l[i])\n",
    "\n",
    "    cur.next =a\n",
    "    cur =cur.next"
   ]
  },
  {
   "cell_type": "code",
   "execution_count": 356,
   "metadata": {},
   "outputs": [],
   "source": [
    "class ListNode:\n",
    "    def __init__(self, x):\n",
    "        self.val = x\n",
    "        self.next = None\n",
    "l =[4,2,1,3,5,6,11,22]\n",
    "N1=ListNode(l[0])\n",
    "cur =N1\n",
    "for i in range(1,len(l)):\n",
    "#     在循环里面调用，直接把 遍历到的值 作为参数传到实例化里面\n",
    "    a =ListNode(l[i])\n",
    "\n",
    "    cur.next =a\n",
    "    cur =cur.next\n",
    "    \n",
    "class Solution:\n",
    "    def sortList(self,head):\n",
    "        if head== None or head.next==None: return head # termination.\n",
    "        # cut the LinkedList at the mid index.\n",
    "        slow, fast = head, head.next\n",
    "#          在 cut 到链表长度为 2 时，如果 fast, slow 都指向头部 head ，那么fast会走两步，slow走一步，cut点是不对的。 如果fast先走一步到 head.next ，就会避免长度为 2 时出现的特殊错误情况。\n",
    "        while fast.next:\n",
    "            fast, slow = fast.next.next, slow.next\n",
    "        mid, slow.next = slow.next, None # save and cut.\n",
    "        # recursive for cutting.\n",
    "        left, right = self.sortList(head), self.sortList(mid)\n",
    "        # merge `left` and `right` linked list and return it.\n",
    "        h = res = ListNode(0)\n",
    "        while left and right:\n",
    "            if left.val < right.val: h.next, left = left, left.next\n",
    "            else: h.next, right = right, right.next\n",
    "            h = h.next\n",
    "        h.next = left if left else right\n",
    "        return res.next"
   ]
  },
  {
   "cell_type": "code",
   "execution_count": 357,
   "metadata": {},
   "outputs": [],
   "source": [
    "sss=Solution()\n",
    "a=sss.sortList(N1)"
   ]
  },
  {
   "cell_type": "code",
   "execution_count": 358,
   "metadata": {},
   "outputs": [
    {
     "name": "stdout",
     "output_type": "stream",
     "text": [
      "1\n"
     ]
    }
   ],
   "source": [
    "while a:\n",
    "    print(a.val)\n",
    "    a =a.next\n",
    "#     print(a.val)"
   ]
  },
  {
   "cell_type": "code",
   "execution_count": 377,
   "metadata": {},
   "outputs": [],
   "source": [
    "word1='horse'\n",
    "word2='ros'"
   ]
  },
  {
   "cell_type": "code",
   "execution_count": 379,
   "metadata": {},
   "outputs": [
    {
     "data": {
      "text/plain": [
       "[[0, 1, 2, 3],\n",
       " [1, 1, 2, 3],\n",
       " [2, 2, 1, 2],\n",
       " [3, 2, 2, 2],\n",
       " [4, 3, 3, 2],\n",
       " [5, 4, 4, 3]]"
      ]
     },
     "execution_count": 379,
     "metadata": {},
     "output_type": "execute_result"
    }
   ],
   "source": [
    "m =len(word1)+1\n",
    "n =len(word2)+1\n",
    "dp =[[0]*n for i in range(m)]\n",
    "for i in range(m):\n",
    "    dp[i][0]=i\n",
    "for j in range(n):\n",
    "    dp[0][j]=j\n",
    "for i in range(1,m):\n",
    "    for j in range(1,n):\n",
    "        if word1[i-1]==word2[j-1]:\n",
    "            dp[i][j]=dp[i-1][j-1]\n",
    "        else:\n",
    "            dp[i][j]=min(dp[i][j-1],dp[i-1][j],dp[i-1][j-1])+1\n",
    "            \n",
    "dp"
   ]
  },
  {
   "cell_type": "code",
   "execution_count": 403,
   "metadata": {},
   "outputs": [],
   "source": [
    "class ListNode:\n",
    "    def __init__(self, x):\n",
    "        self.val = x\n",
    "        self.next = None\n",
    "l =[4,4,4,2,1,3,5,5,6,6,11,22]\n",
    "N1=ListNode(l[0])\n",
    "cur =N1\n",
    "for i in range(1,len(l)):\n",
    "#     在循环里面调用，直接把 遍历到的值 作为参数传到实例化里面\n",
    "    a =ListNode(l[i])\n",
    "\n",
    "    cur.next =a\n",
    "    cur =cur.next"
   ]
  },
  {
   "cell_type": "code",
   "execution_count": 390,
   "metadata": {
    "collapsed": true
   },
   "outputs": [
    {
     "name": "stdout",
     "output_type": "stream",
     "text": [
      "4\n",
      "4\n",
      "4\n",
      "2\n",
      "1\n",
      "3\n",
      "5\n",
      "5\n",
      "6\n",
      "6\n",
      "11\n",
      "22\n"
     ]
    }
   ],
   "source": [
    "while N1:\n",
    "    print(N1.val)\n",
    "    N1=N1.next"
   ]
  },
  {
   "cell_type": "code",
   "execution_count": 448,
   "metadata": {},
   "outputs": [],
   "source": [
    "class ListNode:\n",
    "    def __init__(self, x):\n",
    "        self.val = x\n",
    "        self.next = None\n",
    "l =[1,1]\n",
    "N1=ListNode(l[0])\n",
    "cur =N1\n",
    "for i in range(1,len(l)):\n",
    "#     在循环里面调用，直接把 遍历到的值 作为参数传到实例化里面\n",
    "    a =ListNode(l[i])\n",
    "\n",
    "    cur.next =a\n",
    "    cur =cur.next"
   ]
  },
  {
   "cell_type": "code",
   "execution_count": 449,
   "metadata": {},
   "outputs": [],
   "source": [
    "# 去掉链表中的重复的元素¿\n",
    "p=ListNode(-1)\n",
    "p.next =N1\n",
    "pre =p\n",
    "cur =N1\n",
    "\n",
    "while cur: \n",
    "           \n",
    "    while cur and cur.next and cur.val ==cur.next.val:\n",
    "        cur =cur.next\n",
    "        if cur.next==None:\n",
    "            pre.next=None\n",
    "        if cur.next and cur.val!=cur.next.val:\n",
    "            cur=cur.next\n",
    "            pre.next =cur\n",
    "        \n",
    "#     if cur and cur.next and cur.val !=cur.next.val:\n",
    "#         pre =cur\n",
    "#         cur=cur.next\n",
    "#     else:\n",
    "    pre =cur\n",
    "    cur=cur.next\n",
    "        "
   ]
  },
  {
   "cell_type": "code",
   "execution_count": 450,
   "metadata": {},
   "outputs": [
    {
     "name": "stdout",
     "output_type": "stream",
     "text": [
      "-1\n"
     ]
    }
   ],
   "source": [
    "while p:\n",
    "    print(p.val)\n",
    "    p=p.next"
   ]
  },
  {
   "cell_type": "code",
   "execution_count": 623,
   "metadata": {},
   "outputs": [],
   "source": [
    "class ListNode:\n",
    "    def __init__(self, x):\n",
    "        self.val = x\n",
    "        self.next = None\n",
    "l =[1,2,3,4,5]\n",
    "N1=ListNode(l[0])\n",
    "cur =N1\n",
    "for i in range(1,len(l)):\n",
    "#     在循环里面调用，直接把 遍历到的值 作为参数传到实例化里面\n",
    "    a =ListNode(l[i])\n",
    "\n",
    "    cur.next =a\n",
    "    cur =cur.next"
   ]
  },
  {
   "cell_type": "markdown",
   "metadata": {},
   "source": [
    "## 单链表全翻转"
   ]
  },
  {
   "cell_type": "code",
   "execution_count": 624,
   "metadata": {},
   "outputs": [
    {
     "name": "stdout",
     "output_type": "stream",
     "text": [
      "5\n",
      "4\n",
      "3\n",
      "2\n",
      "1\n"
     ]
    }
   ],
   "source": [
    "def reverselinked(head):        \n",
    "    if head ==None or head.next ==None:\n",
    "        return head\n",
    "    # 1.定义三个指针\n",
    "    pre=head\n",
    "    cur =head.next\n",
    "    post=None\n",
    "    head.next =None #避免回环\n",
    "    #  2.指向反转\n",
    "    #  3.指针后移       \n",
    "    while cur:\n",
    "        post =cur.next\n",
    "        cur.next =pre\n",
    "        pre,cur =cur,post\n",
    "    p =pre\n",
    "    return p\n",
    "\n",
    "# call the reverseLinked function\n",
    "p=reverselinked(N1)\n",
    "while p:\n",
    "    print(p.val)\n",
    "    p=p.next"
   ]
  },
  {
   "cell_type": "markdown",
   "metadata": {},
   "source": [
    "## k翻转"
   ]
  },
  {
   "cell_type": "code",
   "execution_count": 674,
   "metadata": {},
   "outputs": [],
   "source": [
    "class ListNode:\n",
    "    def __init__(self, x):\n",
    "        self.val = x\n",
    "        self.next = None\n",
    "l =[1,2,3,4,5,6,7,29]\n",
    "N1=ListNode(l[0])\n",
    "cur =N1\n",
    "for i in range(1,len(l)):\n",
    "#     在循环里面调用，直接把 遍历到的值 作为参数传到实例化里面\n",
    "    a =ListNode(l[i])\n",
    "\n",
    "    cur.next =a\n",
    "    cur =cur.next"
   ]
  },
  {
   "cell_type": "code",
   "execution_count": 701,
   "metadata": {},
   "outputs": [],
   "source": [
    "def reverseKGroup(head,k):\n",
    "    # 四个指针，pre,begin,end,Pnext\n",
    "    # pre,begin可以先确定,end,Pnext等跑完k之后确定\n",
    "#--------------还是三步走----------------\n",
    "    # 1.定义指针\n",
    "    # 2.指针转向\n",
    "    # 3.指针后移\n",
    "# 1.定义指针        \n",
    "    p =ListNode(-1)\n",
    "    pre=p\n",
    "    p.next =head\n",
    "    end =begin =head       \n",
    "    Pnext =None\n",
    "#     i =1\n",
    "    while begin:\n",
    "#       小循环里面的变量 每次都要更新\n",
    "        i =1\n",
    "        end=begin\n",
    "        while i<k and end:\n",
    "            end =end.next\n",
    "            i+=1\n",
    "        \n",
    "#         Pnext=end.next if end else None #为指针后移 保存一个接盘变量\n",
    "        if end:\n",
    "# 2. 指针转向 k个部分独立出来\n",
    "            Pnext=end.next\n",
    "            end.next =None #避免回环！！！\n",
    "            pre.next=reverseLinked(begin)\n",
    "            begin.next =Pnext if Pnext else None\n",
    "        else:\n",
    "            Pnext=None\n",
    "\n",
    "# 3.指针后移\n",
    "        pre=begin\n",
    "        begin=Pnext\n",
    " \n",
    "#         i =1\n",
    "    return p.next\n",
    "\n",
    "\n",
    "\n",
    "\n",
    "# ========================单链表翻转 ========================\n",
    "def reverseLinked(head):\n",
    "    if head ==None or head.next ==None:\n",
    "        return head\n",
    "# 1.定义三个指针！因为cur指向变了之后cur.next=pre，后移需要一个值，不然死回环 cur=cur.next=pre\n",
    "    pre=head\n",
    "    cur =head.next\n",
    "    post=None\n",
    "    head.next =None #避免回环\n",
    "#  2.指向反转\n",
    "#  3.指针后移       \n",
    "    while cur:\n",
    "        post =cur.next #一定要先 保存好cur.next,再指向！！！为后移作准备\n",
    "        cur.next =pre\n",
    "        pre,cur =cur,post\n",
    "    return pre"
   ]
  },
  {
   "cell_type": "code",
   "execution_count": 702,
   "metadata": {},
   "outputs": [
    {
     "name": "stdout",
     "output_type": "stream",
     "text": [
      "3\n",
      "2\n",
      "1\n",
      "4\n",
      "5\n"
     ]
    }
   ],
   "source": [
    "# call the reverseLinked function\n",
    "class ListNode:\n",
    "    def __init__(self, x):\n",
    "        self.val = x\n",
    "        self.next = None\n",
    "l =[1,2,3,4,5]\n",
    "N1=ListNode(l[0])\n",
    "cur =N1\n",
    "for i in range(1,len(l)):\n",
    "#     在循环里面调用，直接把 遍历到的值 作为参数传到实例化里面\n",
    "    a =ListNode(l[i])\n",
    "\n",
    "    cur.next =a\n",
    "    cur =cur.next\n",
    "    \n",
    "p=reverseKGroup(N1,3)\n",
    "while p:\n",
    "    print(p.val)\n",
    "    p=p.next"
   ]
  },
  {
   "cell_type": "code",
   "execution_count": null,
   "metadata": {},
   "outputs": [],
   "source": []
  },
  {
   "cell_type": "markdown",
   "metadata": {},
   "source": [
    "## 链表内部第m-n部分翻转"
   ]
  },
  {
   "cell_type": "code",
   "execution_count": 617,
   "metadata": {},
   "outputs": [],
   "source": [
    "# ==================================================\n",
    "class ListNode:\n",
    "    def __init__(self, x):\n",
    "        self.val = x\n",
    "        self.next = None\n",
    "l =[1,2,3,4,5]\n",
    "N1=ListNode(l[0])\n",
    "cur =N1\n",
    "for i in range(1,len(l)):\n",
    "#     在循环里面调用，直接把 遍历到的值 作为参数传到实例化里面\n",
    "    a =ListNode(l[i])\n",
    "    cur.next =a\n",
    "    cur =cur.next\n",
    "# ==================================================\n"
   ]
  },
  {
   "cell_type": "code",
   "execution_count": 618,
   "metadata": {},
   "outputs": [],
   "source": [
    "def reverseBetween(head,m,n):\n",
    "    # 插入法，遍历head之后的结点，插到head后面去\n",
    "#---四个指针： pre,cur,turning_point,post\n",
    "    p=ListNode(-1)\n",
    "    p.next=head\n",
    "    pre=p\n",
    "    cur=None\n",
    "    post=None\n",
    "    turning_point=None\n",
    "    if n==m:#corner case\n",
    "        return head\n",
    "\n",
    "    for i in range(m-1):\n",
    "        pre =pre.next\n",
    "    turning_point =pre.next\n",
    "    cur=turning_point.next\n",
    "    turning_point.next=None #指向None!!!非常重要，否则会回环！就这里回环！\n",
    "    # pre =m-1\n",
    "    # cur =m+1\n",
    "    # turning_point=m\n",
    "    # 把cur以及之后n-m个数插入到 pre与turning point之间\n",
    "    j =0\n",
    "    while j<n-m and cur:\n",
    "        # post指针\n",
    "        post=cur.next if cur.next else None\n",
    "    #     插入操作，pre固定不变，插到pre与pre.next之间,\n",
    "    #     所以pre.next需要指向反转部分后面的一个数\n",
    "        cur.next=pre.next\n",
    "        pre.next =cur\n",
    "        # 指针后移\n",
    "        cur =post\n",
    "        j+=1\n",
    "\n",
    "    turning_point.next =post\n",
    "    return p.next"
   ]
  },
  {
   "cell_type": "code",
   "execution_count": 619,
   "metadata": {},
   "outputs": [
    {
     "name": "stdout",
     "output_type": "stream",
     "text": [
      "1\n",
      "4\n",
      "3\n",
      "2\n",
      "5\n"
     ]
    }
   ],
   "source": [
    "p =reverseBetween(N1,2,4)\n",
    "i =0\n",
    "while p:\n",
    "    print(p.val)\n",
    "    p=p.next\n",
    "    i+=1"
   ]
  },
  {
   "cell_type": "code",
   "execution_count": null,
   "metadata": {},
   "outputs": [],
   "source": []
  },
  {
   "cell_type": "code",
   "execution_count": 725,
   "metadata": {},
   "outputs": [],
   "source": [
    "def merge2Link(l1,l2):\n",
    "    p1,p2 = l1,l2\n",
    "    p=ListNode(-1)\n",
    "    while p1 and p2:\n",
    "        if p1.val<p2.val:\n",
    "            p.next,p1=p1,p1.next\n",
    "        else:\n",
    "            p.next,p2=p2,p2.next\n",
    "        p =p.next\n",
    "    p =p1 or p2\n",
    "    return p.next"
   ]
  },
  {
   "cell_type": "code",
   "execution_count": 758,
   "metadata": {},
   "outputs": [],
   "source": [
    "# ==================================================\n",
    "class ListNode:\n",
    "    def __init__(self, x):\n",
    "        self.val = x\n",
    "        self.next = None\n",
    "l =[[1,12,23,44],[0,2,4,5,27,50,52,53],[3,5,9]]\n",
    "N1=ListNode(l[0][0])\n",
    "cur =N1\n",
    "for i in range(1,len(l[0])):\n",
    "#     在循环里面调用，直接把 遍历到的值 作为参数传到实例化里面\n",
    "    a =ListNode(l[0][i])\n",
    "    cur.next =a\n",
    "    cur =cur.next\n",
    "# \n",
    "N2=ListNode(l[1][0])\n",
    "cur =N2\n",
    "for i in range(1,len(l[1])):\n",
    "#     在循环里面调用，直接把 遍历到的值 作为参数传到实例化里面\n",
    "    a =ListNode(l[1][i])\n",
    "    cur.next =a\n",
    "    cur =cur.next\n",
    "# "
   ]
  },
  {
   "cell_type": "code",
   "execution_count": 759,
   "metadata": {},
   "outputs": [],
   "source": [
    "def merge2Link(l1,l2):\n",
    "    p1,p2 = l1,l2\n",
    "    \n",
    "    p=ListNode(-1)\n",
    "    head =p\n",
    "    while p1 and p2:\n",
    "        if p1.val<p2.val:\n",
    "            p.next,p1=p1,p1.next\n",
    "        else:\n",
    "            p.next,p2=p2,p2.next\n",
    "        p =p.next\n",
    "    p.next =p1 or p2\n",
    "    return head.next"
   ]
  },
  {
   "cell_type": "code",
   "execution_count": 760,
   "metadata": {},
   "outputs": [
    {
     "name": "stdout",
     "output_type": "stream",
     "text": [
      "0\n",
      "1\n",
      "2\n",
      "4\n",
      "5\n",
      "12\n",
      "23\n",
      "27\n",
      "44\n",
      "50\n",
      "52\n",
      "53\n"
     ]
    }
   ],
   "source": [
    "p =merge2Link(N1,N2)\n",
    "i =0\n",
    "while p:\n",
    "    print(p.val)\n",
    "    p=p.next\n",
    "    i+=1"
   ]
  },
  {
   "cell_type": "code",
   "execution_count": null,
   "metadata": {},
   "outputs": [],
   "source": []
  },
  {
   "cell_type": "code",
   "execution_count": null,
   "metadata": {},
   "outputs": [],
   "source": []
  }
 ],
 "metadata": {
  "kernelspec": {
   "display_name": "Python 3",
   "language": "python",
   "name": "python3"
  },
  "language_info": {
   "codemirror_mode": {
    "name": "ipython",
    "version": 3
   },
   "file_extension": ".py",
   "mimetype": "text/x-python",
   "name": "python",
   "nbconvert_exporter": "python",
   "pygments_lexer": "ipython3",
   "version": "3.7.4"
  }
 },
 "nbformat": 4,
 "nbformat_minor": 2
}
