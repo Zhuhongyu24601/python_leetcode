{
 "cells": [
  {
   "cell_type": "markdown",
   "metadata": {},
   "source": [
    "# Coding test 输入输出调试"
   ]
  },
  {
   "cell_type": "code",
   "execution_count": null,
   "metadata": {},
   "outputs": [],
   "source": []
  },
  {
   "cell_type": "code",
   "execution_count": 35,
   "metadata": {},
   "outputs": [],
   "source": [
    "input_ ='123 456 468'"
   ]
  },
  {
   "cell_type": "code",
   "execution_count": 36,
   "metadata": {},
   "outputs": [],
   "source": [
    "l =[1,2,3,4,5,6,7,8]"
   ]
  },
  {
   "cell_type": "markdown",
   "metadata": {},
   "source": [
    "## map(数据类型，列表)  改变列表中元素的数据类型"
   ]
  },
  {
   "cell_type": "code",
   "execution_count": 37,
   "metadata": {},
   "outputs": [
    {
     "data": {
      "text/plain": [
       "['123', '456', '468']"
      ]
     },
     "execution_count": 37,
     "metadata": {},
     "output_type": "execute_result"
    }
   ],
   "source": [
    "input_.split( )"
   ]
  },
  {
   "cell_type": "code",
   "execution_count": 41,
   "metadata": {},
   "outputs": [
    {
     "data": {
      "text/plain": [
       "[123.0, 456.0, 468.0]"
      ]
     },
     "execution_count": 41,
     "metadata": {},
     "output_type": "execute_result"
    }
   ],
   "source": [
    "a =list(map(float,input_.split()))\n",
    "a"
   ]
  },
  {
   "cell_type": "code",
   "execution_count": 42,
   "metadata": {},
   "outputs": [
    {
     "data": {
      "text/plain": [
       "[123, 456, 468]"
      ]
     },
     "execution_count": 42,
     "metadata": {},
     "output_type": "execute_result"
    }
   ],
   "source": [
    "b =list(map(int,input_.split()))\n",
    "b"
   ]
  },
  {
   "cell_type": "code",
   "execution_count": 44,
   "metadata": {},
   "outputs": [
    {
     "name": "stdout",
     "output_type": "stream",
     "text": [
      "123\n",
      "456\n",
      "468\n"
     ]
    }
   ],
   "source": [
    "for i in b:\n",
    "    print(i)"
   ]
  },
  {
   "cell_type": "code",
   "execution_count": 45,
   "metadata": {},
   "outputs": [
    {
     "ename": "TypeError",
     "evalue": "'int' object is not subscriptable",
     "output_type": "error",
     "traceback": [
      "\u001b[0;31m---------------------------------------------------------------------------\u001b[0m",
      "\u001b[0;31mTypeError\u001b[0m                                 Traceback (most recent call last)",
      "\u001b[0;32m<ipython-input-45-3aa51af8ff05>\u001b[0m in \u001b[0;36m<module>\u001b[0;34m\u001b[0m\n\u001b[0;32m----> 1\u001b[0;31m \u001b[0mi\u001b[0m\u001b[0;34m[\u001b[0m\u001b[0;36m0\u001b[0m\u001b[0;34m]\u001b[0m\u001b[0;34m\u001b[0m\u001b[0;34m\u001b[0m\u001b[0m\n\u001b[0m",
      "\u001b[0;31mTypeError\u001b[0m: 'int' object is not subscriptable"
     ]
    }
   ],
   "source": [
    "i[0]"
   ]
  },
  {
   "cell_type": "code",
   "execution_count": 59,
   "metadata": {},
   "outputs": [
    {
     "name": "stdout",
     "output_type": "stream",
     "text": [
      "q\n",
      "w\n",
      "e\n",
      "o\n"
     ]
    }
   ],
   "source": [
    "s ='qqweeeeoeee'\n",
    "d ={}\n",
    "for i in s:\n",
    "    d[i]=d.get(i,0)+1\n",
    "    if d[i]==1:\n",
    "        print(i)"
   ]
  },
  {
   "cell_type": "code",
   "execution_count": 57,
   "metadata": {},
   "outputs": [
    {
     "data": {
      "text/plain": [
       "{'q': 2, 'w': 1, 'e': 7, 'o': 1}"
      ]
     },
     "execution_count": 57,
     "metadata": {},
     "output_type": "execute_result"
    }
   ],
   "source": [
    "d"
   ]
  },
  {
   "cell_type": "code",
   "execution_count": null,
   "metadata": {},
   "outputs": [],
   "source": []
  },
  {
   "cell_type": "code",
   "execution_count": null,
   "metadata": {},
   "outputs": [],
   "source": [
    "l1 =[1,2,3,4,4,4] #2\n",
    "l2 =[1,2,3]#3\n",
    "l3 =[1,1,1,4,4,4]#2\n",
    "l4 =[1,2,3,4,4]#2"
   ]
  },
  {
   "cell_type": "code",
   "execution_count": null,
   "metadata": {},
   "outputs": [],
   "source": [
    "d ={}\n",
    "c =0\n",
    "for i in l1:\n",
    "    "
   ]
  },
  {
   "cell_type": "code",
   "execution_count": 93,
   "metadata": {},
   "outputs": [],
   "source": [
    "l1 =[1,2,3,4]\n",
    "l2 =[1,2,3,4,5,6,7,8,9,10,11,12]\n",
    "l2 =[1,2,3,4,5,6,7,8,9,10,11,12,13,14,15,16]\n",
    "N=16\n",
    "l =[i for i in range(1,N+1)]"
   ]
  },
  {
   "cell_type": "code",
   "execution_count": 94,
   "metadata": {},
   "outputs": [],
   "source": [
    " def Binary_(l): \n",
    "    n=len(l)\n",
    "    dp =[1]*(n+1)\n",
    "    if n==1:\n",
    "        return dp\n",
    "    for i in range(2,n+1):\n",
    "        \n",
    "        dp[i]=dp[i//2]+1\n",
    "        print(i,dp[i])\n",
    "    print(dp[1:])"
   ]
  },
  {
   "cell_type": "code",
   "execution_count": 97,
   "metadata": {},
   "outputs": [
    {
     "name": "stdout",
     "output_type": "stream",
     "text": [
      "2 2\n",
      "3 2\n",
      "4 3\n",
      "5 3\n",
      "6 3\n",
      "7 3\n",
      "8 4\n",
      "9 4\n",
      "10 4\n",
      "11 4\n",
      "12 4\n",
      "13 4\n",
      "14 4\n",
      "15 4\n",
      "16 5\n",
      "[1, 2, 2, 3, 3, 3, 3, 4, 4, 4, 4, 4, 4, 4, 4, 5]\n"
     ]
    }
   ],
   "source": [
    "l =[i for i in range(N)]\n",
    "Binary_(l)"
   ]
  },
  {
   "cell_type": "code",
   "execution_count": 98,
   "metadata": {},
   "outputs": [
    {
     "name": "stdout",
     "output_type": "stream",
     "text": [
      "2 2\n",
      "3 2\n",
      "4 3\n",
      "5 3\n",
      "6 3\n",
      "7 3\n",
      "8 4\n",
      "9 4\n",
      "10 4\n",
      "11 4\n",
      "12 4\n",
      "13 4\n",
      "14 4\n",
      "15 4\n",
      "16 5\n",
      "[1, 2, 2, 3, 3, 3, 3, 4, 4, 4, 4, 4, 4, 4, 4, 5]\n"
     ]
    }
   ],
   "source": [
    "l =[i for i in range(1,N+1)]\n",
    "Binary_(l)"
   ]
  },
  {
   "cell_type": "code",
   "execution_count": 102,
   "metadata": {},
   "outputs": [
    {
     "name": "stdout",
     "output_type": "stream",
     "text": [
      "5\n"
     ]
    }
   ],
   "source": [
    "N =int(16)\n",
    "l =[i for i in range(N)]        \n",
    "\n",
    "n=len(l)\n",
    "dp =[1]*(n+1)\n",
    "if n==1:\n",
    "    print(dp[0])\n",
    "for i in range(2,n+1):\n",
    "\n",
    "    dp[i]=dp[i//2]+1\n",
    "    \n",
    "print(dp[-1])"
   ]
  },
  {
   "cell_type": "code",
   "execution_count": null,
   "metadata": {},
   "outputs": [],
   "source": [
    "for i in range(n):\n",
    "        # 读取每一行\n",
    "        line = sys.stdin.readline().strip()\n",
    "        # 把每一行的数字分隔后转化成int列表\n",
    "        N =int(line)\n",
    "        l =[i for i in range(N)]        \n",
    "\n",
    "        n=len(l)\n",
    "        res=[]\n",
    "        dp =[1]*(n+1)\n",
    "        if n==1:\n",
    "            print(dp[0])\n",
    "        for i in range(2,n+1):\n",
    "            dp[i]=dp[i//2]+1\n",
    "\n",
    "        res.append(dp[-1])\n",
    "    \n",
    "print(res)"
   ]
  },
  {
   "cell_type": "code",
   "execution_count": 103,
   "metadata": {},
   "outputs": [],
   "source": [
    "max_l=[1,2,5]"
   ]
  },
  {
   "cell_type": "code",
   "execution_count": 108,
   "metadata": {},
   "outputs": [
    {
     "name": "stdout",
     "output_type": "stream",
     "text": [
      "1\n",
      "2\n",
      "3\n"
     ]
    }
   ],
   "source": [
    "for line in [1,2,5]:\n",
    "    N =int(line)\n",
    "    max_l=[]\n",
    "    max_l.append(N)\n",
    "    n=max(max_l)\n",
    "    l =[i for i in range(n)]        \n",
    "    n=len(l)\n",
    "    res=[]\n",
    "    dp =[1]*(n+1)\n",
    "#     if n==1:\n",
    "#         print(dp[0])\n",
    "\n",
    "    for i in range(2,n+1):\n",
    "        dp[i]=dp[i//2]+1     \n",
    "\n",
    "\n",
    "\n",
    "    print(dp[int(line)])"
   ]
  },
  {
   "cell_type": "code",
   "execution_count": 110,
   "metadata": {},
   "outputs": [],
   "source": [
    "grid =[\n",
    "    [1,4,3,1,3,2],[3,2,1,3,2,4],[2,3,3,2,3,1]\n",
    "]"
   ]
  },
  {
   "cell_type": "code",
   "execution_count": 111,
   "metadata": {},
   "outputs": [],
   "source": [
    "import heapq\n",
    "def rain(grid):\n",
    "    min_q =[]\n",
    "    r =len(grid)\n",
    "    c =len(grid[0])\n",
    "    if not grid or(r<3 or c<3):return 0\n",
    "    search=[[False]*c for i in range(r)]\n",
    "    for i in range(r):\n",
    "        heapq.heappush(min_q,(grid[i][0],(i,0)))\n",
    "        search[i][0]=True\n",
    "        heapq.heappush(min_q,(grid[i][c-1],(i,c-1)))\n",
    "        search[i][c-1]=True\n",
    "    for j in range(c-1):\n",
    "        heapq.heappush(min_q,(grid[0][j],(i,0)))\n",
    "        search[0][j]=True\n",
    "        heapq.heappush(min_q,(grid[r-1][j],(r-1,j)))\n",
    "        search[r-1][j]=True\n",
    "    dp =[[0,1],[0,-1],[1,0],[-1,0]]\n",
    "    res =0\n",
    "    while min_q:\n",
    "        h,(x,y)=heapq.heappop(min_q)\n",
    "        for i in range(4):\n",
    "            x_n=x+dp[i][0]\n",
    "            y_n=y+dp[i][1]\n",
    "            if 0<=x_n<r and 0<=y_n<c and search[x_n][y_n]==False:\n",
    "                newh=grid[x_n][y_n]\n",
    "                if newh<h:\n",
    "                    res+=h-newh\n",
    "                    grid[x_n][y_n]=h\n",
    "                heapq.heappush(min_q,(grid[x_n][y_n],(x_n,y_n)))\n",
    "                search[x_n][y_n]=True\n",
    "    return res\n",
    "        \n",
    "        "
   ]
  },
  {
   "cell_type": "code",
   "execution_count": 112,
   "metadata": {},
   "outputs": [
    {
     "data": {
      "text/plain": [
       "4"
      ]
     },
     "execution_count": 112,
     "metadata": {},
     "output_type": "execute_result"
    }
   ],
   "source": [
    "rain(grid)"
   ]
  },
  {
   "cell_type": "code",
   "execution_count": null,
   "metadata": {},
   "outputs": [],
   "source": []
  }
 ],
 "metadata": {
  "kernelspec": {
   "display_name": "Python 3",
   "language": "python",
   "name": "python3"
  },
  "language_info": {
   "codemirror_mode": {
    "name": "ipython",
    "version": 3
   },
   "file_extension": ".py",
   "mimetype": "text/x-python",
   "name": "python",
   "nbconvert_exporter": "python",
   "pygments_lexer": "ipython3",
   "version": "3.7.4"
  }
 },
 "nbformat": 4,
 "nbformat_minor": 2
}
