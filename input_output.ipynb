{
 "cells": [
  {
   "cell_type": "markdown",
   "metadata": {},
   "source": [
    "## 输入输出"
   ]
  },
  {
   "cell_type": "markdown",
   "metadata": {},
   "source": [
    "##### 单个数字\n",
    "果园里有堆苹果，N（1＜N＜9）只熊来分。第一只熊把这堆苹果平均分为N份，多了一个，它把多的一个扔了，拿走了一份。第二只熊把剩下的苹果又平均分成N份，又多了一个，它同样把多的一个扔了，拿走了一份，第三、第四直到第N只熊都是这么做的，问果园里原来最少有多少个苹果？\n",
    "\n",
    "\n",
    "\n"
   ]
  },
  {
   "cell_type": "code",
   "execution_count": null,
   "metadata": {},
   "outputs": [],
   "source": [
    "def getNum(s):\n",
    "    return s * n / (n - 1) + 1\n",
    "\n",
    "n = int(input())\n",
    "T = 0\n",
    "x = n-1\n",
    "c = 1\n",
    "\n",
    "while T < n:\n",
    "    a = getNum(x)\n",
    "    if int(a) == a:\n",
    "        T += 1\n",
    "        x = int(a)\n",
    "    else:\n",
    "        T = 0\n",
    "        c += 1\n",
    "        x = (n-1)*c\n",
    "print(int(a))"
   ]
  },
  {
   "cell_type": "markdown",
   "metadata": {},
   "source": [
    "样例输入\n",
    "500 3\n",
    " 100 200\n",
    " 150 300\n",
    " 360 361"
   ]
  },
  {
   "cell_type": "code",
   "execution_count": null,
   "metadata": {},
   "outputs": [],
   "source": [
    "while 1:\n",
    "    m,n = map(int, input().split())\n",
    "    r = 0\n",
    "    for i in range(n):\n",
    "        a,b = map(int, input().split())\n",
    "        if r > a: m += r-b\n",
    "        else: m += a-b-1\n",
    "        r = b\n",
    "    print(m+1)"
   ]
  },
  {
   "cell_type": "markdown",
   "metadata": {},
   "source": [
    "###### 单个n， n排 两个数字（两个数字之间空格隔开）"
   ]
  },
  {
   "cell_type": "code",
   "execution_count": 248,
   "metadata": {},
   "outputs": [
    {
     "name": "stdout",
     "output_type": "stream",
     "text": [
      "3\n",
      "1 2\n",
      "2 3\n",
      "[1, 2] [2, 3] [1] {1: 2, 2: 3}\n"
     ]
    }
   ],
   "source": [
    "a =int(input())\n",
    "d ={}\n",
    "\n",
    "l1 =[]\n",
    "l2 =[]\n",
    "for i in range(a-1):\n",
    "    n1,n2=map(int, input().split(' '))\n",
    "    l1.append(n1)\n",
    "    l2.append(n2)\n",
    "    last_node_list =[i for i in (set(l1)-set(l2))]\n",
    "    d[n1]=n2\n",
    "print(l1,l2,last_node_list,d)"
   ]
  },
  {
   "cell_type": "code",
   "execution_count": null,
   "metadata": {},
   "outputs": [],
   "source": [
    "n1,n2=map(int, input().split(' '))\n",
    "s =input()\n",
    "l =[map(input().split(' '))]"
   ]
  },
  {
   "cell_type": "code",
   "execution_count": null,
   "metadata": {},
   "outputs": [],
   "source": []
  },
  {
   "cell_type": "markdown",
   "metadata": {},
   "source": [
    "###### 一个公交车经过n个站点，乘客从前门上车，从后门下车。\n",
    "\n",
    "现在统计了在第i个站，下车人数a[i]，以及上车人数b[i]。\n",
    "\n",
    "问公交车运行时候车上最多有多少乘客"
   ]
  },
  {
   "cell_type": "code",
   "execution_count": 249,
   "metadata": {},
   "outputs": [
    {
     "name": "stdout",
     "output_type": "stream",
     "text": [
      "4\n",
      "0 3\n",
      "2 5\n",
      "4 2\n",
      "4 0\n",
      "6\n"
     ]
    }
   ],
   "source": [
    "\n",
    "n = int(input())\n",
    "s,o = 0,0\n",
    "for i in range(n):\n",
    "    a,b = map(int, input().split())\n",
    "    s += b-a\n",
    "    if s > o:\n",
    "         o = s\n",
    "print(o)"
   ]
  },
  {
   "cell_type": "markdown",
   "metadata": {},
   "source": [
    "###### 一串字符串（单词之间空格隔开）"
   ]
  },
  {
   "cell_type": "code",
   "execution_count": 236,
   "metadata": {},
   "outputs": [
    {
     "name": "stdout",
     "output_type": "stream",
     "text": [
      "'hello world'\n",
      "world' 'hello\n",
      "g e ooo\n",
      "ooo e g\n",
      "w 1 2 3\n",
      "3 2 1 w\n"
     ]
    }
   ],
   "source": [
    "i =0\n",
    "while i<3:\n",
    "    s = input()\n",
    "    s = s.split(\" \")\n",
    "    s = s[::-1]\n",
    "    print(\" \".join(s))\n",
    "    i+=1"
   ]
  },
  {
   "cell_type": "markdown",
   "metadata": {},
   "source": [
    "###### 一串数字（数字之间逗号隔开）"
   ]
  },
  {
   "cell_type": "code",
   "execution_count": 244,
   "metadata": {},
   "outputs": [
    {
     "name": "stdout",
     "output_type": "stream",
     "text": [
      "1,1,1,12,2,2,23,4,4\n",
      "12\n"
     ]
    },
    {
     "data": {
      "text/plain": [
       "12"
      ]
     },
     "execution_count": 244,
     "metadata": {},
     "output_type": "execute_result"
    }
   ],
   "source": [
    "a = list(map(int,input().strip().split(',')))\n",
    "def find_only_one(a):\n",
    "    t = {}\n",
    "    for i in a:\n",
    "        v = a.count(i)\n",
    "        if v == 1:\n",
    "            print(i)\n",
    "            return i\n",
    "\n",
    "find_only_one(a)"
   ]
  },
  {
   "cell_type": "markdown",
   "metadata": {},
   "source": [
    "#### 样例输入\n",
    "5\n",
    "\n",
    "1 2 2\n",
    "\n",
    "1 3 1\n",
    "\n",
    "2 4 5\n",
    "\n",
    "2 5 4"
   ]
  },
  {
   "cell_type": "code",
   "execution_count": null,
   "metadata": {},
   "outputs": [],
   "source": [
    "n = int(input()) - 1\n",
    "f = float(\"inf\")\n",
    "m = [[f]*i+[0]+[f]*(n-i) for i in range(n+1)]\n",
    "for i in range(n):\n",
    "    p,q,d = map(int, input().split())\n",
    "    m[p-1][q-1],m[q-1][p-1]=d,d\n",
    "for i in range(n+1):\n",
    "    for j in range(n+1):\n",
    "        for k in range(n+1):\n",
    "            a,b,c = m[i][j],m[i][k],m[j][k]\n",
    "            if a > b+c:\n",
    "                m[i][j] = b+c\n",
    "n = max([j for i in m for j in i if j != f])\n",
    "print(int((1+n)*n/2+10*n))"
   ]
  },
  {
   "cell_type": "code",
   "execution_count": null,
   "metadata": {},
   "outputs": [],
   "source": []
  },
  {
   "cell_type": "code",
   "execution_count": null,
   "metadata": {},
   "outputs": [],
   "source": []
  },
  {
   "cell_type": "code",
   "execution_count": null,
   "metadata": {},
   "outputs": [],
   "source": [
    "a=input()\n",
    "s=[]\n",
    "for i in range(int(a)):\n",
    "    b=input()\n",
    "    s.append(b)\n",
    "for element in s:\n",
    "    n0 = element.count('G')\n",
    "    n2 = element.count('Z')\n",
    "    n4 = element.count('W')\n",
    "    n6 = element.count('U')\n",
    "    n8 = element.count('X')\n",
    "\n",
    "    n3 = element.count('O') - n2 - n4 - n6\n",
    "    n5 = element.count('T') - n0 - n4\n",
    "    n7 = element.count('F') - n6\n",
    "    n9 = element.count('S') - n8\n",
    "\n",
    "    n1 = element.count('I') - n0 - n7 - n8\n",
    "    print('0' * n0 + '1' * n1 + '2' * n2 + '3' * n3 + '4' * n4 + '5' * n5 + '6' * n6 +'7' * n7 + '8' * n8 + '9' * n9)"
   ]
  },
  {
   "cell_type": "code",
   "execution_count": null,
   "metadata": {},
   "outputs": [],
   "source": []
  },
  {
   "cell_type": "code",
   "execution_count": null,
   "metadata": {},
   "outputs": [],
   "source": [
    "n,n2=map(int, input().split(' '))\n",
    "s =input()\n",
    "l =input().split(' ')\n",
    "dp=[0]*n\n",
    "if s[0] in l:\n",
    "    dp[0]=1 \n",
    "\n",
    "    \n",
    "for i in range(1,n):\n",
    "    if s[i] in l:\n",
    "        if s[i-1] in l:\n",
    "            dp[i]=dp[i-1]+2\n",
    "        else:\n",
    "            dp[i]=dp[i-1]+1\n",
    "    else:\n",
    "        dp[i]=dp[i-1]\n",
    "        \n",
    "print(dp)\n",
    "print(n,n2,s,l)  "
   ]
  },
  {
   "cell_type": "code",
   "execution_count": null,
   "metadata": {},
   "outputs": [],
   "source": []
  },
  {
   "cell_type": "code",
   "execution_count": null,
   "metadata": {},
   "outputs": [],
   "source": []
  },
  {
   "cell_type": "code",
   "execution_count": null,
   "metadata": {},
   "outputs": [],
   "source": []
  },
  {
   "cell_type": "code",
   "execution_count": null,
   "metadata": {},
   "outputs": [],
   "source": []
  },
  {
   "cell_type": "code",
   "execution_count": null,
   "metadata": {},
   "outputs": [],
   "source": []
  },
  {
   "cell_type": "code",
   "execution_count": null,
   "metadata": {},
   "outputs": [],
   "source": []
  },
  {
   "cell_type": "code",
   "execution_count": null,
   "metadata": {},
   "outputs": [],
   "source": []
  },
  {
   "cell_type": "code",
   "execution_count": null,
   "metadata": {},
   "outputs": [],
   "source": []
  },
  {
   "cell_type": "code",
   "execution_count": null,
   "metadata": {},
   "outputs": [],
   "source": []
  },
  {
   "cell_type": "code",
   "execution_count": null,
   "metadata": {},
   "outputs": [],
   "source": []
  },
  {
   "cell_type": "code",
   "execution_count": null,
   "metadata": {},
   "outputs": [],
   "source": []
  },
  {
   "cell_type": "code",
   "execution_count": null,
   "metadata": {},
   "outputs": [],
   "source": []
  },
  {
   "cell_type": "code",
   "execution_count": null,
   "metadata": {},
   "outputs": [],
   "source": []
  },
  {
   "cell_type": "markdown",
   "metadata": {},
   "source": [
    "# 一、字符串相关"
   ]
  },
  {
   "cell_type": "markdown",
   "metadata": {},
   "source": [
    "##### 5.最长回文子串"
   ]
  },
  {
   "cell_type": "code",
   "execution_count": 100,
   "metadata": {},
   "outputs": [],
   "source": [
    "def palindromic(s):\n",
    "    n=len(s)\n",
    "    dp =[[0]*n for i in range(n)]\n",
    "    if n==0 or n==1:\n",
    "        return s\n",
    "    \n",
    "    maxlen=0\n",
    "    for i in range(n):\n",
    "        dp[i][i]=1\n",
    "        \n",
    "    for i in range(n-2,-1,-1):\n",
    "        for j in range(i+1,n):\n",
    "            if s[i]==s[j] and dp[i+1][j-1]==j-i-1:\n",
    "                dp[i][j]=dp[i+1][j-1]+2\n",
    "                \n",
    "            else:\n",
    "                dp[i][j]=max(dp[i+1][j],dp[i][j-1])\n",
    "            \n",
    "            if dp[i][j] >maxlen:\n",
    "                maxlen=dp[i][j]\n",
    "                start =i\n",
    "                end =j\n",
    "                \n",
    "\n",
    "    return s[start:end+1],dp"
   ]
  },
  {
   "cell_type": "code",
   "execution_count": 101,
   "metadata": {},
   "outputs": [
    {
     "data": {
      "text/plain": [
       "'a'"
      ]
     },
     "execution_count": 101,
     "metadata": {},
     "output_type": "execute_result"
    }
   ],
   "source": [
    "# palindromic('abajbccbj')\n",
    "    \n",
    "palindromic('aa')\n",
    "\n",
    "palindromic('a')\n",
    "    \n",
    "# palindromic('')"
   ]
  },
  {
   "cell_type": "markdown",
   "metadata": {},
   "source": [
    "##### 72.编辑距离【是两个str相同】"
   ]
  },
  {
   "cell_type": "code",
   "execution_count": 122,
   "metadata": {},
   "outputs": [],
   "source": [
    "def distance_edit(s1,s2):\n",
    "    m =len(s1)+1\n",
    "    n =len(s2)+1\n",
    "    dp=[[0]*n for i in range(m)]\n",
    "    for i in range(m):\n",
    "        dp[i][0]=i\n",
    "    for j in range(n):\n",
    "        dp[0][j]=j\n",
    "    \n",
    "    for i in range(1,m):\n",
    "        for j in range(1,n):\n",
    "            if s1[i-1]==s2[j-1]:\n",
    "                dp[i][j]=dp[i-1][j-1]\n",
    "            else:\n",
    "                dp[i][j]=min(dp[i-1][j],dp[i][j-1],dp[i-1][j-1])+1\n",
    "                \n",
    "    return dp,dp[-1][-1]\n",
    "                "
   ]
  },
  {
   "cell_type": "code",
   "execution_count": 124,
   "metadata": {},
   "outputs": [
    {
     "data": {
      "text/plain": [
       "([[0, 1, 2, 3, 4, 5],\n",
       "  [1, 1, 2, 2, 3, 4],\n",
       "  [2, 2, 1, 2, 3, 4],\n",
       "  [3, 3, 2, 2, 2, 3],\n",
       "  [4, 4, 3, 3, 3, 2]],\n",
       " 2)"
      ]
     },
     "execution_count": 124,
     "metadata": {},
     "output_type": "execute_result"
    }
   ],
   "source": [
    "a='rose'\n",
    "b='horse'\n",
    "c ='w'\n",
    "d ='q'\n",
    "distance_edit(a,b)\n",
    "# distance_edit(c,d)"
   ]
  },
  {
   "cell_type": "markdown",
   "metadata": {},
   "source": [
    "##### 516.最长回文子序列"
   ]
  },
  {
   "cell_type": "code",
   "execution_count": 130,
   "metadata": {},
   "outputs": [],
   "source": [
    "def Longest_palindrome(s):\n",
    "    n =len(s)\n",
    "    if n==0 or n==1:\n",
    "        return n\n",
    "    dp=[[0]*n for i in range(n)]\n",
    "    \n",
    "    for i in range(n):\n",
    "        dp[i][i]=1\n",
    "    for i in range(n-2,-1,-1):\n",
    "        for j in range(i+1,n):\n",
    "            if s[i]==s[j]:\n",
    "                dp[i][j]=dp[i+1][j-1]+2\n",
    "            else:\n",
    "                dp[i][j]=max(dp[i+1][j],dp[i][j-1])\n",
    "    return dp[0][-1]\n"
   ]
  },
  {
   "cell_type": "code",
   "execution_count": 132,
   "metadata": {},
   "outputs": [
    {
     "data": {
      "text/plain": [
       "4"
      ]
     },
     "execution_count": 132,
     "metadata": {},
     "output_type": "execute_result"
    }
   ],
   "source": [
    "Longest_palindrome('bbbqwejab')"
   ]
  },
  {
   "cell_type": "markdown",
   "metadata": {},
   "source": [
    "##### 673.最长递增子序列的个数\n",
    "\n",
    "[1,3,5,4,7]-->2\n",
    "\n",
    "[2,2,2,2,2]-->5"
   ]
  },
  {
   "cell_type": "code",
   "execution_count": 148,
   "metadata": {},
   "outputs": [],
   "source": [
    "def num_LIS(nums):    \n",
    "    n =len(nums)\n",
    "    dp=[1]*n\n",
    "    team=[1]*n\n",
    "    res =0\n",
    "    for j in range(n):\n",
    "        for i in range(j):\n",
    "            \n",
    "            if nums[i]<nums[j]:\n",
    "                \n",
    "                if dp[i]>=dp[j]:\n",
    "                    dp[j]=dp[i]+1\n",
    "                    team[j]=team[i]\n",
    "                    \n",
    "                elif dp[i]==dp[j]-1:\n",
    "                    team[j]+=team[i]\n",
    "                    \n",
    "    for d,t in zip(dp,team): \n",
    "        if d==max(dp):\n",
    "            res+=t\n",
    "            \n",
    "    return dp,team,res\n",
    "                    "
   ]
  },
  {
   "cell_type": "code",
   "execution_count": 150,
   "metadata": {},
   "outputs": [
    {
     "data": {
      "text/plain": [
       "([1, 1, 2, 3, 4, 4, 5, 5, 5], [1, 1, 1, 1, 1, 1, 2, 2, 1], 5)"
      ]
     },
     "execution_count": 150,
     "metadata": {},
     "output_type": "execute_result"
    }
   ],
   "source": [
    "l =[1,0,1,2,5,4,8,7,5]\n",
    "num_LIS(l)"
   ]
  },
  {
   "cell_type": "code",
   "execution_count": null,
   "metadata": {},
   "outputs": [],
   "source": []
  },
  {
   "cell_type": "markdown",
   "metadata": {},
   "source": [
    "##### "
   ]
  },
  {
   "cell_type": "markdown",
   "metadata": {},
   "source": [
    "##### "
   ]
  },
  {
   "cell_type": "markdown",
   "metadata": {},
   "source": [
    "# 二、数组相关"
   ]
  },
  {
   "cell_type": "markdown",
   "metadata": {},
   "source": [
    "##### 53.最大子序和"
   ]
  },
  {
   "cell_type": "code",
   "execution_count": 153,
   "metadata": {},
   "outputs": [],
   "source": [
    "def MAXsum(nums):\n",
    "    n =len(nums)\n",
    "    dp =[0]*n\n",
    "    for i in range(n):\n",
    "        dp[i]=max(dp[i-1]+nums[i],nums[i])\n",
    "    return max(dp)"
   ]
  },
  {
   "cell_type": "code",
   "execution_count": 158,
   "metadata": {},
   "outputs": [
    {
     "data": {
      "text/plain": [
       "11"
      ]
     },
     "execution_count": 158,
     "metadata": {},
     "output_type": "execute_result"
    }
   ],
   "source": [
    "MAXsum([1,-1,2,3,4,-5,6,-9,10])"
   ]
  },
  {
   "cell_type": "markdown",
   "metadata": {},
   "source": [
    "##### 300.最长上升子序列"
   ]
  },
  {
   "cell_type": "code",
   "execution_count": 162,
   "metadata": {},
   "outputs": [],
   "source": [
    "def LIS(nums):\n",
    "    n =len(nums)\n",
    "    dp=[0]*n\n",
    "    for i in range(n):\n",
    "        for j in range(i):\n",
    "            if nums[j]<nums[i] and dp[j]>=dp[i]:\n",
    "                dp[i]=dp[j]+1\n",
    "    return dp,max(dp)"
   ]
  },
  {
   "cell_type": "code",
   "execution_count": 163,
   "metadata": {},
   "outputs": [
    {
     "data": {
      "text/plain": [
       "([0, 0, 1, 2, 3, 0, 4, 1, 4], 4)"
      ]
     },
     "execution_count": 163,
     "metadata": {},
     "output_type": "execute_result"
    }
   ],
   "source": [
    "LIS([1,-1,2,3,4,-5,6,0,5])"
   ]
  },
  {
   "cell_type": "markdown",
   "metadata": {},
   "source": [
    "##### 322.零钱兑换"
   ]
  },
  {
   "cell_type": "code",
   "execution_count": 229,
   "metadata": {},
   "outputs": [],
   "source": [
    "def coin_change(target,coins):\n",
    "    if target==0:\n",
    "        return 0\n",
    "    dp=[-1]*(target+1)\n",
    "    dp[0]=0\n",
    "    for i in range(target+1):\n",
    "        tmp=target+1\n",
    "        for c in coins:\n",
    "            if i>c and dp[i-c]!=-1:\n",
    "                tmp=min(tmp,dp[i-c])\n",
    "            dp[i]=min(dp[i],tmp+1)\n",
    "            \n",
    "            \n",
    "                \n",
    "        \n",
    "    return dp,dp[target]   "
   ]
  },
  {
   "cell_type": "code",
   "execution_count": 231,
   "metadata": {},
   "outputs": [
    {
     "data": {
      "text/plain": [
       "([0, -1, -1, -1, -1, -1, -1, -1, -1, -1, -1, -1], -1)"
      ]
     },
     "execution_count": 231,
     "metadata": {},
     "output_type": "execute_result"
    }
   ],
   "source": [
    "target =11\n",
    "coins =[1,2,5,8]\n",
    "coin_change(target,coins)"
   ]
  },
  {
   "cell_type": "code",
   "execution_count": 188,
   "metadata": {},
   "outputs": [
    {
     "data": {
      "text/plain": [
       "[10, 9, 6, 3]"
      ]
     },
     "execution_count": 188,
     "metadata": {},
     "output_type": "execute_result"
    }
   ],
   "source": [
    "[11-coins[j] for j in range(len(coins)) if 11>coins[j]]"
   ]
  },
  {
   "cell_type": "markdown",
   "metadata": {},
   "source": [
    "##### 718.最长重复子数组"
   ]
  },
  {
   "cell_type": "code",
   "execution_count": null,
   "metadata": {},
   "outputs": [],
   "source": []
  },
  {
   "cell_type": "code",
   "execution_count": null,
   "metadata": {},
   "outputs": [],
   "source": []
  },
  {
   "cell_type": "markdown",
   "metadata": {},
   "source": [
    "# 三、高楼扔鸡蛋"
   ]
  },
  {
   "cell_type": "markdown",
   "metadata": {},
   "source": [
    "##### 121.买卖股票的最佳时期"
   ]
  },
  {
   "cell_type": "code",
   "execution_count": null,
   "metadata": {},
   "outputs": [],
   "source": []
  },
  {
   "cell_type": "code",
   "execution_count": null,
   "metadata": {},
   "outputs": [],
   "source": []
  },
  {
   "cell_type": "markdown",
   "metadata": {},
   "source": [
    "##### "
   ]
  },
  {
   "cell_type": "markdown",
   "metadata": {},
   "source": [
    "### 四、路径、距离等"
   ]
  },
  {
   "cell_type": "markdown",
   "metadata": {},
   "source": [
    "##### 62.不同路径"
   ]
  },
  {
   "cell_type": "code",
   "execution_count": null,
   "metadata": {},
   "outputs": [],
   "source": []
  },
  {
   "cell_type": "code",
   "execution_count": null,
   "metadata": {},
   "outputs": [],
   "source": []
  },
  {
   "cell_type": "markdown",
   "metadata": {},
   "source": [
    "##### 63.不同路径【有障碍】"
   ]
  },
  {
   "cell_type": "code",
   "execution_count": 233,
   "metadata": {},
   "outputs": [],
   "source": [
    "for i in range(0):\n",
    "    print(i)"
   ]
  },
  {
   "cell_type": "code",
   "execution_count": null,
   "metadata": {},
   "outputs": [],
   "source": []
  },
  {
   "cell_type": "markdown",
   "metadata": {},
   "source": [
    "##### 64.最小路径和"
   ]
  },
  {
   "cell_type": "code",
   "execution_count": null,
   "metadata": {},
   "outputs": [],
   "source": []
  },
  {
   "cell_type": "code",
   "execution_count": null,
   "metadata": {},
   "outputs": [],
   "source": []
  },
  {
   "cell_type": "markdown",
   "metadata": {},
   "source": [
    "##### 70.爬楼梯"
   ]
  },
  {
   "cell_type": "code",
   "execution_count": null,
   "metadata": {},
   "outputs": [],
   "source": []
  },
  {
   "cell_type": "code",
   "execution_count": null,
   "metadata": {},
   "outputs": [],
   "source": []
  },
  {
   "cell_type": "markdown",
   "metadata": {},
   "source": [
    "##### 96.不同的二叉搜索树"
   ]
  },
  {
   "cell_type": "markdown",
   "metadata": {},
   "source": [
    "##### "
   ]
  },
  {
   "cell_type": "code",
   "execution_count": null,
   "metadata": {},
   "outputs": [],
   "source": []
  },
  {
   "cell_type": "markdown",
   "metadata": {},
   "source": [
    "### 五、打家劫舍"
   ]
  },
  {
   "cell_type": "markdown",
   "metadata": {},
   "source": [
    "##### 198.打家劫舍"
   ]
  },
  {
   "cell_type": "code",
   "execution_count": null,
   "metadata": {},
   "outputs": [],
   "source": []
  },
  {
   "cell_type": "markdown",
   "metadata": {},
   "source": [
    "### 六、区间调度"
   ]
  },
  {
   "cell_type": "code",
   "execution_count": null,
   "metadata": {},
   "outputs": [],
   "source": []
  },
  {
   "cell_type": "code",
   "execution_count": null,
   "metadata": {},
   "outputs": [],
   "source": []
  },
  {
   "cell_type": "code",
   "execution_count": null,
   "metadata": {},
   "outputs": [],
   "source": []
  },
  {
   "cell_type": "code",
   "execution_count": 265,
   "metadata": {},
   "outputs": [],
   "source": [
    "def call():\n",
    "    a =int(input())\n",
    "    \n",
    "    if a==0:\n",
    "        return 0\n",
    "    \n",
    "\n",
    "    l=[]\n",
    "    for i in range(a):\n",
    "        n1,n2=map(int, input().split(','))\n",
    "        l.append((n1,1))\n",
    "        l.append((n2,0))\n",
    "\n",
    "    l.sort(key=lambda x:(x[0],x[1]))\n",
    "    res=0\n",
    "    now =0\n",
    "    for (v,type) in l:\n",
    "        if type==1:\n",
    "            now+=1\n",
    "        else:\n",
    "            now-=1\n",
    "        res=max(res,now)\n",
    "    return res"
   ]
  },
  {
   "cell_type": "markdown",
   "metadata": {},
   "source": [
    "6\n",
    "0,30\n",
    "0,50\n",
    "10,20\n",
    "15,30\n",
    "20,50\n",
    "20,65"
   ]
  },
  {
   "cell_type": "code",
   "execution_count": null,
   "metadata": {},
   "outputs": [],
   "source": []
  },
  {
   "cell_type": "markdown",
   "metadata": {},
   "source": [
    "# 股票"
   ]
  },
  {
   "cell_type": "code",
   "execution_count": null,
   "metadata": {},
   "outputs": [],
   "source": []
  },
  {
   "cell_type": "code",
   "execution_count": null,
   "metadata": {},
   "outputs": [],
   "source": []
  },
  {
   "cell_type": "code",
   "execution_count": null,
   "metadata": {},
   "outputs": [],
   "source": []
  }
 ],
 "metadata": {
  "kernelspec": {
   "display_name": "Python 3",
   "language": "python",
   "name": "python3"
  },
  "language_info": {
   "codemirror_mode": {
    "name": "ipython",
    "version": 3
   },
   "file_extension": ".py",
   "mimetype": "text/x-python",
   "name": "python",
   "nbconvert_exporter": "python",
   "pygments_lexer": "ipython3",
   "version": "3.7.4"
  },
  "toc": {
   "base_numbering": 1,
   "nav_menu": {},
   "number_sections": true,
   "sideBar": true,
   "skip_h1_title": false,
   "title_cell": "Table of Contents",
   "title_sidebar": "Contents",
   "toc_cell": false,
   "toc_position": {
    "height": "calc(100% - 180px)",
    "left": "10px",
    "top": "150px",
    "width": "221.68478393554688px"
   },
   "toc_section_display": true,
   "toc_window_display": true
  }
 },
 "nbformat": 4,
 "nbformat_minor": 2
}
